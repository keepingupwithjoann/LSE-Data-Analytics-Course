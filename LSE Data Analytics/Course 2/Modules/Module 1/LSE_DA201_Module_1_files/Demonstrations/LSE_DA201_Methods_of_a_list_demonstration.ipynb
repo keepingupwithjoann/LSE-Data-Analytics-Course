{
  "metadata": {
    "kernelspec": {
      "name": "python",
      "display_name": "Python (Pyodide)",
      "language": "python"
    },
    "language_info": {
      "codemirror_mode": {
        "name": "python",
        "version": 3
      },
      "file_extension": ".py",
      "mimetype": "text/x-python",
      "name": "python",
      "nbconvert_exporter": "python",
      "pygments_lexer": "ipython3",
      "version": "3.8"
    }
  },
  "nbformat_minor": 5,
  "nbformat": 4,
  "cells": [
    {
      "cell_type": "markdown",
      "source": "### LSE Data Analytics Online Career Accelerator \n\n# DA201:  Data Analytics with Python",
      "metadata": {},
      "id": "29a4ce79"
    },
    {
      "cell_type": "markdown",
      "source": "## Methods of a list (tutorial video)",
      "metadata": {},
      "id": "9e946919"
    },
    {
      "cell_type": "markdown",
      "source": "This file contains the code snippets that are introduced in the Methods of a list video. Follow along with the demonstration to:\n- add and remove elements from a list\n- join and sort lists.\n\nPlay and pause the video to follow along with the demonstration.",
      "metadata": {},
      "id": "fb6e7873"
    },
    {
      "cell_type": "markdown",
      "source": "### 1. Create a list",
      "metadata": {},
      "id": "553db8cb"
    },
    {
      "cell_type": "code",
      "source": "# Start with a list\ncheese = ['Brie', 'Mozzarella', 'Feta', 'Edam', 'Gouda', 'Camembert', 'Gruyere', 'Gorgonzola']",
      "metadata": {},
      "execution_count": null,
      "outputs": [],
      "id": "be2025b0"
    },
    {
      "cell_type": "markdown",
      "source": "### 2. Add elements to a list",
      "metadata": {},
      "id": "5fd91d81"
    },
    {
      "cell_type": "code",
      "source": "# Add a new item at the end of the list using the append() method.\ncheese.append('Blue')\n\n# View the list and its length.\nprint(cheese)\nprint(len(cheese))",
      "metadata": {},
      "execution_count": null,
      "outputs": [],
      "id": "4ace2b7f"
    },
    {
      "cell_type": "code",
      "source": "# Add a new item at the end of the list using the insert() method.\n# Here \"1\" is the index position.\n# Note: The index position in Python starts at 0.\ncheese.insert(1, 'Swiss')\n\n# View the list and its length.\nprint(cheese)\nprint(len(cheese))",
      "metadata": {},
      "execution_count": null,
      "outputs": [],
      "id": "67d3fd8e"
    },
    {
      "cell_type": "code",
      "source": "# Example of the extend() method.\n# Create a second list.\nnew_cheese = ['Parmesan']\n\n# Second list is appended to starting list.\ncheese.extend(new_cheese)\n\n# View the list and its length.\nprint(cheese)\nprint(len(cheese))",
      "metadata": {},
      "execution_count": null,
      "outputs": [],
      "id": "f486ff21"
    },
    {
      "cell_type": "markdown",
      "source": "### 3. Remove elements from a list",
      "metadata": {},
      "id": "4ba9cfd9"
    },
    {
      "cell_type": "code",
      "source": "# Example of the remove() method.\n# Remove the first instance of an item from the list.\ncheese.remove('Swiss') \n\n# View the list and its length.\nprint(cheese)\nprint(len(cheese))",
      "metadata": {},
      "execution_count": null,
      "outputs": [],
      "id": "d8a5a443"
    },
    {
      "cell_type": "code",
      "source": "# Example of the pop() method\n# Remove an item at a specific index position from the list.\n# Note: The index position in Python starts at 0.\ncheese.pop(8) \n\n# View the list and its length.\nprint(cheese)\nprint(len(cheese))",
      "metadata": {},
      "execution_count": null,
      "outputs": [],
      "id": "76c541f9"
    },
    {
      "cell_type": "code",
      "source": "# Example of the pop() method\n# No index specified\ncheese.pop()\n\n# View the list and its length.\nprint(cheese)\nprint(len(cheese))",
      "metadata": {},
      "execution_count": null,
      "outputs": [],
      "id": "609b003e"
    },
    {
      "cell_type": "markdown",
      "source": "### 4. Joining two lists (concatenate)",
      "metadata": {},
      "id": "acee1c59"
    },
    {
      "cell_type": "code",
      "source": "# Create two lists.\nfruit_1 = ['apple', 'strawberry', 'pear', 'raspberry']\nfruit_2 = ['apricot', 'peach', 'fig', 'plum']\n\n# View the two lists.\nprint(fruit_1)\nprint(fruit_2)",
      "metadata": {},
      "execution_count": null,
      "outputs": [],
      "id": "9ddf6e38"
    },
    {
      "cell_type": "code",
      "source": "# Join the two lists with the + operator.\nfruit = fruit_1 + fruit_2\n\n# View the list and its length.\nprint(fruit)\nprint(len(fruit))",
      "metadata": {},
      "execution_count": null,
      "outputs": [],
      "id": "a5e70f61"
    },
    {
      "cell_type": "markdown",
      "source": "### 5. Sorting lists",
      "metadata": {},
      "id": "c137e73f"
    },
    {
      "cell_type": "code",
      "source": "# Example of the sort() method.\n# The default is to sort in ascending order.\nfruit.sort()\n\n# View the list.\nprint(fruit)",
      "metadata": {},
      "execution_count": null,
      "outputs": [],
      "id": "099e3a61"
    },
    {
      "cell_type": "code",
      "source": "# Example of the sort() method.\n# To sort in descending order, the reverse is true.\nfruit.sort(reverse = True)\n\n# View the list.\nprint(fruit)",
      "metadata": {},
      "execution_count": null,
      "outputs": [],
      "id": "844200fb"
    }
  ]
}