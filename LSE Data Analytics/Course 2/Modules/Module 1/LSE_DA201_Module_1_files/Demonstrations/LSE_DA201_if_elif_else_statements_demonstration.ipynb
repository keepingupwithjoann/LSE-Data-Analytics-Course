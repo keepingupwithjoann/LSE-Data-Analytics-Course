{
 "cells": [
  {
   "cell_type": "markdown",
   "id": "d47353bb",
   "metadata": {},
   "source": [
    "### LSE Data Analytics Online Career Accelerator\n",
    "\n",
    "# DA201: Data Analytics using Python"
   ]
  },
  {
   "cell_type": "markdown",
   "id": "bb18b70e",
   "metadata": {},
   "source": [
    "## The IF statement in Python (tutorial video)"
   ]
  },
  {
   "cell_type": "markdown",
   "id": "cd66bba2",
   "metadata": {},
   "source": [
    "*Use this Jupyter Notebook to follow along with the tutorial video. You can pause the video to make notes as comments or text blocks.*\n",
    "\n",
    "Through control flow structures we can first introduce the conditions in the program and then, based on the condition, the corresponding statement is either executed or skipped. Python uses `if`, `elif`, `else`, `for`, and `while` keywords to control the flow of structure in your program. Remember keywords are reserved words in Python used to define syntax and structure. Almost like verbs in the English language.\n",
    "\n",
    "In this tutorial video, we will explore the `if`, `elif`, and `else` keywords."
   ]
  },
  {
   "cell_type": "markdown",
   "id": "1ca91dd0",
   "metadata": {},
   "source": [
    "## 1. The `if` statement"
   ]
  },
  {
   "cell_type": "code",
   "execution_count": null,
   "id": "470c2738",
   "metadata": {
    "scrolled": true
   },
   "outputs": [],
   "source": [
    "# Create two variables.\n",
    "a=10\n",
    "b=5\n",
    "\n",
    "# Use the if keyword.\n",
    "# State the condition as a>b.\n",
    "# Insert a colon to indicate the end of the if statement.\n",
    "# Press enter.\n",
    "if a>b:\n",
    "    # Python automatically inserts the correct indentation (4 spaces).\n",
    "    print(\"a is greater than b\")\n",
    "    # Execude the code."
   ]
  },
  {
   "cell_type": "code",
   "execution_count": null,
   "id": "903848d5",
   "metadata": {
    "scrolled": true
   },
   "outputs": [],
   "source": [
    "# Create two variables.\n",
    "a=10\n",
    "b=5\n",
    "\n",
    "# Use the if keyword.\n",
    "# State the condition as a<b.\n",
    "# Insert a colon to indicate the end of the if statement.\n",
    "# Press enter.\n",
    "if a<b:\n",
    "    # Python automatically inserts the correct indentation (4 spaces).\n",
    "    print(\"a is greater than b\")\n",
    "    # Execude the code."
   ]
  },
  {
   "cell_type": "markdown",
   "id": "caa2ac34",
   "metadata": {},
   "source": [
    "### Python did not return an output as the `if` statement was not true."
   ]
  },
  {
   "cell_type": "markdown",
   "id": "ad351640",
   "metadata": {},
   "source": [
    "# "
   ]
  },
  {
   "cell_type": "markdown",
   "id": "4db6a8fb",
   "metadata": {},
   "source": [
    "## 2. The `elif` statement"
   ]
  },
  {
   "cell_type": "code",
   "execution_count": null,
   "id": "5e91589b",
   "metadata": {
    "scrolled": true
   },
   "outputs": [],
   "source": [
    "# Create two variables.\n",
    "a=10\n",
    "b=5\n",
    "\n",
    "# Use the if keyword.\n",
    "# State the condition as a>b.\n",
    "# Insert a colon to indicate the end of the if statement.\n",
    "# Press enter.\n",
    "if a>b:\n",
    "    # Python automatically inserts the correct indentation (4 spaces).\n",
    "    print(\"a is greater than b\")\n",
    "    \n",
    "# Use the elif keyword.\n",
    "# State the conditions as a<b.\n",
    "# Insert a colon to indicate the end of the if statement.\n",
    "# Press enter.\n",
    "elif a<b:\n",
    "    # Python automatically inserts the correct indentation (4 spaces).\n",
    "    print(\"a is less than b\")\n",
    "    # Execude the code."
   ]
  },
  {
   "cell_type": "markdown",
   "id": "a86bf52a",
   "metadata": {},
   "source": [
    "#### The `if` statement is still true and ignored the `elif` statement."
   ]
  },
  {
   "cell_type": "code",
   "execution_count": null,
   "id": "25f56eae",
   "metadata": {
    "scrolled": true
   },
   "outputs": [],
   "source": [
    "# Create two variables.\n",
    "a=10\n",
    "b=50\n",
    "\n",
    "# Use the if keyword.\n",
    "# State the condition as a>b.\n",
    "# Insert a colon to indicate the end of the if statement.\n",
    "# Press enter.\n",
    "if a>b:\n",
    "    # Python automatically inserts the correct indentation (4 spaces).\n",
    "    print(\"a is greater than b\")\n",
    "    \n",
    "# Use the elif keyword.\n",
    "# State the conditions as a<b.\n",
    "# Insert a colon to indicate the end of the if statement.\n",
    "# Press enter.\n",
    "elif a<b:\n",
    "    # Python automatically inserts the correct indentation (4 spaces).\n",
    "    print(\"a is less than b\")\n",
    "    # Execude the code."
   ]
  },
  {
   "cell_type": "markdown",
   "id": "f96eb04f",
   "metadata": {},
   "source": [
    "#### The `if` statement is false and Python returned the `elif` statement."
   ]
  },
  {
   "cell_type": "markdown",
   "id": "40048c01",
   "metadata": {},
   "source": [
    "# "
   ]
  },
  {
   "cell_type": "markdown",
   "id": "7c4f2cc7",
   "metadata": {},
   "source": [
    "## 3. The `else` statement"
   ]
  },
  {
   "cell_type": "code",
   "execution_count": null,
   "id": "ca3afa97",
   "metadata": {
    "scrolled": true
   },
   "outputs": [],
   "source": [
    "# Create two variables.\n",
    "a=50\n",
    "b=50\n",
    "\n",
    "# Use the if keyword.\n",
    "# State the condition as a>b.\n",
    "# Insert a colon to indicate the end of the if statement.\n",
    "# Press enter.\n",
    "if a>b:\n",
    "    # Python automatically inserts the correct indentation (4 spaces).\n",
    "    print(\"a is greater than b\")\n",
    "    \n",
    "# Use the elif keyword.\n",
    "# State the conditions as a<b.\n",
    "# Insert a colon to indicate the end of the if statement.\n",
    "# Press enter.\n",
    "elif a<b:\n",
    "    # Python automatically inserts the correct indentation (4 spaces).\n",
    "    print(\"a is less than b\")\n",
    "    \n",
    "# Use the else keyword.\n",
    "# Insert a colon to indicate the end of the if statement.\n",
    "# Press enter.\n",
    "else:\n",
    "    # Python automatically inserts the correct indentation (4 spaces).\n",
    "    print(\"a is equal to b\")\n",
    "    # Execude the code."
   ]
  },
  {
   "cell_type": "markdown",
   "id": "fd893f86",
   "metadata": {},
   "source": [
    "### The `if` and `elif` statements were false and Python returned the `else` statement."
   ]
  },
  {
   "cell_type": "markdown",
   "id": "f31ca692",
   "metadata": {},
   "source": [
    "# "
   ]
  },
  {
   "cell_type": "markdown",
   "id": "2992780e",
   "metadata": {},
   "source": [
    "# Summary:\n",
    "Python ignores a statement if the condition is false, but will return the first condition that is true."
   ]
  },
  {
   "cell_type": "code",
   "execution_count": null,
   "id": "7592083a",
   "metadata": {
    "scrolled": true
   },
   "outputs": [],
   "source": []
  }
 ],
 "metadata": {
  "kernelspec": {
   "display_name": "Python 3 (ipykernel)",
   "language": "python",
   "name": "python3"
  },
  "language_info": {
   "codemirror_mode": {
    "name": "ipython",
    "version": 3
   },
   "file_extension": ".py",
   "mimetype": "text/x-python",
   "name": "python",
   "nbconvert_exporter": "python",
   "pygments_lexer": "ipython3",
   "version": "3.9.12"
  }
 },
 "nbformat": 4,
 "nbformat_minor": 5
}
