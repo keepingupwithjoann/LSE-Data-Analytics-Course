{
 "cells": [
  {
   "cell_type": "markdown",
   "id": "d47353bb",
   "metadata": {},
   "source": [
    "### LSE Data Analytics Online Career Accelerator\n",
    "\n",
    "# DA201: Data Analytics using Python"
   ]
  },
  {
   "cell_type": "markdown",
   "id": "bb18b70e",
   "metadata": {},
   "source": [
    "## Fibonacci Series in loops (tutorial video)"
   ]
  },
  {
   "cell_type": "markdown",
   "id": "cd66bba2",
   "metadata": {},
   "source": [
    "*Use this Jupyter Notebook to follow along with the tutorial video. You can pause the video to make notes as comments or text blocks.*\n",
    "\n",
    "Loops are used to iterate over a sequence, for example, lists, dictionaries, tuples, and sets. Let's investigate the Fibonacci Series."
   ]
  },
  {
   "cell_type": "markdown",
   "id": "29a6d232",
   "metadata": {},
   "source": [
    "## Example of a `for` loop"
   ]
  },
  {
   "cell_type": "code",
   "execution_count": null,
   "id": "1cf42b41",
   "metadata": {},
   "outputs": [],
   "source": [
    "# Create a variable.\n",
    "beverages = ['coffee', 'tea', 'juices']\n",
    "\n",
    "for beverage in beverages:\n",
    "    print(beverage)"
   ]
  },
  {
   "cell_type": "markdown",
   "id": "1ca91dd0",
   "metadata": {},
   "source": [
    "## Fibonacci Series with `for` and `while` loops"
   ]
  },
  {
   "cell_type": "code",
   "execution_count": null,
   "id": "470c2738",
   "metadata": {},
   "outputs": [],
   "source": [
    "# Create a list with the first and second values of the Fibonacci series:\n",
    "list_1 = [0, 1]\n",
    "\n",
    "# Indicate n = the number of terms.\n",
    "n = int(input(\"Enter number of term: \"))\n",
    "if n ==1:\n",
    "    print('0')\n",
    "elif n == 2:\n",
    "    print(list_1)\n",
    "else:\n",
    "    while(len(list_1) < n):\n",
    "        list_1.append(0)\n",
    "    if (n == 0 or n == 1):\n",
    "        print(1)\n",
    "    else:\n",
    "        list_1[0] = 0\n",
    "        list_1[1] = 1\n",
    "        for i in range(2, n):\n",
    "            list_1[i] = list_1[i-1]+list_1[i-2]\n",
    "            print(f'First {n} terms of Fibonacci Series {list_1}')"
   ]
  },
  {
   "cell_type": "markdown",
   "id": "045f56f2",
   "metadata": {},
   "source": [
    "#### Type any number in the open square and press enter."
   ]
  },
  {
   "cell_type": "code",
   "execution_count": null,
   "id": "e184e6df",
   "metadata": {},
   "outputs": [],
   "source": []
  }
 ],
 "metadata": {
  "kernelspec": {
   "display_name": "Python 3 (ipykernel)",
   "language": "python",
   "name": "python3"
  },
  "language_info": {
   "codemirror_mode": {
    "name": "ipython",
    "version": 3
   },
   "file_extension": ".py",
   "mimetype": "text/x-python",
   "name": "python",
   "nbconvert_exporter": "python",
   "pygments_lexer": "ipython3",
   "version": "3.9.12"
  }
 },
 "nbformat": 4,
 "nbformat_minor": 5
}
