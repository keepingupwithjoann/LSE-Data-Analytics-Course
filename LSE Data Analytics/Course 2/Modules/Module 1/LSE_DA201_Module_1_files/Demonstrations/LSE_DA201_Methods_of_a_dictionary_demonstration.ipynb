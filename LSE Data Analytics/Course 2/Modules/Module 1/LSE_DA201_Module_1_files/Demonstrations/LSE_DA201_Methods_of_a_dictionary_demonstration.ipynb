{
  "metadata": {
    "kernelspec": {
      "name": "python",
      "display_name": "Python (Pyodide)",
      "language": "python"
    },
    "language_info": {
      "codemirror_mode": {
        "name": "python",
        "version": 3
      },
      "file_extension": ".py",
      "mimetype": "text/x-python",
      "name": "python",
      "nbconvert_exporter": "python",
      "pygments_lexer": "ipython3",
      "version": "3.8"
    }
  },
  "nbformat_minor": 5,
  "nbformat": 4,
  "cells": [
    {
      "cell_type": "markdown",
      "source": "### LSE Data Analytics Online Career Accelerator \n\n# DA201:  Data Analytics with Python",
      "metadata": {},
      "id": "f0383dea"
    },
    {
      "cell_type": "markdown",
      "source": "## Methods of a dictionary (tutorial video)",
      "metadata": {},
      "id": "d73f86d0"
    },
    {
      "cell_type": "markdown",
      "source": "This file contains the code snippets that are introduced in the Methods of a dictionary video. Follow along with the demonstration to:\n- delete an entry from a dictionary\n- iterate through keys and values\n- create a dictionary from a sequence.\n\nPlay and pause the video to follow along with the demonstration.",
      "metadata": {},
      "id": "d328ce8e"
    },
    {
      "cell_type": "markdown",
      "source": "### 1. Create a dictionary",
      "metadata": {},
      "id": "d9577ab8"
    },
    {
      "cell_type": "code",
      "source": "# Create a dictionary\nd1 = {'key1': 'Name',\n     'key2': 'Age',\n     'key3': 'Nationality',\n     'key4': 'Email'}",
      "metadata": {},
      "execution_count": null,
      "outputs": [],
      "id": "2381be86"
    },
    {
      "cell_type": "markdown",
      "source": "### 2. Delete an entry",
      "metadata": {},
      "id": "5fcf031d"
    },
    {
      "cell_type": "code",
      "source": "# Example of deleting an entry from a dictionary.\n# Delete an entry.\ndel d1['key1']\n\nprint(d1)",
      "metadata": {},
      "execution_count": null,
      "outputs": [],
      "id": "f71a6b14"
    },
    {
      "cell_type": "code",
      "source": "# Example of deleting an entry from a dictionary using the pop() method\n# Delete key 3.\nd1.pop('key3')\n\nprint(d1)",
      "metadata": {},
      "execution_count": null,
      "outputs": [],
      "id": "ee51acc6"
    },
    {
      "cell_type": "markdown",
      "source": "### 3. Key and value iterators",
      "metadata": {},
      "id": "55dd15d9"
    },
    {
      "cell_type": "code",
      "source": "# Example of the keys() method to retrieve keys from a dictionary.\n# Create a dictionary.\nd2 = {'key1': 'Name',\n     'key2': 'Age',\n     'key3': 'Nationality'}\n\n# Show keys only.\nprint(d2.keys())",
      "metadata": {},
      "execution_count": null,
      "outputs": [],
      "id": "56e7d23d"
    },
    {
      "cell_type": "code",
      "source": "# Example of the values() method to retrieve values from a dictionary.\n# Show values only.\nprint(d2.values())",
      "metadata": {},
      "execution_count": null,
      "outputs": [],
      "id": "622d7a25"
    },
    {
      "cell_type": "markdown",
      "source": "### 4. Create a dictionary from sequence",
      "metadata": {},
      "id": "e62c8238"
    },
    {
      "cell_type": "code",
      "source": "# Example of creating a dictionary from a sequence.\n# Create two sequences.\nkey_list = ['key1', 'key2', 'key3', 'key4', 'key5']\nvalue_list = ['Apple', 'Fruit', 'Red', 'Juicy', 'Firm']\n\n# View keys.\nprint(key_list)\n# View values.\nprint(value_list)\n\n# Create a new dictionary.\nd3 = dict(zip(key_list, value_list))\n\n# View dictionary.\nprint(d3)",
      "metadata": {},
      "execution_count": null,
      "outputs": [],
      "id": "c2cf06e8"
    }
  ]
}