{
  "metadata": {
    "kernelspec": {
      "name": "python",
      "display_name": "Python (Pyodide)",
      "language": "python"
    },
    "language_info": {
      "codemirror_mode": {
        "name": "python",
        "version": 3
      },
      "file_extension": ".py",
      "mimetype": "text/x-python",
      "name": "python",
      "nbconvert_exporter": "python",
      "pygments_lexer": "ipython3",
      "version": "3.8"
    }
  },
  "nbformat_minor": 5,
  "nbformat": 4,
  "cells": [
    {
      "cell_type": "markdown",
      "source": "### LSE Data Analytics Online Career Accelerator \n\n# DA201:  Data Analytics with Python",
      "metadata": {},
      "id": "0ec3aaca"
    },
    {
      "cell_type": "markdown",
      "source": "## Methods of a set (tutorial video)",
      "metadata": {},
      "id": "84d27caa"
    },
    {
      "cell_type": "markdown",
      "source": "This file contains the code snippets that are introduced in the Methods of a set video. Follow along with the demonstration to:\n- add items to a set \n- add items from one set to another \n- use the set union method\n- use the set intersection method\n- use the set difference method\n- use the set symmetric difference method.  \n\n\nPlay and pause the video to follow along with the demonstration.",
      "metadata": {},
      "id": "c990b657"
    },
    {
      "cell_type": "markdown",
      "source": "### 1. Create two sets",
      "metadata": {},
      "id": "d3bca770"
    },
    {
      "cell_type": "code",
      "source": "# Create two sets.\nset1 = set([1, 2, 3, 4, 4, 2])\nset2 = {5, 6, 7, 7, 6, 5}",
      "metadata": {},
      "execution_count": null,
      "outputs": [],
      "id": "9b964af5"
    },
    {
      "cell_type": "markdown",
      "source": "### 2. Add items to a set",
      "metadata": {},
      "id": "9c9c1f35"
    },
    {
      "cell_type": "code",
      "source": "# Example of adding an item to a set\n# Use the .add() method.\nset1.add('cake')\n\n# View the set.\nprint(set1)",
      "metadata": {},
      "execution_count": null,
      "outputs": [],
      "id": "6f5842dd"
    },
    {
      "cell_type": "markdown",
      "source": "### 3. Add items from one set to another set",
      "metadata": {},
      "id": "98ac42e5"
    },
    {
      "cell_type": "code",
      "source": "# Example of adding an item to a set.\n# Use the update() method.\nset1.update(set2)\n\n# View the set.\nprint(set1)",
      "metadata": {},
      "execution_count": null,
      "outputs": [],
      "id": "02d01c85"
    },
    {
      "cell_type": "markdown",
      "source": "### 4. The set union method",
      "metadata": {},
      "id": "7fe19019"
    },
    {
      "cell_type": "code",
      "source": "# Example of the union() method\n# Create two new sets.\nset3 = {'apple', 'banana', 'cherry'}\nset4 = {'google', 'microsoft', 'apple'}\n\n# View set1, set3, and set4.\nprint(set1)\nprint(set3)\nprint(set4)",
      "metadata": {},
      "execution_count": null,
      "outputs": [],
      "id": "2431219b"
    },
    {
      "cell_type": "code",
      "source": "# Syntax: set.union(set1, set2...).\nset5 = set1.union(set3, set4)\n\n# View the set.\nprint(set5)",
      "metadata": {},
      "execution_count": null,
      "outputs": [],
      "id": "d0ced138"
    },
    {
      "cell_type": "markdown",
      "source": "### 5. The set intersection method",
      "metadata": {},
      "id": "6687fdc0"
    },
    {
      "cell_type": "code",
      "source": "# View the sets.\nprint(set3)\nprint(set4)",
      "metadata": {},
      "execution_count": null,
      "outputs": [],
      "id": "5f48e2d0"
    },
    {
      "cell_type": "code",
      "source": "# Example of the intersection() method.\n# Use the intersection() method.\n# Syntax: set.intersection(set1, set2 ... etc).\nz = set3.intersection(set4)\n\n# View the set.\nprint(z)",
      "metadata": {},
      "execution_count": null,
      "outputs": [],
      "id": "5a552713"
    },
    {
      "cell_type": "markdown",
      "source": "### 6. The set difference method",
      "metadata": {},
      "id": "c6f05097"
    },
    {
      "cell_type": "code",
      "source": "# Example of the .difference() method.\n# Syntax: set.difference(set).\nx = set4.difference(set3)\n\n# View the set.\nprint(x)",
      "metadata": {},
      "execution_count": null,
      "outputs": [],
      "id": "2290c659"
    },
    {
      "cell_type": "markdown",
      "source": "### 7. The set symmetric difference method",
      "metadata": {},
      "id": "f82a9b90"
    },
    {
      "cell_type": "code",
      "source": "# Example of the symmetric_difference() method.\n# Syntax: set.symmetric_difference(set).\na = set1.symmetric_difference(set2)\n\n# View the set.\nprint(a)",
      "metadata": {},
      "execution_count": null,
      "outputs": [],
      "id": "d440673b"
    }
  ]
}