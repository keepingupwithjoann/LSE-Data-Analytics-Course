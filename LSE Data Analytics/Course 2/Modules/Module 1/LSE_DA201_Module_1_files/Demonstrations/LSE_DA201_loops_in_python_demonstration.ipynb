{
 "cells": [
  {
   "cell_type": "markdown",
   "id": "d47353bb",
   "metadata": {},
   "source": [
    "### LSE Data Analytics Online Career Accelerator\n",
    "\n",
    "# DA201: Data Analytics using Python"
   ]
  },
  {
   "cell_type": "markdown",
   "id": "bb18b70e",
   "metadata": {},
   "source": [
    "## Loops in Python (tutorial video)"
   ]
  },
  {
   "cell_type": "markdown",
   "id": "cd66bba2",
   "metadata": {},
   "source": [
    "*Use this Jupyter Notebook to follow along with the tutorial video. You can pause the video to make notes as comments or text blocks.*\n",
    "\n",
    "Through control flow structures we can first introduce the conditions in the program and then, based on the condition, the corresponding statement is either executed or skipped. Python uses `if`, `elif`, `else`, `for`, and `while` keywords to control the structure flow in your program. Remember keywords are reserved words in Python that tell the program what action to take. Almost like verbs in the English language.\n",
    "\n",
    "In this tutorial video, we will explore the `for`, and `while` loops. Loops are used to iterate over a sequence, for example, lists, dictionaries, tuples, and sets."
   ]
  },
  {
   "cell_type": "markdown",
   "id": "1ca91dd0",
   "metadata": {},
   "source": [
    "## 1. The `while` loop statement"
   ]
  },
  {
   "cell_type": "code",
   "execution_count": null,
   "id": "1cf42b41",
   "metadata": {},
   "outputs": [],
   "source": [
    "# JUST FOR ILLUSTRATIVE PURPOSES.\n",
    "# IF YOU RUN THIS CODE YOU WILL GET AN ERROR.\n",
    "\n",
    "# The while loop.\n",
    "while condition:\n",
    "    executable code\n",
    "    executable code\n",
    "    \n",
    "executable code"
   ]
  },
  {
   "cell_type": "code",
   "execution_count": null,
   "id": "470c2738",
   "metadata": {},
   "outputs": [],
   "source": [
    "# Create a variable.\n",
    "counter = 0\n",
    "\n",
    "# Press enter to create an open line.\n",
    "# Use the while keyword.\n",
    "# State the condition as counter<5.\n",
    "# Insert a colon.\n",
    "# Press enter.\n",
    "while counter < 5:\n",
    "    # Python automatically inserts the correct indentation (4 spaces).\n",
    "    # Indicate that the condition counter should be printed and press Enter.\n",
    "    print(counter)\n",
    "    # Insert what the condition should equal.\n",
    "    # For example, in each loop, the value of the counter will be increased with 1.\n",
    "    counter = counter + 1\n",
    "    # Execude the code."
   ]
  },
  {
   "cell_type": "code",
   "execution_count": null,
   "id": "903848d5",
   "metadata": {},
   "outputs": [],
   "source": [
    "# Create a variable.\n",
    "counter = 0\n",
    "\n",
    "# Press Enter to create an open line.\n",
    "# Use the while keyword.\n",
    "# State the condition as counter<5.\n",
    "# Insert a colon.\n",
    "# Press Enter.\n",
    "while counter < 5:\n",
    "    # Python automatically inserts the correct indentation (4 spaces).\n",
    "    # Indicate that the condition counter should be printed and press Enter.\n",
    "    print(counter)\n",
    "    # Insert what the condition should equal.\n",
    "    # For example, in each loop, the value of the counter will be increased with 1.\n",
    "    counter = counter + 1\n",
    "    \n",
    "# Insert a print statement outside the loop.\n",
    "print(\"This will print once\")\n",
    "# Execude the code."
   ]
  },
  {
   "cell_type": "markdown",
   "id": "4db6a8fb",
   "metadata": {},
   "source": [
    "## 2. The `for` loop"
   ]
  },
  {
   "cell_type": "code",
   "execution_count": null,
   "id": "b1c2fc6f",
   "metadata": {},
   "outputs": [],
   "source": [
    "# JUST FOR ILLUSTRATIVE PURPOSES.\n",
    "# IF YOU RUN THIS CODE YOU WILL GET AN ERROR.\n",
    "\n",
    "# The for loop.\n",
    "for condition:\n",
    "    executable code\n",
    "    executable code\n",
    "    \n",
    "executable code"
   ]
  },
  {
   "cell_type": "code",
   "execution_count": null,
   "id": "5e91589b",
   "metadata": {},
   "outputs": [],
   "source": [
    "# Use the for keyword.\n",
    "# State the condition as counter<5.\n",
    "# Insert a colon.\n",
    "# Press Enter.\n",
    "for i in range(5):\n",
    "    # Python automatically inserts the correct indentation (4 spaces).\n",
    "    # Indicate that the condition should be printed and press Enter.\n",
    "    print(\"hello world\")"
   ]
  },
  {
   "cell_type": "code",
   "execution_count": null,
   "id": "25f56eae",
   "metadata": {},
   "outputs": [],
   "source": [
    "# Use the for keyword.\n",
    "# State the condition as counter<5.\n",
    "# Insert a colon.\n",
    "# Press Enter.\n",
    "for i in range(5):\n",
    "    # Python automatically inserts the correct indentation (4 spaces).\n",
    "    # Indicate that the condition should be printed and press Enter.\n",
    "    print(\"hello world :\", i)"
   ]
  },
  {
   "cell_type": "code",
   "execution_count": null,
   "id": "bc358433",
   "metadata": {},
   "outputs": [],
   "source": [
    "# Insert a list.\n",
    "# Use the for keyword.\n",
    "# State the condition as counter<5.\n",
    "# Insert a colon.\n",
    "# Press Enter.\n",
    "for i in [10, 100, 1000]:\n",
    "    # Python automatically inserts the correct indentation (4 spaces).\n",
    "    # Indicate that the condition should be printed and press Enter.\n",
    "    print(\"hello world :\", i)"
   ]
  },
  {
   "cell_type": "markdown",
   "id": "2992780e",
   "metadata": {},
   "source": [
    "### Summary:\n",
    "- while loop = logical condition\n",
    "- for loop = replace a simple list command"
   ]
  },
  {
   "cell_type": "code",
   "execution_count": null,
   "id": "7592083a",
   "metadata": {},
   "outputs": [],
   "source": []
  }
 ],
 "metadata": {
  "kernelspec": {
   "display_name": "Python 3 (ipykernel)",
   "language": "python",
   "name": "python3"
  },
  "language_info": {
   "codemirror_mode": {
    "name": "ipython",
    "version": 3
   },
   "file_extension": ".py",
   "mimetype": "text/x-python",
   "name": "python",
   "nbconvert_exporter": "python",
   "pygments_lexer": "ipython3",
   "version": "3.9.12"
  }
 },
 "nbformat": 4,
 "nbformat_minor": 5
}
