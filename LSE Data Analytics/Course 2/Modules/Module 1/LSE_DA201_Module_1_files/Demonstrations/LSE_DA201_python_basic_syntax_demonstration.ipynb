{
 "cells": [
  {
   "cell_type": "markdown",
   "id": "d47353bb",
   "metadata": {},
   "source": [
    "### LSE Data Analytics Online Career Accelerator\n",
    "\n",
    "# DA201: Data Analytics using Python"
   ]
  },
  {
   "cell_type": "markdown",
   "id": "bb18b70e",
   "metadata": {},
   "source": [
    "## Python Basic Syntax (tutorial video)"
   ]
  },
  {
   "cell_type": "markdown",
   "id": "1ffff983",
   "metadata": {},
   "source": [
    "Use this Jupyter Notebook to follow along with the tutorial video. You can pause the video to make notes as comments or text blocks."
   ]
  },
  {
   "cell_type": "markdown",
   "id": "8842ef6b",
   "metadata": {},
   "source": [
    "## Print statement"
   ]
  },
  {
   "cell_type": "code",
   "execution_count": null,
   "id": "470c2738",
   "metadata": {},
   "outputs": [],
   "source": [
    "# Print statement with double quotes.\n",
    "print(\"Hello World\")"
   ]
  },
  {
   "cell_type": "code",
   "execution_count": null,
   "id": "babcf08c",
   "metadata": {},
   "outputs": [],
   "source": [
    "# Print statement with single quotes.\n",
    "print('Hello World')"
   ]
  },
  {
   "cell_type": "code",
   "execution_count": null,
   "id": "17442540",
   "metadata": {},
   "outputs": [],
   "source": [
    "# Print Hello World based on a condition.\n",
    "\n",
    "# If statements - if condition is true, it will print Hello World.\n",
    "if 5>2:\n",
    "    print(\"Hello World\")"
   ]
  },
  {
   "cell_type": "code",
   "execution_count": null,
   "id": "47267dfe",
   "metadata": {},
   "outputs": [],
   "source": [
    "# If statement - if condition is not true.\n",
    "if 5<2:\n",
    "    print(\"Hello World\")"
   ]
  },
  {
   "cell_type": "code",
   "execution_count": null,
   "id": "1d247319",
   "metadata": {},
   "outputs": [],
   "source": [
    "# What if you remove the indent?\n",
    "\n",
    "if 5>2:\n",
    "print(\"Hello World\")"
   ]
  },
  {
   "cell_type": "markdown",
   "id": "b257c8ca",
   "metadata": {},
   "source": [
    "# "
   ]
  },
  {
   "cell_type": "markdown",
   "id": "d36bb09d",
   "metadata": {},
   "source": [
    "## Basic mathematical equations"
   ]
  },
  {
   "cell_type": "code",
   "execution_count": null,
   "id": "66c48692",
   "metadata": {},
   "outputs": [],
   "source": [
    "# Type in any calculation.\n",
    "# Python performs calculations based on priorities.\n",
    "2*5+6"
   ]
  },
  {
   "cell_type": "code",
   "execution_count": null,
   "id": "def26703",
   "metadata": {},
   "outputs": [],
   "source": [
    "# What about brackets?\n",
    "# Brackets have a higher priority.\n",
    "2*(5+6)"
   ]
  },
  {
   "cell_type": "markdown",
   "id": "674db757",
   "metadata": {},
   "source": [
    "# "
   ]
  },
  {
   "cell_type": "markdown",
   "id": "a3320d9d",
   "metadata": {},
   "source": [
    "## Data structures in Python"
   ]
  },
  {
   "cell_type": "markdown",
   "id": "483402a0",
   "metadata": {},
   "source": [
    "### a) list"
   ]
  },
  {
   "cell_type": "code",
   "execution_count": null,
   "id": "958b503c",
   "metadata": {},
   "outputs": [],
   "source": [
    "# A list is an ordered sequence of elements.\n",
    "# Each element or value inside a list is called an item.\n",
    "\n",
    "list1 = ['apple', 5 ,'orange']\n",
    "\n",
    "# View the list.\n",
    "print(list1)"
   ]
  },
  {
   "cell_type": "code",
   "execution_count": null,
   "id": "f7f7e1e3",
   "metadata": {},
   "outputs": [],
   "source": [
    "# Access the element inside the list with the index.\n",
    "# The index starts at 0.\n",
    "list1[0]"
   ]
  },
  {
   "cell_type": "code",
   "execution_count": null,
   "id": "8de13b54",
   "metadata": {},
   "outputs": [],
   "source": [
    "# View index 1.\n",
    "list1[1]"
   ]
  },
  {
   "cell_type": "code",
   "execution_count": null,
   "id": "577ca2df",
   "metadata": {},
   "outputs": [],
   "source": [
    "# View index 2.\n",
    "list1[2]"
   ]
  },
  {
   "cell_type": "markdown",
   "id": "da85d0c3",
   "metadata": {},
   "source": [
    "# "
   ]
  },
  {
   "cell_type": "markdown",
   "id": "305fdcfc",
   "metadata": {},
   "source": [
    "## Shortcuts when using Jupyter Notebook"
   ]
  },
  {
   "cell_type": "markdown",
   "id": "e480f7c2",
   "metadata": {},
   "source": [
    "### Add a cell above the cell you are currently in\n",
    "- press escape and the colour of the cell will change from green to blue\n",
    "- press a "
   ]
  },
  {
   "cell_type": "markdown",
   "id": "9eefddd1",
   "metadata": {},
   "source": [
    "### Add a cell below the cell you are currently in\n",
    "- press escape and the colour of the cell will change from green to blue\n",
    "- press b "
   ]
  },
  {
   "cell_type": "markdown",
   "id": "f132408f",
   "metadata": {},
   "source": [
    "### Delete the cell that you are currently in\n",
    "- double press d"
   ]
  },
  {
   "cell_type": "code",
   "execution_count": null,
   "id": "47207a39",
   "metadata": {},
   "outputs": [],
   "source": []
  }
 ],
 "metadata": {
  "kernelspec": {
   "display_name": "Python 3 (ipykernel)",
   "language": "python",
   "name": "python3"
  },
  "language_info": {
   "codemirror_mode": {
    "name": "ipython",
    "version": 3
   },
   "file_extension": ".py",
   "mimetype": "text/x-python",
   "name": "python",
   "nbconvert_exporter": "python",
   "pygments_lexer": "ipython3",
   "version": "3.9.12"
  }
 },
 "nbformat": 4,
 "nbformat_minor": 5
}
