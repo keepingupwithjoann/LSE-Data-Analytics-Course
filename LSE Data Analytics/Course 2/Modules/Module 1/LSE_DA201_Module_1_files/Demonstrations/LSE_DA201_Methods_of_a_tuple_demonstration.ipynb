{
  "metadata": {
    "kernelspec": {
      "name": "python",
      "display_name": "Python (Pyodide)",
      "language": "python"
    },
    "language_info": {
      "codemirror_mode": {
        "name": "python",
        "version": 3
      },
      "file_extension": ".py",
      "mimetype": "text/x-python",
      "name": "python",
      "nbconvert_exporter": "python",
      "pygments_lexer": "ipython3",
      "version": "3.8"
    }
  },
  "nbformat_minor": 5,
  "nbformat": 4,
  "cells": [
    {
      "cell_type": "markdown",
      "source": "### LSE Data Analytics Online Career Accelerator \n\n# DA201:  Data Analytics with Python",
      "metadata": {},
      "id": "8a50df2c"
    },
    {
      "cell_type": "markdown",
      "source": "## Methods of a tuple (tutorial video)",
      "metadata": {},
      "id": "88f59c42"
    },
    {
      "cell_type": "markdown",
      "source": "This file contains the code snippets that are introduced in the Methods of a tuple video. Follow along with the demonstration to:\n- check tuple length\n- use the tuple initiator\n- access tuple items\n- combine tuples\n- return specific items from a tuple.\n\nPlay and pause the video to follow along with the demonstration.",
      "metadata": {},
      "id": "a149b073"
    },
    {
      "cell_type": "markdown",
      "source": "### 1. Create a tuple and check its length",
      "metadata": {},
      "id": "fe4f5298"
    },
    {
      "cell_type": "code",
      "source": "# Example of the len() function to check the number of items in a tuple.\n# Start with a tuple.\nspices = ('Pepper', 'Thyme', 'Cinnamon', 'Oregano', 'Rosemary')\n\n# View the tuple.\n# Measure the length of the tuple.\nprint(spices)\nlen(spices)",
      "metadata": {},
      "execution_count": null,
      "outputs": [],
      "id": "2ef26b89"
    },
    {
      "cell_type": "markdown",
      "source": "### 2. Use the tuple initiator to create a tuple",
      "metadata": {},
      "id": "fd200eec"
    },
    {
      "cell_type": "code",
      "source": "# Example of the tuple() initiator to create a tuple. \n# Notice the round brackets.\ntup_1 = tuple(['Basil', 'Anise'])\n\n# View the tuple.\ntup_1",
      "metadata": {},
      "execution_count": null,
      "outputs": [],
      "id": "f028600d"
    },
    {
      "cell_type": "markdown",
      "source": "### 3. Accessing tuple items",
      "metadata": {},
      "id": "161ecd1b"
    },
    {
      "cell_type": "code",
      "source": "# Example of indexing to access a tuple item.\n# Note: The index position in Python starts at 0.\n# Locate item at index position 1.\nspices[1]\n\n# View the item.\nprint(spices[1])",
      "metadata": {},
      "execution_count": null,
      "outputs": [],
      "id": "75983ae8"
    },
    {
      "cell_type": "markdown",
      "source": "### 4. Combining tuples",
      "metadata": {},
      "id": "bcde83bf"
    },
    {
      "cell_type": "code",
      "source": "# Example of using the + operator to combine tuples.\ntotal_spices = spices + tup_1\n\n# This will show the concatenated tuple and its length.\nprint(total_spices)\nprint(len(total_spices))",
      "metadata": {},
      "execution_count": null,
      "outputs": [],
      "id": "f3105539"
    },
    {
      "cell_type": "code",
      "source": "# Example of using the * operator to multiply a tuple.\n# This will make three copies of the tuple.\nspices * 3",
      "metadata": {},
      "execution_count": null,
      "outputs": [],
      "id": "fc8c09e2"
    },
    {
      "cell_type": "markdown",
      "source": "### 5. Max and min functions",
      "metadata": {},
      "id": "c301e381"
    },
    {
      "cell_type": "code",
      "source": "# Example of using max() and min() to return specific items.\namount = (500, 250, 333, 450, 100)\n\n# This will show the highest value.\nprint(max(amount))\n\n# This will show the lowest value.\nprint(min(amount))",
      "metadata": {},
      "execution_count": null,
      "outputs": [],
      "id": "4d638bb1"
    }
  ]
}