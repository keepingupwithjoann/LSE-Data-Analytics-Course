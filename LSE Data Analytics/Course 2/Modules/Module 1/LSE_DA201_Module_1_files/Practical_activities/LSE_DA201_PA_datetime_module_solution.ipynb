{
 "cells": [
  {
   "cell_type": "markdown",
   "metadata": {},
   "source": [
    "### LSE Data Analytics Online Career Accelerator\n",
    "\n",
    "# DA201: Data Analytics using Python"
   ]
  },
  {
   "cell_type": "markdown",
   "metadata": {},
   "source": [
    "## Practical activity: Use the DateTime module"
   ]
  },
  {
   "cell_type": "markdown",
   "metadata": {},
   "source": [
    "**This is the solution to the activity.**\n",
    "\n",
    "Rahul is a programmer and has recently got an offer to work as a Python data analyst for TimWorks. TimWorks has developers, engineers, and designers who work remotely from across the globe. Owing to the remote and global culture at work, Rahul is expected to keep track of times across several geographic regions. As he is new to using the DateTime module, he familiarises himself with the module by extracting the following information:\n",
    "- the hour, minute, and second of a specific timestamp\n",
    "- a specific timestamp as year, month, day, hour, minutes, and seconds\n",
    "- the current date\n",
    "- the name of a day from a DateTime object\n",
    "- (Optional) the name of the month and day for the ranges of dates between 2008-01-01 and 2008-03-01.\n",
    "\n",
    "Help him with answering the questions by providing the correct code to extract the aforementioned information. \n",
    "\n",
    "The purpose of this activity is to familiarise yourself with the DateTime module. As you know, a DateTime module consists of data types that can manipulate dates and times in your analysis. Open a new Jupyter notebook to complete the practical activity."
   ]
  },
  {
   "cell_type": "markdown",
   "metadata": {
    "id": "nCJn_LW7XTAB"
   },
   "source": [
    "## 1. Print the hour, minute and second for the timestamp provided below "
   ]
  },
  {
   "cell_type": "code",
   "execution_count": null,
   "metadata": {
    "colab": {
     "base_uri": "https://localhost:8080/"
    },
    "executionInfo": {
     "elapsed": 36,
     "status": "ok",
     "timestamp": 1633875981135,
     "user": {
      "displayName": "Jeevak Ghosh",
      "photoUrl": "https://lh3.googleusercontent.com/a/default-user=s64",
      "userId": "10153434038967682924"
     },
     "user_tz": -330
    },
    "id": "HFTffaTBXGnk",
    "outputId": "fa4f158c-a1fc-4db2-bcff-482e7e58f6ce"
   },
   "outputs": [],
   "source": [
    "# Solution: \n",
    "from datetime import time \n",
    "t = time(14, 42, 5, 566)\n",
    "# if you type in 05 instead of 5 seconds, you will get an error\n",
    "\n",
    "print(\"hour =\", t.hour)\n",
    "print(\"minute =\", t.minute)\n",
    "print(\"second =\", t.second)\n",
    "print(\"microsecond =\", t.microsecond)"
   ]
  },
  {
   "cell_type": "markdown",
   "metadata": {
    "id": "w8l2qfcvX8dS"
   },
   "source": [
    "## 2. Print the year, month, day, hour, minutes, and seconds "
   ]
  },
  {
   "cell_type": "code",
   "execution_count": null,
   "metadata": {
    "colab": {
     "base_uri": "https://localhost:8080/"
    },
    "executionInfo": {
     "elapsed": 21,
     "status": "ok",
     "timestamp": 1633875981137,
     "user": {
      "displayName": "Jeevak Ghosh",
      "photoUrl": "https://lh3.googleusercontent.com/a/default-user=s64",
      "userId": "10153434038967682924"
     },
     "user_tz": -330
    },
    "id": "VA8C-0KkYI6l",
    "outputId": "22f67d69-4a51-4b99-8b81-60e286c33e9a"
   },
   "outputs": [],
   "source": [
    "# Solution : \n",
    "from datetime import datetime\n",
    "\n",
    "dt = datetime(2019, 1, 28, 23, 55, 59, 1023)\n",
    "print(\"year =\", dt.year)\n",
    "print(\"month =\", dt.month)\n",
    "print(\"day =\", dt.day)\n",
    "print(\"hour =\", dt.hour)\n",
    "print(\"minute =\", dt.minute)\n",
    "print(\"'seconds =\", dt.second)\n",
    "print(\"microsecond =\", dt.microsecond)"
   ]
  },
  {
   "cell_type": "markdown",
   "metadata": {
    "id": "rPFBlg86ZdLw"
   },
   "source": [
    "## 3. Print the current date and time "
   ]
  },
  {
   "cell_type": "code",
   "execution_count": null,
   "metadata": {
    "colab": {
     "base_uri": "https://localhost:8080/",
     "height": 35
    },
    "executionInfo": {
     "elapsed": 17,
     "status": "ok",
     "timestamp": 1633875981138,
     "user": {
      "displayName": "Jeevak Ghosh",
      "photoUrl": "https://lh3.googleusercontent.com/a/default-user=s64",
      "userId": "10153434038967682924"
     },
     "user_tz": -330
    },
    "id": "vmlQx4-kYMIV",
    "outputId": "b4046adf-c4a2-4845-c15c-744495f49651"
   },
   "outputs": [],
   "source": [
    "# Printing current year, month and day\n",
    "from datetime import date\n",
    "\n",
    "# Date object of today's date\n",
    "today = date.today()\n",
    "\n",
    "print(\"Current year:\", today.year)\n",
    "print(\"Current month:\", today.month)\n",
    "print(\"Current day:\", today.day)"
   ]
  },
  {
   "cell_type": "markdown",
   "metadata": {},
   "source": [
    "## 4. Extract the name of the day from a DateTime object"
   ]
  },
  {
   "cell_type": "code",
   "execution_count": null,
   "metadata": {},
   "outputs": [],
   "source": [
    "# Extract the name of the day from a DateTime object\n",
    "from datetime import datetime\n",
    "\n",
    "day = datetime(2017, 1, 28)\n",
    "# This is the code to return the full day name\n",
    "day.strftime('%A') \n",
    "'Saturday'"
   ]
  },
  {
   "cell_type": "markdown",
   "metadata": {},
   "source": [
    "# "
   ]
  },
  {
   "cell_type": "markdown",
   "metadata": {
    "id": "XrRB7WlVcWo0"
   },
   "source": [
    "# Advanced : Get the name of Month, Day for the ranges of dates provided "
   ]
  },
  {
   "cell_type": "markdown",
   "metadata": {},
   "source": [
    "Note: Pandas is one of the most popular and useful libraries in Python, particularly for data analysis. You will use it extensively throughout this course starting from next week and in future roles. You will need to perform two steps:\n",
    "- Import the Pandas library.\n",
    "- Create a DataFrame to extract the range of dates."
   ]
  },
  {
   "cell_type": "code",
   "execution_count": null,
   "metadata": {
    "executionInfo": {
     "elapsed": 13,
     "status": "ok",
     "timestamp": 1633875981139,
     "user": {
      "displayName": "Jeevak Ghosh",
      "photoUrl": "https://lh3.googleusercontent.com/a/default-user=s64",
      "userId": "10153434038967682924"
     },
     "user_tz": -330
    },
    "id": "tYl-BBvkaHm9"
   },
   "outputs": [],
   "source": [
    "# Import the pandas library\n",
    "import pandas as pd\n",
    "\n",
    "# Set the data range\n",
    "dr = pd.date_range(start='2008-01-01', end='2008-03-01')\n",
    "\n",
    "# Create a Pandas DataFrame\n",
    "df = pd.DataFrame()\n",
    "\n",
    "# Specify the variables\n",
    "df['Date'] = dr\n",
    "df['Week_Day'] = pd.to_datetime(dr).weekday\n",
    "df['Day_name'] = pd.to_datetime(dr).strftime(\"%A\")\n",
    "df['Month_name'] = pd.to_datetime(dr).strftime(\"%B\")\n",
    "\n",
    "# View the DataFrame\n",
    "df"
   ]
  },
  {
   "cell_type": "markdown",
   "metadata": {},
   "source": []
  }
 ],
 "metadata": {
  "colab": {
   "collapsed_sections": [],
   "name": "1.3.3 Practical activity_ Work with DateTime packages.ipynb",
   "provenance": []
  },
  "kernelspec": {
   "display_name": "Python 3 (ipykernel)",
   "language": "python",
   "name": "python3"
  },
  "language_info": {
   "codemirror_mode": {
    "name": "ipython",
    "version": 3
   },
   "file_extension": ".py",
   "mimetype": "text/x-python",
   "name": "python",
   "nbconvert_exporter": "python",
   "pygments_lexer": "ipython3",
   "version": "3.9.12"
  }
 },
 "nbformat": 4,
 "nbformat_minor": 1
}
