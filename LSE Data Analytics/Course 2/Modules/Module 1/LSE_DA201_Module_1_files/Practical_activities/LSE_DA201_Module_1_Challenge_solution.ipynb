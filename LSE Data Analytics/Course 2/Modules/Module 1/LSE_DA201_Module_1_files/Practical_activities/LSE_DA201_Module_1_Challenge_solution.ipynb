{
 "cells": [
  {
   "cell_type": "markdown",
   "metadata": {},
   "source": [
    "### LSE Data Analytics Online Career Accelerator\n",
    "\n",
    "# DA201: Data Analytics using Python"
   ]
  },
  {
   "cell_type": "markdown",
   "metadata": {},
   "source": [
    "## [Optional] Challenge activity: Create a dictionary"
   ]
  },
  {
   "cell_type": "markdown",
   "metadata": {},
   "source": [
    "**This is the solution to the activity.**\n",
    "\n",
    "You are employed by InputDat, a data analytics consulting firm. The Brazilian government Department of Environment and Wildfires wants to determine the extent of wildfire damage to indigenous forests, forest plantations, and human settlements.\n",
    "\n",
    "You have been provided with a list of states in Brazil and their respective capitals. Your manager needs you to create a Python dictionary object containing the name of each state and its capital so that analysis on the wildfires is easier to conduct. Your dictionary will be leveraged by other analysts at InputData when they continue the analysis.\n",
    "\n",
    "You will utilise the `Brazilian-states-and-capitals.csv` file that was included in the ZIP file you downloaded from 1.0 Focus of the week. Create a dictionary object containing the name of each state and its capital."
   ]
  },
  {
   "cell_type": "markdown",
   "metadata": {},
   "source": [
    "## List of the Brazilian states "
   ]
  },
  {
   "cell_type": "code",
   "execution_count": null,
   "metadata": {},
   "outputs": [],
   "source": [
    "states = ['Acre', 'Alogoas', 'Amapa', 'Amazonas', 'Bahia', 'Ceara', 'Distrito Federal', \n",
    "          'Espirito Santo', 'Goiás', 'Maranhao', 'Mato grosso', 'Mato grosso do sul', \n",
    "          'Minas gerais', 'Para', 'Paraiba', 'Parana', 'Pernambuco', 'Piaui', 'Rio de Janeiro', \n",
    "          'Rio Grande do norte', 'Rio Grande do Sul', 'Rondonia', 'Roraima', 'Santa Catarina', \n",
    "          'Sao Paulo', 'Sergipe', 'Tocantins']"
   ]
  },
  {
   "cell_type": "markdown",
   "metadata": {},
   "source": [
    "## List of the Brazilian capitals "
   ]
  },
  {
   "cell_type": "code",
   "execution_count": null,
   "metadata": {},
   "outputs": [],
   "source": [
    "capitals = ['Rio Branco', 'Maceió' 'Macapá', 'Manaus', 'Salvador', 'Fortaleza', 'Brasília', \n",
    "            'Vitória', 'Goiânia', 'São Luís', 'Cuiabá', 'Campo Grande', 'Belo Horizonte', 'Belém',\n",
    "            'João Pessoa', 'Curitiba', 'Recife', 'Teresina', 'Rio de Janeiro', 'Natal', \n",
    "            'Porto Alegre', 'Porto Velho', 'Boa Vista', 'Florianópolis', 'São Paulo', \n",
    "            'Aracaju', 'Palmas']"
   ]
  },
  {
   "cell_type": "markdown",
   "metadata": {},
   "source": [
    "## Dictionary of the Brazilian states and their capitals \n",
    "\n",
    "(NOTE: We have only provided you with the first five states. You will need to complete the dictionary by keying in the rest of the states and their capitals.)"
   ]
  },
  {
   "cell_type": "code",
   "execution_count": null,
   "metadata": {},
   "outputs": [],
   "source": [
    "brazil = {'Acre': 'Rio Branco',\n",
    "          'Alogoas': 'Maceió',\n",
    "          'Amapa': 'Macapá',\n",
    "          'Amazonas': 'Manaus',\n",
    "          'Bahia': 'Salvador',\n",
    "          'Ceara': 'Fortaleza',\n",
    "          'Distrito Federal': 'Brasília',\n",
    "          'Espirito Santo': 'Vitória',\n",
    "          'Goiás': 'Goiânia',\n",
    "          'Maranhao': 'São Luís',\n",
    "          'Mato grosso': 'Cuiabá',\n",
    "          'Mato grosso do sul': 'Campo Grande',\n",
    "          'Minas gerais': 'Belo Horizonte',\n",
    "          'Para': 'Belém',\n",
    "          'Paraiba': 'João Pessoa',\n",
    "          'Parana': 'Curitiba', \n",
    "          'Pernambuco': 'Recife', \n",
    "          'Piaui': 'Teresina', \n",
    "          'Rio de Janeiro': 'Rio de Janeiro', \n",
    "          'Rio Grande do norte': 'Natal', \n",
    "          'Rio Grande do Sul': 'Porto Alegre', \n",
    "          'Rondonia': 'Porto Velho', \n",
    "          'Roraima': 'Boa Vista', \n",
    "          'Santa Catarina': 'Florianópolis', \n",
    "          'Sao Paulo': 'São Paulo', \n",
    "          'Sergipe': 'Aracaju', \n",
    "          'Tocantins': 'Palmas'}"
   ]
  },
  {
   "cell_type": "code",
   "execution_count": null,
   "metadata": {},
   "outputs": [],
   "source": [
    "print(brazil)"
   ]
  },
  {
   "cell_type": "markdown",
   "metadata": {},
   "source": [
    "## Codes to return the capitals for Amazonas, Goiás, and Rio de Janeiro"
   ]
  },
  {
   "cell_type": "code",
   "execution_count": null,
   "metadata": {},
   "outputs": [],
   "source": [
    "brazil ['Amazonas']"
   ]
  },
  {
   "cell_type": "code",
   "execution_count": null,
   "metadata": {},
   "outputs": [],
   "source": [
    "brazil ['Goiás']"
   ]
  },
  {
   "cell_type": "code",
   "execution_count": null,
   "metadata": {},
   "outputs": [],
   "source": [
    "brazil ['Rio de Janeiro']"
   ]
  },
  {
   "cell_type": "markdown",
   "metadata": {},
   "source": [
    "## Length of the dictionary"
   ]
  },
  {
   "cell_type": "code",
   "execution_count": null,
   "metadata": {},
   "outputs": [],
   "source": [
    "print(\"len() method :\", len(brazil))"
   ]
  },
  {
   "cell_type": "code",
   "execution_count": null,
   "metadata": {},
   "outputs": [],
   "source": []
  }
 ],
 "metadata": {
  "kernelspec": {
   "display_name": "Python 3 (ipykernel)",
   "language": "python",
   "name": "python3"
  },
  "language_info": {
   "codemirror_mode": {
    "name": "ipython",
    "version": 3
   },
   "file_extension": ".py",
   "mimetype": "text/x-python",
   "name": "python",
   "nbconvert_exporter": "python",
   "pygments_lexer": "ipython3",
   "version": "3.9.12"
  }
 },
 "nbformat": 4,
 "nbformat_minor": 4
}
