{
 "cells": [
  {
   "cell_type": "markdown",
   "metadata": {},
   "source": [
    "### LSE Data Analytics Online Career Accelerator \n",
    "\n",
    "# DA201:  Data Analytics using Python"
   ]
  },
  {
   "cell_type": "markdown",
   "metadata": {},
   "source": [
    "## Practical activity: Identify, interpret, and fix the errors"
   ]
  },
  {
   "cell_type": "markdown",
   "metadata": {},
   "source": [
    "**This is the solution to the activity.**\n",
    "\n",
    "Your team member has a set of erroneous Python code and they've asked you for help. Project deadlines are looming and the work is threatening to pile up. After fighting the urge to preach the virtues of programming with the right problem-solving mindset to your clearly distressed colleague, you happily commit 10 minutes of your time to help them out and keep the project on track.\n",
    "\n",
    "As a senior member of the team, you are expected to consider the following questions when encountering an error in the code:\n",
    "- Why is it an error?\n",
    "- What caused the error?\n",
    "- How do you interpret the error message?"
   ]
  },
  {
   "cell_type": "markdown",
   "metadata": {
    "id": "nCJn_LW7XTAB"
   },
   "source": [
    "## Code 1"
   ]
  },
  {
   "cell_type": "code",
   "execution_count": null,
   "metadata": {
    "executionInfo": {
     "elapsed": 38,
     "status": "ok",
     "timestamp": 1633875981134,
     "user": {
      "displayName": "Jeevak Ghosh",
      "photoUrl": "https://lh3.googleusercontent.com/a/default-user=s64",
      "userId": "10153434038967682924"
     },
     "user_tz": -330
    },
    "id": "O-CSXJoBXige"
   },
   "outputs": [],
   "source": [
    "# Code 1\n",
    "# Print the price\n",
    "sales_price = 24500\n",
    "\n",
    "print(total_price)"
   ]
  },
  {
   "cell_type": "markdown",
   "metadata": {},
   "source": [
    "### Code 1: Possible solution\n",
    "- Solution: Replace `print(total_price)` with `print(sales_price)`.\n",
    "- Reason: Variable was defined as `sales_price = 24500`."
   ]
  },
  {
   "cell_type": "code",
   "execution_count": null,
   "metadata": {
    "colab": {
     "base_uri": "https://localhost:8080/"
    },
    "executionInfo": {
     "elapsed": 36,
     "status": "ok",
     "timestamp": 1633875981135,
     "user": {
      "displayName": "Jeevak Ghosh",
      "photoUrl": "https://lh3.googleusercontent.com/a/default-user=s64",
      "userId": "10153434038967682924"
     },
     "user_tz": -330
    },
    "id": "HFTffaTBXGnk",
    "outputId": "fa4f158c-a1fc-4db2-bcff-482e7e58f6ce"
   },
   "outputs": [],
   "source": [
    "# Code 1 - solution\n",
    "# Print the sales price\n",
    "sales_price = 24500\n",
    "\n",
    "print(sales_price)"
   ]
  },
  {
   "cell_type": "markdown",
   "metadata": {},
   "source": [
    "# "
   ]
  },
  {
   "cell_type": "markdown",
   "metadata": {
    "id": "w8l2qfcvX8dS"
   },
   "source": [
    "## Code 2"
   ]
  },
  {
   "cell_type": "code",
   "execution_count": null,
   "metadata": {
    "executionInfo": {
     "elapsed": 20,
     "status": "ok",
     "timestamp": 1633875981135,
     "user": {
      "displayName": "Jeevak Ghosh",
      "photoUrl": "https://lh3.googleusercontent.com/a/default-user=s64",
      "userId": "10153434038967682924"
     },
     "user_tz": -330
    },
    "id": "Af43qOfyYNSZ"
   },
   "outputs": [],
   "source": [
    "# Code 2\n",
    "# Print a text string verbatim\n",
    "print \"My name is James Bond\""
   ]
  },
  {
   "cell_type": "markdown",
   "metadata": {
    "colab": {
     "base_uri": "https://localhost:8080/"
    },
    "executionInfo": {
     "elapsed": 21,
     "status": "ok",
     "timestamp": 1633875981137,
     "user": {
      "displayName": "Jeevak Ghosh",
      "photoUrl": "https://lh3.googleusercontent.com/a/default-user=s64",
      "userId": "10153434038967682924"
     },
     "user_tz": -330
    },
    "id": "VA8C-0KkYI6l",
    "outputId": "22f67d69-4a51-4b99-8b81-60e286c33e9a"
   },
   "source": [
    "### Code 2: Possible solution\n",
    "- Solution: Add round brackets before and after string, delete the space between print and the string.\n",
    "- Reason: The `print()` function needs to specify what variable to print."
   ]
  },
  {
   "cell_type": "code",
   "execution_count": null,
   "metadata": {},
   "outputs": [],
   "source": [
    "# Code 2 - solution\n",
    "# Print a text string verbatim\n",
    "print(\"My name is James Bond\")"
   ]
  },
  {
   "cell_type": "markdown",
   "metadata": {},
   "source": [
    "# "
   ]
  },
  {
   "cell_type": "markdown",
   "metadata": {
    "id": "rPFBlg86ZdLw"
   },
   "source": [
    "## Code 3"
   ]
  },
  {
   "cell_type": "code",
   "execution_count": null,
   "metadata": {},
   "outputs": [],
   "source": [
    "# Code 3\n",
    "# Determine if x is greater than 10\n",
    "x = 11 \n",
    "\n",
    "if x > 10:\n",
    "print('X is greater than 10')\n",
    "else: \n",
    "    print('X is not greater than 10')"
   ]
  },
  {
   "cell_type": "markdown",
   "metadata": {},
   "source": [
    "### Code 3: Possible solution\n",
    "- Solution: Four spaces before the first `print()` function. Best practices is to have a string in double quotes. \n",
    "- Reason: The `print()` function forms part of the `if` statement code block."
   ]
  },
  {
   "cell_type": "code",
   "execution_count": null,
   "metadata": {},
   "outputs": [],
   "source": [
    "# Code 3 possible solution\n",
    "# Determine if x is greater than 10\n",
    "x = 11 \n",
    "\n",
    "if x > 10:\n",
    "    print(\"X is greater than 10\")\n",
    "else: \n",
    "    print(\"X is not greater than 10\")"
   ]
  },
  {
   "cell_type": "markdown",
   "metadata": {},
   "source": [
    "# "
   ]
  },
  {
   "cell_type": "markdown",
   "metadata": {
    "id": "XrRB7WlVcWo0"
   },
   "source": [
    "## Code 4: "
   ]
  },
  {
   "cell_type": "code",
   "execution_count": null,
   "metadata": {
    "colab": {
     "base_uri": "https://localhost:8080/",
     "height": 414
    },
    "executionInfo": {
     "elapsed": 15,
     "status": "ok",
     "timestamp": 1633875981139,
     "user": {
      "displayName": "Jeevak Ghosh",
      "photoUrl": "https://lh3.googleusercontent.com/a/default-user=s64",
      "userId": "10153434038967682924"
     },
     "user_tz": -330
    },
    "id": "RMtuRRgFaDWz",
    "outputId": "72038d7b-7133-41c5-b5cd-01ec4e8c6624"
   },
   "outputs": [],
   "source": [
    "# Code 4\n",
    "# Create the variable list_a\n",
    "list_a = [1,2,3,4,'Ayaan', 'Hirsi']\n",
    "\n",
    "list_a[11]"
   ]
  },
  {
   "cell_type": "markdown",
   "metadata": {
    "colab": {
     "base_uri": "https://localhost:8080/",
     "height": 414
    },
    "executionInfo": {
     "elapsed": 16,
     "status": "ok",
     "timestamp": 1633875981138,
     "user": {
      "displayName": "Jeevak Ghosh",
      "photoUrl": "https://lh3.googleusercontent.com/a/default-user=s64",
      "userId": "10153434038967682924"
     },
     "user_tz": -330
    },
    "id": "9zoIExaobUZJ",
    "outputId": "bb43ecf5-68eb-438f-b1dd-567de81af3be"
   },
   "source": [
    "### Code 4: Possible solution\n",
    "- Solution: There is no index number 11.\n",
    "- Reason: The index starts at `0` and there are a total of `6`; there is no index `11`. "
   ]
  },
  {
   "cell_type": "code",
   "execution_count": null,
   "metadata": {
    "executionInfo": {
     "elapsed": 13,
     "status": "ok",
     "timestamp": 1633875981139,
     "user": {
      "displayName": "Jeevak Ghosh",
      "photoUrl": "https://lh3.googleusercontent.com/a/default-user=s64",
      "userId": "10153434038967682924"
     },
     "user_tz": -330
    },
    "id": "tYl-BBvkaHm9"
   },
   "outputs": [],
   "source": [
    "# Code 4 Possible solution\n",
    "# Create the variable list_a\n",
    "list_a = [1, 2, 3, 4, 'Ayaan', 'Hirsi']\n",
    "\n",
    "list_a\n",
    "print(list_a)"
   ]
  },
  {
   "cell_type": "code",
   "execution_count": null,
   "metadata": {},
   "outputs": [],
   "source": []
  }
 ],
 "metadata": {
  "colab": {
   "collapsed_sections": [],
   "name": "1.3.3 Practical activity_ Work with DateTime packages.ipynb",
   "provenance": []
  },
  "kernelspec": {
   "display_name": "Python 3 (ipykernel)",
   "language": "python",
   "name": "python3"
  },
  "language_info": {
   "codemirror_mode": {
    "name": "ipython",
    "version": 3
   },
   "file_extension": ".py",
   "mimetype": "text/x-python",
   "name": "python",
   "nbconvert_exporter": "python",
   "pygments_lexer": "ipython3",
   "version": "3.9.12"
  }
 },
 "nbformat": 4,
 "nbformat_minor": 1
}
