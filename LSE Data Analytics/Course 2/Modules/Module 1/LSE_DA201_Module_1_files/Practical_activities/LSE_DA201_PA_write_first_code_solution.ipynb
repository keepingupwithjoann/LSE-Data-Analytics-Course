{
 "cells": [
  {
   "cell_type": "markdown",
   "metadata": {},
   "source": [
    "### LSE Data Analytics Online Career Accelerator\n",
    "\n",
    "# DA201: Data Analytics using Python"
   ]
  },
  {
   "cell_type": "markdown",
   "metadata": {},
   "source": [
    "## Practical activity: Write your first line of code"
   ]
  },
  {
   "cell_type": "markdown",
   "metadata": {},
   "source": [
    "**This is the solution to the activity.**\n",
    "\n",
    "You have been approached by a real estate company, Lindstrom & Thomas, to complete some basic data analysis on their sales for the month of December. They've provided you with an incomplete table, containing the property ID, the sales price, the commission, and the property price for the entire month.\n",
    "\n",
    "The purpose of this activity is to practise writing code in Python using Jupyter Notebook. You'll create a Python script and then save it in your GitHub repository. In this activity, you’ll:\n",
    "- write your first set of programs in your Jupyter Notebook\n",
    "- save changes to the Notebook document in an IPYNB file format\n",
    "- save the scripts as a PY file\n",
    "- upload both files to your newly created GitHub repository. "
   ]
  },
  {
   "cell_type": "markdown",
   "metadata": {},
   "source": [
    "## Complete the code snippets"
   ]
  },
  {
   "cell_type": "code",
   "execution_count": null,
   "metadata": {},
   "outputs": [],
   "source": [
    "# This is my first line of code.\n",
    "# Complete the statement\n",
    "print(\"My name is ...\"\")\n",
    "\n",
    "# Complete the statement\n",
    "print(\"The date is...\"\")"
   ]
  },
  {
   "cell_type": "markdown",
   "metadata": {},
   "source": [
    "## Analyse real estate data"
   ]
  },
  {
   "cell_type": "code",
   "execution_count": null,
   "metadata": {},
   "outputs": [],
   "source": [
    "# Analyse real estate data"
   ]
  },
  {
   "cell_type": "markdown",
   "metadata": {},
   "source": [
    "## Question 1:\n",
    "### Print the total sales from December."
   ]
  },
  {
   "cell_type": "code",
   "execution_count": null,
   "metadata": {},
   "outputs": [],
   "source": [
    "# Remember Python does not use a comma to separate thousands\n",
    "# Create variables\n",
    "a = 45000\n",
    "b = 23400\n",
    "c = 67000\n",
    "d = 34600\n",
    "e = 12900\n",
    "\n",
    "# Add all the sales together \n",
    "total_sales = a + b + c + d + e\n",
    "\n",
    "# View the output\n",
    "print(total_sales)"
   ]
  },
  {
   "cell_type": "markdown",
   "metadata": {},
   "source": [
    "## Question 2:\n",
    "### Print the average sales price for the month of December. "
   ]
  },
  {
   "cell_type": "code",
   "execution_count": null,
   "metadata": {},
   "outputs": [],
   "source": [
    "# Create a new variable\n",
    "# Calculate the average sales by dividing the total number of sales by 5\n",
    "avg_sales = total_sales / 5\n",
    "\n",
    "# View the output\n",
    "print(avg_sales)"
   ]
  },
  {
   "cell_type": "markdown",
   "metadata": {},
   "source": [
    "## Question 3:\n",
    "### Print the property price for property C.  "
   ]
  },
  {
   "cell_type": "code",
   "execution_count": null,
   "metadata": {},
   "outputs": [],
   "source": [
    "# create a new variable\n",
    "# Calculate the price of property C as sales - commission\n",
    "property_price_c = (67000 - 6500)\n",
    "\n",
    "# View the output\n",
    "print(property_price_c)"
   ]
  },
  {
   "cell_type": "code",
   "execution_count": null,
   "metadata": {},
   "outputs": [],
   "source": []
  }
 ],
 "metadata": {
  "kernelspec": {
   "display_name": "Python 3 (ipykernel)",
   "language": "python",
   "name": "python3"
  },
  "language_info": {
   "codemirror_mode": {
    "name": "ipython",
    "version": 3
   },
   "file_extension": ".py",
   "mimetype": "text/x-python",
   "name": "python",
   "nbconvert_exporter": "python",
   "pygments_lexer": "ipython3",
   "version": "3.9.12"
  }
 },
 "nbformat": 4,
 "nbformat_minor": 4
}
