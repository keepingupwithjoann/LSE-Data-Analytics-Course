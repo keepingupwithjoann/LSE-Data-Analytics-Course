{
 "cells": [
  {
   "cell_type": "markdown",
   "id": "48e2457b",
   "metadata": {},
   "source": [
    "### LSE Data Analytics Online Career Accelerator\n",
    "\n",
    "# DA201: Data Analytics using Python"
   ]
  },
  {
   "cell_type": "markdown",
   "id": "76ddf416",
   "metadata": {},
   "source": [
    "## Practical activity: Pandas Series"
   ]
  },
  {
   "cell_type": "markdown",
   "id": "c7b42dc9",
   "metadata": {},
   "source": [
    "**This is the solution to the activity.**\n",
    "\n",
    "Create flashcards for training purposes on best practices and ‘what to do’ scenarios, use Pandas Series to create these flashcards. Use the information provided by HR:"
   ]
  },
  {
   "cell_type": "markdown",
   "id": "696b42b2",
   "metadata": {},
   "source": [
    "`RAW DATA`\n",
    "\n",
    "- Emergency numbers: Law Enforcement (123), Fire and Rescue Services (224), Emergency Medical Services (101), Emergency Management (999), and Public Works (900).\n",
    "- Emergency protocols: Prevention, mitigation, preparedness, response, and recovery.\n",
    "- Emergency checklist: Check pulse (neck), breathing (nose), obstructions (nose, ears, mouth), pupils (responsive), consciousness, contact details, and allergies."
   ]
  },
  {
   "cell_type": "markdown",
   "id": "82a7ea6a",
   "metadata": {},
   "source": [
    "### 1. List of emergency number"
   ]
  },
  {
   "cell_type": "code",
   "execution_count": null,
   "id": "6773f36e",
   "metadata": {},
   "outputs": [],
   "source": [
    "# Emergency numbers: Law Enforcement (123), Fire and Rescue Services (224), \n",
    "# Emergency Medical Services (101), Emergency Management (999), and Public Works (900).\n",
    "\n",
    "# Import the library\n",
    "import pandas as pd\n",
    "\n",
    "# Create a dictionary\n",
    "dict_1 = {'123': 'Law Endorcement',\n",
    "          '224': 'Fire and Rescue Service',\n",
    "          '101': 'Emergency Meducal Service',\n",
    "          '999': 'Emergency Management',\n",
    "          '900': 'Public Works'}\n",
    "\n",
    "# Create a Series \n",
    "emergency_numbers = pd.Series(dict_1)\n",
    "\n",
    "# View the result by passing or calling the print() function\n",
    "print(emergency_numbers)"
   ]
  },
  {
   "cell_type": "markdown",
   "id": "9b128068",
   "metadata": {},
   "source": [
    "# "
   ]
  },
  {
   "cell_type": "markdown",
   "id": "ad80fb31",
   "metadata": {},
   "source": [
    "### 2. List of emergency protocols"
   ]
  },
  {
   "cell_type": "code",
   "execution_count": null,
   "id": "c15939c5",
   "metadata": {},
   "outputs": [],
   "source": [
    "# Emergency protocols: Prevention, mitigation, preparedness, response, and recovery.\n",
    "\n",
    "# Create a numbered list\n",
    "emergency_protocols = pd.Series(['Prevention', 'Mitigation',\n",
    "                                 'Preparedness', 'Response', \n",
    "                                 'Recovery'],\n",
    "                                index = ['1', '2', '3', '4', '5'])\n",
    "\n",
    "# View the DataFrame\n",
    "print(emergency_protocols)"
   ]
  },
  {
   "cell_type": "markdown",
   "id": "8c07553c",
   "metadata": {},
   "source": [
    "# "
   ]
  },
  {
   "cell_type": "markdown",
   "id": "df89e71b",
   "metadata": {},
   "source": [
    "### 3. Checklist for patients arriving at the emergency entrance"
   ]
  },
  {
   "cell_type": "code",
   "execution_count": null,
   "id": "8125e5ac",
   "metadata": {},
   "outputs": [],
   "source": [
    "# Emergency checklist: Check pulse (neck), breathing (nose), \n",
    "# obstructions (nose, ears, mouth), pupils (responsive), \n",
    "# consciousness, contact details, and allergies.\n",
    "\n",
    "# Create a Series from a list\n",
    "checklist = ['Check carotid pulse (neck)', 'Check breathing (nose)',\n",
    "             'Check for obstructions (nose, ears, mouth)', \n",
    "             'Check pupils (responsive)', 'Consciousness',\n",
    "             'Contact details', 'Any allergies']\n",
    "\n",
    "emergency_checklist = pd.Series(checklist)\n",
    "\n",
    "# View the DataFrame\n",
    "print(emergency_checklist)"
   ]
  },
  {
   "cell_type": "code",
   "execution_count": null,
   "id": "1243b133",
   "metadata": {},
   "outputs": [],
   "source": []
  }
 ],
 "metadata": {
  "kernelspec": {
   "display_name": "Python 3 (ipykernel)",
   "language": "python",
   "name": "python3"
  },
  "language_info": {
   "codemirror_mode": {
    "name": "ipython",
    "version": 3
   },
   "file_extension": ".py",
   "mimetype": "text/x-python",
   "name": "python",
   "nbconvert_exporter": "python",
   "pygments_lexer": "ipython3",
   "version": "3.9.12"
  }
 },
 "nbformat": 4,
 "nbformat_minor": 5
}
