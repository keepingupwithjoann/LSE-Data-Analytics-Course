{
 "cells": [
  {
   "cell_type": "markdown",
   "id": "2ac716e0",
   "metadata": {},
   "source": [
    "### LSE Data Analytics Online Career Accelerator\n",
    "\n",
    "# DA201: Data Analytics using Python"
   ]
  },
  {
   "cell_type": "markdown",
   "id": "7eadb0d9",
   "metadata": {},
   "source": [
    "## Practical activity: Pandas DataFrame"
   ]
  },
  {
   "cell_type": "markdown",
   "id": "8b009b36",
   "metadata": {},
   "source": [
    "**This is the solution to the activity.**\n",
    "\n",
    "You will create the DataFrame(s) that will capture all the Human Resources (HR) information. The following raw data was provided by HR:"
   ]
  },
  {
   "cell_type": "markdown",
   "id": "4c056528",
   "metadata": {},
   "source": [
    "`RAW DATA`\n",
    "- Staff members and employment units (in brackets): Shen Lee (1), Leon Buhle (0.5), Tracy Adams (0.8), Lebo Sinuka (1.5), Lauren Pierce (1.2), Monika Bond (2), Natahs Allsopp (0.3), Nicholas Winter (1.1), Christopher Eckson (2.2), and Siobhan O’Malley (1.5).\n",
    "- Personnel numbers: Shen Lee (215), Leon Buhle (216), Tracy Adams (217), Lebo Sinuka (218), Lauren Pierce (219), Monika Bond (220), Natahs Allsopp (221), Nicholas Winter (222), Christopher Eckson (223), and Siobhan O’Malley (224).\n",
    "- Leave per cycle: 10 days sick leave, 20 days annual leave, 5 days personal leave, and 3 days added for one full unit of employment as a bonus.\n",
    "- Leave taken in the current cycle (days):\n",
    "  - Shen Lee: 0 days\n",
    "  - Leon Buhle: 2 sick, 0 annual leave, 1 personal\n",
    "  - Tracy Adams: 0 sick, 5 annual leave, 0 personal\n",
    "  - Lebo Sinuka: 1 sick, 4 annual leave, 5 personal\n",
    "  - Lauren Pierce: 3 sick, 2 annual leave, 0 personal\n",
    "  - Monika Bond: 0 sick, 5 annual leave, 3 personal\n",
    "  - Natahs Allsopp: 1 sick, 10 annual leave, 0 personal\n",
    "  - Nicholas Winter: 0 sick, 8 annual leave, 1 personal\n",
    "  - Christopher Eckson: 2 sick, 10 annual leave, 3 personal\n",
    "  - Siobhan O’Malley: 5 sick, 0 annual leave, 0 personal."
   ]
  },
  {
   "cell_type": "markdown",
   "id": "a101481b",
   "metadata": {},
   "source": [
    "### Leave configuration"
   ]
  },
  {
   "cell_type": "code",
   "execution_count": null,
   "id": "e1845992",
   "metadata": {},
   "outputs": [],
   "source": [
    "# Leave configuration\n",
    "# Import Pandas library\n",
    "import pandas as pd\n",
    "\n",
    "# Create a DataFrame from a dictionary\n",
    "data = {'Name': ['Shen Lee', 'Leon Buhle', 'Tracy Adams',\n",
    "                 'Lebo Sinuka', 'Lauren Pierce', 'Monika Bond',\n",
    "                 'Natahs Allsopp', 'Nicholas Winter',\n",
    "                 'Christopher Eckson', 'Siobhan OMalley'],\n",
    "        'Annual': [23, 20, 15, 19, 21, 21, 10, 15, 16, 23],\n",
    "        'Sick': [10, 8, 10, 9, 7, 10, 9, 10, 8, 5],\n",
    "        'Personal': [5, 4, 5, 0, 5, 2, 5, 4, 2, 5],\n",
    "        'Bonus': [3, 0, 0, 3, 3, 6, 0, 3, 6, 3]}\n",
    "row_labels = [215, 216, 217, 218, 219, 220, 221, 222, 223, 224]\n",
    "leave_cycle = pd.DataFrame(data, columns=['Name', 'Annual',\n",
    "                                          'Sick', 'Personal', 'Bonus'],\n",
    "                           index = row_labels)\n",
    "\n",
    "leave_cycle.index.name = 'Personnel_ID'\n",
    "\n",
    "# View the DataFrame\n",
    "leave_cycle"
   ]
  },
  {
   "cell_type": "markdown",
   "id": "3f2a5212",
   "metadata": {},
   "source": [
    "# "
   ]
  },
  {
   "cell_type": "markdown",
   "id": "761fcc38",
   "metadata": {},
   "source": [
    "### Additional columns"
   ]
  },
  {
   "cell_type": "code",
   "execution_count": null,
   "id": "60a4dd99",
   "metadata": {},
   "outputs": [],
   "source": [
    "# Create a DataFrame from a dictionary\n",
    "data = {'Name': ['Shen Lee', 'Leon Buhle', 'Tracy Adams',\n",
    "                 'Lebo Sinuka', 'Lauren Pierce', 'Monika Bond',\n",
    "                 'Natahs Allsopp', 'Nicholas Winter',\n",
    "                 'Christopher Eckson', 'Siobhan OMalley'],\n",
    "        'Annual': [23, 20, 15, 19, 21, 21, 10, 15, 16, 23],\n",
    "        'Sick': [10, 8, 10, 9, 7, 10, 9, 10, 8, 5],\n",
    "        'Personal': [5, 4, 5, 0, 5, 2, 5, 4, 2, 5],\n",
    "        'Bonus': [3, 0, 0, 3, 3, 6, 0, 3, 6, 3],\n",
    "        'Total leave taken': [0, 3, 5, 10, 5, 8, 11, 9, 15, 5],\n",
    "        'Total leave available': [38, 32, 30, 28, 33, 33, 24, 29, 26, 33],\n",
    "        'Annual total': [38, 35, 35, 38, 38, 41, 35, 38, 41, 38]}\n",
    "row_labels = [215, 216, 217, 218, 219, 220, 221, 222, 223, 224]\n",
    "leave_cycle = pd.DataFrame(data, columns=['Name', 'Annual',\n",
    "                                          'Sick', 'Personal', 'Bonus',\n",
    "                                          'Total leave taken',\n",
    "                                          'Total leave available'],\n",
    "                           index = row_labels)\n",
    "leave_cycle.index.name = 'Personnel_ID'\n",
    "\n",
    "# View the DataFrame\n",
    "leave_cycle"
   ]
  },
  {
   "cell_type": "code",
   "execution_count": null,
   "id": "a8756495",
   "metadata": {},
   "outputs": [],
   "source": []
  }
 ],
 "metadata": {
  "kernelspec": {
   "display_name": "Python 3 (ipykernel)",
   "language": "python",
   "name": "python3"
  },
  "language_info": {
   "codemirror_mode": {
    "name": "ipython",
    "version": 3
   },
   "file_extension": ".py",
   "mimetype": "text/x-python",
   "name": "python",
   "nbconvert_exporter": "python",
   "pygments_lexer": "ipython3",
   "version": "3.9.12"
  }
 },
 "nbformat": 4,
 "nbformat_minor": 5
}
