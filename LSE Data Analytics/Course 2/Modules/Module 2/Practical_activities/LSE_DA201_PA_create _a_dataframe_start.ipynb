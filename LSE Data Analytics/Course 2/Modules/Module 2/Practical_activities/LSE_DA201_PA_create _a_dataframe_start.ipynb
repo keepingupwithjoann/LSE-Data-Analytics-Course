{
 "cells": [
  {
   "cell_type": "markdown",
   "metadata": {},
   "source": [
    "### LSE Data Analytics Online Career Accelerator\n",
    "\n",
    "# DA201: Data Analytics using Python"
   ]
  },
  {
   "cell_type": "markdown",
   "metadata": {},
   "source": [
    "## Practical activity: Create a DataFrame from the dictionary"
   ]
  },
  {
   "cell_type": "markdown",
   "metadata": {},
   "source": [
    "**This is the start to the activity.**\n",
    "\n",
    "A peer has come to you for help. They have started building a dictionary using Jupyter Notebook. Below you will find their incomplete code. Now that you have learned to add values and keys using a DataFrame, make changes to the code to complete the following:\n",
    "- Import the dictionary into a DataFrame and add two more rows to the state and capital columns.\n",
    "- Sense-check the code that was presented to you is accurate and free from errors."
   ]
  },
  {
   "cell_type": "markdown",
   "metadata": {},
   "source": [
    "### Raw data\n",
    "- states = [\"Acre\", \"Alogoas\", \"Amapa\", \"Amazonas\", \"Bahia\", \"Ceara\", \"Distrito Federal\", \n",
    "            \"Espirito Santo\", \"Goiás\", \"Maranhao\", \"Mato grosso\", \"Mato grosso do sul\", \n",
    "            \"Minas gerais\", \"Para\", \"Paraiba\", \"Parana\", \"Pernambuco\", \"Piaui\", \"Rio de Janeiro\", \n",
    "            \"Rio Grande do norte\", \"Rio Grande do Sul\", \"Rondonia\", \"Roraima\", \"Santa Catarina\", \n",
    "            \"Sao Paulo\", \"Sergipe\", \"Tocantins\"]\n",
    "\n",
    "- capitals = [\"Rio Branco\", \"Maceió\" \"Macapá\", \"Manaus\", \"Salvador\", \"Fortaleza\", \"Brasília\", \n",
    "              \"Vitória\", \"Goiânia\", \"São Luís\", \"Cuiabá\", \"Campo Grande\",\"Belo Horizonte\",\"Belém\",\n",
    "              \"João Pessoa\", \"Curitiba\", \"Recife\", \"Teresina\", \"Rio de Janeiro\", \"Natal\", \"Porto Alegre\", \n",
    "              \"Porto Velho\", \"Boa Vista\", \"Florianópolis\", \"São Paulo\", \"Aracaju\", \"Palmas\"]"
   ]
  },
  {
   "cell_type": "markdown",
   "metadata": {},
   "source": [
    "### Incomplete Dictionary"
   ]
  },
  {
   "cell_type": "code",
   "execution_count": 10,
   "metadata": {},
   "outputs": [],
   "source": [
    "brazil = {'Acre': 'Rio Branco',\n",
    "          'Alogoas': 'Maceió',\n",
    "          'Amapa': 'Macapá',\n",
    "          'Amazonas': 'Manaus',\n",
    "          'Bahia': 'Salvador'}"
   ]
  },
  {
   "cell_type": "code",
   "execution_count": 1,
   "metadata": {},
   "outputs": [],
   "source": [
    "# Enter your own code here"
   ]
  },
  {
   "cell_type": "code",
   "execution_count": null,
   "metadata": {},
   "outputs": [],
   "source": []
  }
 ],
 "metadata": {
  "kernelspec": {
   "display_name": "Python 3 (ipykernel)",
   "language": "python",
   "name": "python3"
  },
  "language_info": {
   "codemirror_mode": {
    "name": "ipython",
    "version": 3
   },
   "file_extension": ".py",
   "mimetype": "text/x-python",
   "name": "python",
   "nbconvert_exporter": "python",
   "pygments_lexer": "ipython3",
   "version": "3.9.12"
  }
 },
 "nbformat": 4,
 "nbformat_minor": 4
}
