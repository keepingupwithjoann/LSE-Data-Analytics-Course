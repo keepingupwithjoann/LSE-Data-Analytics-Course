{
 "cells": [
  {
   "cell_type": "markdown",
   "id": "8815c608",
   "metadata": {},
   "source": [
    "### LSE Data Analytics Online Career Accelerator\n",
    "\n",
    "# DA201: Data Analytics using Python"
   ]
  },
  {
   "cell_type": "markdown",
   "id": "93d7ea59",
   "metadata": {},
   "source": [
    "## Practical activity: Importing data"
   ]
  },
  {
   "cell_type": "markdown",
   "id": "e6bd1f73",
   "metadata": {},
   "source": [
    "**This is the solution to the activity.**\n",
    "\n",
    "Canopy is a new boutique streaming company that is looking to create an app to provide recommendations for each user based on their recently watched movies. You are working with the team to better understand the data. \n",
    "\n",
    "You have access to the data sets `movies.xlsx` and `ott.csv` from Canopy."
   ]
  },
  {
   "cell_type": "markdown",
   "id": "2a82ad23",
   "metadata": {},
   "source": [
    "## 1. Import Pandas"
   ]
  },
  {
   "cell_type": "code",
   "execution_count": null,
   "id": "b2a45164",
   "metadata": {},
   "outputs": [],
   "source": [
    "# Import the necessary packages\n",
    "import pandas as pd"
   ]
  },
  {
   "cell_type": "code",
   "execution_count": null,
   "id": "796fb5ea",
   "metadata": {},
   "outputs": [],
   "source": [
    "# Import the movies data set\n",
    "movies = pd.read_excel('movies.xlsx')\n",
    "\n",
    "# View the DataFrame\n",
    "movies.head()"
   ]
  },
  {
   "cell_type": "code",
   "execution_count": null,
   "id": "0a6dc0c5",
   "metadata": {},
   "outputs": [],
   "source": [
    "# Import the ott data set\n",
    "ott = pd.read_csv('ott.csv')\n",
    "\n",
    "# View the DataFrame\n",
    "ott.head()"
   ]
  },
  {
   "cell_type": "markdown",
   "id": "452546a2",
   "metadata": {},
   "source": [
    "# "
   ]
  },
  {
   "cell_type": "markdown",
   "id": "99276ad0",
   "metadata": {},
   "source": [
    "## 2. Validate data sets"
   ]
  },
  {
   "cell_type": "code",
   "execution_count": null,
   "id": "db6771b7",
   "metadata": {},
   "outputs": [],
   "source": [
    "# Validate the DataFrame with shape\n",
    "print(movies.shape)\n",
    "\n",
    "# View the DataFrame\n",
    "print(ott.shape)"
   ]
  },
  {
   "cell_type": "code",
   "execution_count": null,
   "id": "e7e7b1e7",
   "metadata": {},
   "outputs": [],
   "source": [
    "# Validate the DataFrame with the head() function\n",
    "print(movies.head())\n",
    "\n",
    "# View the DataFrame\n",
    "print(ott.head())"
   ]
  },
  {
   "cell_type": "code",
   "execution_count": null,
   "id": "3512ccc9",
   "metadata": {
    "scrolled": true
   },
   "outputs": [],
   "source": [
    "# validate with tail()\n",
    "print(movies.tail())\n",
    "\n",
    "# View the DataFrame\n",
    "print(ott.tail())"
   ]
  },
  {
   "cell_type": "markdown",
   "id": "ef72cc9c",
   "metadata": {},
   "source": [
    "# "
   ]
  },
  {
   "cell_type": "markdown",
   "id": "dc9085c9",
   "metadata": {},
   "source": [
    "## 3. Describe the data sets"
   ]
  },
  {
   "cell_type": "code",
   "execution_count": null,
   "id": "1128fd59",
   "metadata": {},
   "outputs": [],
   "source": [
    "# Describe the data set\n",
    "print(movies.dtypes)\n",
    "\n",
    "# View the DataFrame\n",
    "print(ott.dtypes)"
   ]
  },
  {
   "cell_type": "code",
   "execution_count": null,
   "id": "ab4318cd",
   "metadata": {},
   "outputs": [],
   "source": []
  }
 ],
 "metadata": {
  "kernelspec": {
   "display_name": "Python 3 (ipykernel)",
   "language": "python",
   "name": "python3"
  },
  "language_info": {
   "codemirror_mode": {
    "name": "ipython",
    "version": 3
   },
   "file_extension": ".py",
   "mimetype": "text/x-python",
   "name": "python",
   "nbconvert_exporter": "python",
   "pygments_lexer": "ipython3",
   "version": "3.9.12"
  }
 },
 "nbformat": 4,
 "nbformat_minor": 5
}
