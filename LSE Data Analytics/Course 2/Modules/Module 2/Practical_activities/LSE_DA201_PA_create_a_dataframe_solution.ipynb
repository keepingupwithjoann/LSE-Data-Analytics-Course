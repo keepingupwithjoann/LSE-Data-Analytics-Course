{
 "cells": [
  {
   "cell_type": "markdown",
   "id": "dddbde7f",
   "metadata": {},
   "source": [
    "### LSE Data Analytics Online Career Accelerator\n",
    "\n",
    "# DA201: Data Analytics using Python"
   ]
  },
  {
   "cell_type": "markdown",
   "id": "f775a43c",
   "metadata": {},
   "source": [
    "## Practical activity: Create a DataFrame from the dictionary"
   ]
  },
  {
   "cell_type": "markdown",
   "id": "2c5e18da",
   "metadata": {},
   "source": [
    "**This is the solution to the activity.**\n",
    "\n",
    "A peer has come to you for help. They have started building a dictionary using Jupyter Notebook. Below you will find their incomplete code. Now that you have learned to add values and keys using a DataFrame, make changes to the code to complete the following:\n",
    "- Import the dictionary into a DataFrame and add two more rows to the state and capital columns.\n",
    "- Sense-check the code that was presented to you is accurate and free from errors."
   ]
  },
  {
   "cell_type": "markdown",
   "id": "6eee2316",
   "metadata": {},
   "source": [
    "### 1. Import Pandas"
   ]
  },
  {
   "cell_type": "code",
   "execution_count": null,
   "id": "bed01991",
   "metadata": {
    "scrolled": true
   },
   "outputs": [],
   "source": [
    "# Import necessary packages\n",
    "import pandas as pd"
   ]
  },
  {
   "cell_type": "markdown",
   "id": "6c1bd156",
   "metadata": {},
   "source": [
    "#### Raw data:\n",
    " states = [\"Acre\", \"Alogoas\", \"Amapa\", \"Amazonas\", \"Bahia\", \"Ceara\", \"Distrito Federal\", \"Espirito Santo\", \"Goiás\", \"Maranhao\", \"Mato grosso\", \"Mato grosso do sul\", \"Minas gerais\", \"Para\", \"Paraiba\", \"Parana\", \"Pernambuco\", \"Piaui\", \"Rio de Janeiro\", \"Rio Grande do norte\", \"Rio Grande do Sul\", \"Rondonia\", \"Roraima\", \"Santa Catarina\", \"Sao Paulo\", \"Sergipe\", \"Tocantins\"]\n",
    "\n",
    "capitals = [\"Rio Branco\", \"Maceió\" \"Macapá\", \"Manaus\", \"Salvador\", \"Fortaleza\", \"Brasília\", \"Vitória\", \"Goiânia\", \"São Luís\", \"Cuiabá\", \"Campo Grande\",\"Belo Horizonte\",\"Belém\",\"João Pessoa\", \"Curitiba\", \"Recife\", \"Teresina\", \"Rio de Janeiro\", \"Natal\", \"Porto Alegre\", \"Porto Velho\", \"Boa Vista\", \"Florianópolis\", \"São Paulo\", \"Aracaju\", \"Palmas\"]"
   ]
  },
  {
   "cell_type": "markdown",
   "id": "e6bed0d5",
   "metadata": {},
   "source": [
    "### 2. Create dictionary"
   ]
  },
  {
   "cell_type": "code",
   "execution_count": null,
   "id": "5b391686",
   "metadata": {
    "scrolled": true
   },
   "outputs": [],
   "source": [
    "# Create a dictionary\n",
    "Brazil = {'States': ['Acre', 'Alogoas', 'Amapa', 'Amazonas', \n",
    "                     'Bahia', 'Ceara', 'Distrito Federal', \n",
    "                     'Espirito Santo', 'Goiás', 'Maranhao', \n",
    "                     'Mato grosso', 'Mato grosso do sul', \n",
    "                     'Minas gerais', 'Para', 'Paraiba', \n",
    "                     'Parana', 'Pernambuco', 'Piaui', \n",
    "                     'Rio de Janeiro', 'Rio Grande do norte', \n",
    "                     'Rio Grande do Sul', 'Rondonia', 'Roraima', \n",
    "                     'Santa Catarina', 'Sao Paulo', 'Sergipe', 'Tocantins'],\n",
    "          'Capitals': ['Rio Branco', 'Maceió', 'Macapá', 'Manaus', \n",
    "                     'Salvador', 'Fortaleza', 'Brasília', 'Vitória',\n",
    "                     'Goiânia', 'São Luís', 'Cuiabá', 'Campo Grande',\n",
    "                     'Belo Horizonte', 'Belém', 'João Pessoa', 'Curitiba', \n",
    "                     'Recife', 'Teresina', 'Rio de Janeiro', 'Natal', \n",
    "                     'Porto Alegre', 'Porto Velho', 'Boa Vista', \n",
    "                     'Florianópolis', 'São Paulo', 'Aracaju', 'Palmas']}\n",
    "\n",
    "# Create a DataFrame from the dictionary\n",
    "Brazil_fires = pd.DataFrame(Brazil)\n",
    "\n",
    "# View the DataFrame\n",
    "Brazil_fires"
   ]
  },
  {
   "cell_type": "markdown",
   "id": "a8f6a4a3",
   "metadata": {},
   "source": [
    "## 3. Add extra states to the dictionary"
   ]
  },
  {
   "cell_type": "code",
   "execution_count": null,
   "id": "99a166fb",
   "metadata": {
    "scrolled": true
   },
   "outputs": [],
   "source": [
    "# Insert two extra states\n",
    "Brazil2 = {'States': ['state1', 'state2'],\n",
    "           'Capitals': ['capital1', 'capital2']}\n",
    "\n",
    "# Create a DataFrame\n",
    "Brazil2_fires = pd.DataFrame(Brazil2)\n",
    "\n",
    "# View the DataFrame\n",
    "Brazil2_fires"
   ]
  },
  {
   "cell_type": "markdown",
   "id": "afb9c3c9",
   "metadata": {},
   "source": [
    "## 4. Print the final DataFrame"
   ]
  },
  {
   "cell_type": "code",
   "execution_count": null,
   "id": "7cfc2108",
   "metadata": {
    "scrolled": true
   },
   "outputs": [],
   "source": [
    "# Append the two dictionaries\n",
    "Brazil_final = Brazil_fires.append(Brazil2_fires, ignore_index=True)\n",
    "\n",
    "# View the DataFrame\n",
    "print(Brazil_final)\n",
    "print(Brazil_final.shape)"
   ]
  },
  {
   "cell_type": "code",
   "execution_count": null,
   "id": "e440c382",
   "metadata": {
    "scrolled": true
   },
   "outputs": [],
   "source": []
  }
 ],
 "metadata": {
  "kernelspec": {
   "display_name": "Python 3 (ipykernel)",
   "language": "python",
   "name": "python3"
  },
  "language_info": {
   "codemirror_mode": {
    "name": "ipython",
    "version": 3
   },
   "file_extension": ".py",
   "mimetype": "text/x-python",
   "name": "python",
   "nbconvert_exporter": "python",
   "pygments_lexer": "ipython3",
   "version": "3.9.12"
  }
 },
 "nbformat": 4,
 "nbformat_minor": 5
}
