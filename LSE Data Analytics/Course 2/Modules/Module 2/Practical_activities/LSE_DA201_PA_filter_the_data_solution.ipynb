{
 "cells": [
  {
   "cell_type": "markdown",
   "id": "b0881579",
   "metadata": {},
   "source": [
    "### LSE Data Analytics Online Career Accelerator\n",
    "\n",
    "# DA201: Data Analytics using Python"
   ]
  },
  {
   "cell_type": "markdown",
   "id": "cb60eafa",
   "metadata": {},
   "source": [
    "## Practical activity: Filter the data"
   ]
  },
  {
   "cell_type": "markdown",
   "id": "fbe3f8ef",
   "metadata": {},
   "source": [
    "**This is the solution to the activity.**\n",
    "\n",
    "Canopy is a new boutique streaming company that is looking to create an app to provide recommendations for each user based on their recently watched movies. You are working with the team to better understand the data. \n",
    "\n",
    "You have access to the datasets `movies.xlsx` and `ott.csv` from Canopy."
   ]
  },
  {
   "cell_type": "markdown",
   "id": "557ab835",
   "metadata": {},
   "source": [
    "### 1. Import Pandas, data sets and validate"
   ]
  },
  {
   "cell_type": "code",
   "execution_count": null,
   "id": "dde0c86c",
   "metadata": {},
   "outputs": [],
   "source": [
    "# Import the necessary packages.\n",
    "import pandas as pd\n",
    "\n",
    "# Import the movies data set.\n",
    "movies = pd.read_excel('movies.xlsx')\n",
    "\n",
    "# View the DataFrame.\n",
    "movies.head()"
   ]
  },
  {
   "cell_type": "code",
   "execution_count": null,
   "id": "150ddb2d",
   "metadata": {},
   "outputs": [],
   "source": [
    "# Import the ott data set.\n",
    "ott = pd.read_csv('ott.csv')\n",
    "\n",
    "# View the DataFrame.\n",
    "ott.head()"
   ]
  },
  {
   "cell_type": "code",
   "execution_count": null,
   "id": "e5d7ca80",
   "metadata": {},
   "outputs": [],
   "source": [
    "# Validate the data types.\n",
    "print(movies.dtypes)\n",
    "print(ott.dtypes)"
   ]
  },
  {
   "cell_type": "code",
   "execution_count": null,
   "id": "66686e0f",
   "metadata": {},
   "outputs": [],
   "source": [
    "# Determine the column names.\n",
    "print(list(movies.columns))\n",
    "print(list(ott.columns))"
   ]
  },
  {
   "cell_type": "markdown",
   "id": "ed679431",
   "metadata": {},
   "source": [
    "## 2. Filter the DataFrame for only numeric variables"
   ]
  },
  {
   "cell_type": "code",
   "execution_count": null,
   "id": "6c3577a6",
   "metadata": {},
   "outputs": [],
   "source": [
    "# Filter the DataFrame according to numeric variables.\n",
    "movies_num = movies.select_dtypes('number')\n",
    "movies_num = movies_num.drop('Year', axis = 1)"
   ]
  },
  {
   "cell_type": "markdown",
   "id": "1457cfd1",
   "metadata": {},
   "source": [
    "## 3. Calculate the IQR for each column except Year"
   ]
  },
  {
   "cell_type": "code",
   "execution_count": null,
   "id": "1fd6fb59",
   "metadata": {},
   "outputs": [],
   "source": [
    "# Calculate Q1 and Q3.\n",
    "Q1 = movies_num.quantile(0.25)\n",
    "Q3 = movies_num.quantile(0.75)\n",
    "\n",
    "# View the output\n",
    "print(Q1)\n",
    "print(Q3)"
   ]
  },
  {
   "cell_type": "code",
   "execution_count": null,
   "id": "c2b0021d",
   "metadata": {},
   "outputs": [],
   "source": [
    "# Calculate the IQR.\n",
    "IQR = Q3 - Q1\n",
    "\n",
    "# View the output.\n",
    "print(IQR)"
   ]
  },
  {
   "cell_type": "markdown",
   "id": "e4560214",
   "metadata": {},
   "source": [
    "## 4. Evaluate the range of the data set"
   ]
  },
  {
   "cell_type": "code",
   "execution_count": null,
   "id": "ab5edb27",
   "metadata": {},
   "outputs": [],
   "source": [
    "# Determine the descriptive statistics.\n",
    "movies_num.describe()"
   ]
  },
  {
   "cell_type": "code",
   "execution_count": null,
   "id": "6d5b49db",
   "metadata": {},
   "outputs": [],
   "source": []
  }
 ],
 "metadata": {
  "kernelspec": {
   "display_name": "Python 3 (ipykernel)",
   "language": "python",
   "name": "python3"
  },
  "language_info": {
   "codemirror_mode": {
    "name": "ipython",
    "version": 3
   },
   "file_extension": ".py",
   "mimetype": "text/x-python",
   "name": "python",
   "nbconvert_exporter": "python",
   "pygments_lexer": "ipython3",
   "version": "3.9.12"
  }
 },
 "nbformat": 4,
 "nbformat_minor": 5
}
