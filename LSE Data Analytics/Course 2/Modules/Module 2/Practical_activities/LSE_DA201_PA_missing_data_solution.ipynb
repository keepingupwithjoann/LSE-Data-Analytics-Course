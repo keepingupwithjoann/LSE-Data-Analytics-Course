{
 "cells": [
  {
   "cell_type": "markdown",
   "id": "ff63bf10",
   "metadata": {},
   "source": [
    "### LSE Data Analytics Online Career Accelerator\n",
    "\n",
    "# DA201: Data Analytics using Python"
   ]
  },
  {
   "cell_type": "markdown",
   "id": "c8443001",
   "metadata": {},
   "source": [
    "## Practical activity: Handle missing data"
   ]
  },
  {
   "cell_type": "markdown",
   "id": "20f8ce71",
   "metadata": {},
   "source": [
    "**This is the solution to the activity.**\n",
    "\n",
    "Canopy is a new boutique streaming company that is looking to create an app to provide recommendations for each user based on their recently watched movies. You are working with the team to better understand the data. \n",
    "\n",
    "You have access to the data sets `movies.xlsx` and `ott.csv` from Canopy."
   ]
  },
  {
   "cell_type": "markdown",
   "id": "9582fa09",
   "metadata": {},
   "source": [
    "### 1. Import Pandas"
   ]
  },
  {
   "cell_type": "code",
   "execution_count": null,
   "id": "9c49d9ae",
   "metadata": {},
   "outputs": [],
   "source": [
    "# Import the necessary packages\n",
    "import pandas as pd"
   ]
  },
  {
   "cell_type": "markdown",
   "id": "4410c181",
   "metadata": {},
   "source": [
    "### 2. Import data sets"
   ]
  },
  {
   "cell_type": "code",
   "execution_count": null,
   "id": "dd0ad86e",
   "metadata": {},
   "outputs": [],
   "source": [
    "# Import the movies data set\n",
    "movies = pd.read_excel('movies.xlsx')\n",
    "\n",
    "# View the DataFrame\n",
    "movies.head()"
   ]
  },
  {
   "cell_type": "code",
   "execution_count": null,
   "id": "7f842125",
   "metadata": {},
   "outputs": [],
   "source": [
    "# Import the ott data set\n",
    "ott = pd.read_csv('ott.csv')\n",
    "\n",
    "# View the DataFrame\n",
    "ott.head()"
   ]
  },
  {
   "cell_type": "markdown",
   "id": "34ede3e4",
   "metadata": {},
   "source": [
    "## 3. Calculate sum of missing data in Age column"
   ]
  },
  {
   "cell_type": "code",
   "execution_count": null,
   "id": "e1445ded",
   "metadata": {},
   "outputs": [],
   "source": [
    "# Determine the sum of missing values\n",
    "movies['Age'].isnull().sum()"
   ]
  },
  {
   "cell_type": "markdown",
   "id": "0400da12",
   "metadata": {},
   "source": [
    "## 4. Assign a specific value to missing data"
   ]
  },
  {
   "cell_type": "code",
   "execution_count": null,
   "id": "2aa92042",
   "metadata": {},
   "outputs": [],
   "source": [
    "# Replace the missing values in Age column with a set value\n",
    "movies['Age'][movies['Age'].isna()] = 'Others'"
   ]
  },
  {
   "cell_type": "code",
   "execution_count": null,
   "id": "a5afaaf6",
   "metadata": {},
   "outputs": [],
   "source": [
    "# Replace the missing values in the directors, genres, country and language with others\n",
    "movies['Directors'][movies['Directors'].isna()] = \"Others\"\n",
    "\n",
    "movies['Genres'][movies['Genres'].isna()] = \"Others\"\n",
    "\n",
    "movies['Country'][movies['Country'].isna()] = \"Others\"\n",
    "\n",
    "movies['Language'][movies['Language'].isna()] = \"Others\"\n",
    "\n",
    "# View the DataFrame\n",
    "movies"
   ]
  },
  {
   "cell_type": "markdown",
   "id": "0e10bcd9",
   "metadata": {},
   "source": [
    "## Advanced problem "
   ]
  },
  {
   "cell_type": "code",
   "execution_count": null,
   "id": "28ef34c6",
   "metadata": {},
   "outputs": [],
   "source": [
    "# Missing values for IMDb and Rotten Tomatoes\n",
    "print(movies['IMDb'].isnull().sum())\n",
    "\n",
    "print(movies['Rotten Tomatoes'].isnull().sum())"
   ]
  },
  {
   "cell_type": "code",
   "execution_count": null,
   "id": "c55a8a0b",
   "metadata": {},
   "outputs": [],
   "source": [
    "# Replace missing values with mean\n",
    "movies['IMDb'].fillna(movies['IMDb'].mean(),inplace=True)\n",
    "\n",
    "movies['Rotten Tomatoes'].fillna(movies['Rotten Tomatoes'].mean(),inplace=True)"
   ]
  },
  {
   "cell_type": "code",
   "execution_count": null,
   "id": "42dad70a",
   "metadata": {},
   "outputs": [],
   "source": [
    "# View the missing values for IMDb and Rotten Tomatoes\n",
    "print(movies['IMDb'].isnull().sum())\n",
    "\n",
    "print(movies['Rotten Tomatoes'].isnull().sum())"
   ]
  },
  {
   "cell_type": "code",
   "execution_count": null,
   "id": "de3d0cba",
   "metadata": {},
   "outputs": [],
   "source": []
  }
 ],
 "metadata": {
  "kernelspec": {
   "display_name": "Python 3 (ipykernel)",
   "language": "python",
   "name": "python3"
  },
  "language_info": {
   "codemirror_mode": {
    "name": "ipython",
    "version": 3
   },
   "file_extension": ".py",
   "mimetype": "text/x-python",
   "name": "python",
   "nbconvert_exporter": "python",
   "pygments_lexer": "ipython3",
   "version": "3.9.12"
  }
 },
 "nbformat": 4,
 "nbformat_minor": 5
}
