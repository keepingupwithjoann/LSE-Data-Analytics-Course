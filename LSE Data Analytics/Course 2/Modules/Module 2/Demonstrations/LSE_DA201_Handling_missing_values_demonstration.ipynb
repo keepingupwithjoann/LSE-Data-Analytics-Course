{
 "cells": [
  {
   "cell_type": "markdown",
   "id": "a408cbde",
   "metadata": {},
   "source": [
    "### LSE Data Analytics Online Career Accelerator \n",
    "\n",
    "# DA201:  Data Analytics with Python"
   ]
  },
  {
   "cell_type": "markdown",
   "id": "6eff48a1",
   "metadata": {},
   "source": [
    "## Handling missing values (tutorial video)"
   ]
  },
  {
   "cell_type": "markdown",
   "id": "e1cceaeb",
   "metadata": {},
   "source": [
    "This file contains the code snippets that are introduced in the Handling missing values video. \n",
    "Follow along with the demonstration to:\n",
    "- find missing values in a DataFrame \n",
    "\n",
    "\n",
    "Play and pause the video to follow along with the demonstration."
   ]
  },
  {
   "cell_type": "markdown",
   "id": "ad909960",
   "metadata": {},
   "source": [
    "### 1. Import the file and check the data set"
   ]
  },
  {
   "cell_type": "code",
   "execution_count": null,
   "id": "c6161f0a",
   "metadata": {},
   "outputs": [],
   "source": [
    "# Import the Pandas package.\n",
    "import pandas as pd\n",
    "\n",
    "# Read the CSV file from the current working directory.\n",
    "fitness = pd.read_csv('daily_activity.csv')\n",
    "\n",
    "# View the top five rows of the DataFrame.\n",
    "fitness.head()"
   ]
  },
  {
   "cell_type": "markdown",
   "id": "21f6839a",
   "metadata": {},
   "source": [
    "### 2. Check for missing values"
   ]
  },
  {
   "cell_type": "code",
   "execution_count": null,
   "id": "a8e68bc6",
   "metadata": {},
   "outputs": [],
   "source": [
    "# Check for missing values.\n",
    "# Create a new DataFrame and use the isna() function to find missing values.\n",
    "fitness_na = fitness[fitness.isna().any(axis=1)]\n",
    "\n",
    "# View the shape of the DataFrame.\n",
    "fitness_na.shape"
   ]
  },
  {
   "cell_type": "markdown",
   "id": "c94bbb41",
   "metadata": {},
   "source": [
    "### 3. Import the file and check the data set"
   ]
  },
  {
   "cell_type": "code",
   "execution_count": null,
   "id": "00bf5a12",
   "metadata": {},
   "outputs": [],
   "source": [
    "# Read the CSV file from the current working directory.\n",
    "fitness_raw = pd.read_csv('daily_activity_raw.csv')\n",
    "\n",
    "# View the top five rows of the DataFrame.\n",
    "fitness_raw.head()"
   ]
  },
  {
   "cell_type": "markdown",
   "id": "823dc240",
   "metadata": {},
   "source": [
    "### 4. Check for missing values"
   ]
  },
  {
   "cell_type": "code",
   "execution_count": null,
   "id": "c71e650c",
   "metadata": {},
   "outputs": [],
   "source": [
    "# Check for missing values.\n",
    "# Create a new DataFrame and use the isna() function to find missing values.\n",
    "fitness_raw_na = fitness[fitness_raw.isna().any(axis=1)]\n",
    "\n",
    "# View the shape of the DataFrame.\n",
    "fitness_raw_na.shape"
   ]
  }
 ],
 "metadata": {
  "kernelspec": {
   "display_name": "Python 3 (ipykernel)",
   "language": "python",
   "name": "python3"
  },
  "language_info": {
   "codemirror_mode": {
    "name": "ipython",
    "version": 3
   },
   "file_extension": ".py",
   "mimetype": "text/x-python",
   "name": "python",
   "nbconvert_exporter": "python",
   "pygments_lexer": "ipython3",
   "version": "3.9.7"
  }
 },
 "nbformat": 4,
 "nbformat_minor": 5
}
