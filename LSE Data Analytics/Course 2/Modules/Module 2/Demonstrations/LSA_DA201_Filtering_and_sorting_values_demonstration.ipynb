{
 "cells": [
  {
   "cell_type": "markdown",
   "id": "19f844b6",
   "metadata": {},
   "source": [
    "### LSE Data Analytics Online Career Accelerator \n",
    "\n",
    "# DA201:  Data Analytics with Python"
   ]
  },
  {
   "cell_type": "markdown",
   "id": "a1a89be0",
   "metadata": {},
   "source": [
    "## Filtering and sorting values (tutorial video)"
   ]
  },
  {
   "cell_type": "markdown",
   "id": "1672addd",
   "metadata": {},
   "source": [
    "This file contains the code snippets that are introduced in the Filtering and sorting values video. Follow along with the demonstration to:\n",
    "- filter and sort data from a Series\n",
    "- filter and sort fata from a DataFrame.\n",
    "\n",
    "Play and pause the video to follow along with the demonstration.\n",
    "\n",
    "Note that the first two code blocks are from the on-page content: 'Preparing your workstation' and 'Mapping a series'.\n",
    "You will need to start following the demonstration from '3. Filter a Series'."
   ]
  },
  {
   "cell_type": "markdown",
   "id": "4b9aa430",
   "metadata": {},
   "source": [
    "### 1. Prepare your workstation"
   ]
  },
  {
   "cell_type": "code",
   "execution_count": null,
   "id": "a91cca55",
   "metadata": {},
   "outputs": [],
   "source": [
    "# Import the Pandas package.\n",
    "import pandas as pd\n",
    "\n",
    "# Create the data for the DataFrame\n",
    "raw_data = {'Name': ['Thando Sinuka', 'Divya Patterson',\n",
    "                     'Simon De Wit', 'Peter Black',\n",
    "                     'Noncedo Dlamini', 'David Ackerman',\n",
    "                     'Eugene du Toit', 'Amaira Patteri',\n",
    "                     'Monica Le Blanc', 'Richard Fortress'],\n",
    "            'Age':[29, 26, 25, 23, 30, 35, 25, 27, 24, 32],\n",
    "            'Qualification': ['PhD', 'MSc', 'MBA', 'BSc',\n",
    "                              'MCom', 'BCom', 'PhD', 'MBA', \n",
    "                              'MCom', 'BCom'],\n",
    "            'Country': ['South Africa', 'Singapore', 'United Kingdom',\n",
    "                        'Australia', 'Lesotho', 'United Kingdom',\n",
    "                        'Canada', 'India', 'France', 'Canada']}\n",
    "\n",
    "# Specify the row_labels.\n",
    "row_labels = ['2021/0562/3215', '2021/2136/2132',\n",
    "              '2021/0021/5987', '2021/3165/0468',\n",
    "              '2021/0132/5496', '2021/3698/1346',\n",
    "              '2021/0147/9632', '2021/6549/1324',\n",
    "              '2021/9513/3579', '2021/3491/7916']\n",
    "\n",
    "# Specify the column names.\n",
    "students_updated = pd.DataFrame (raw_data,\n",
    "                                 columns = ['Name', 'Age', 'Qualification',\n",
    "                                            'Country', 'Test 1', 'Tutorial 1',\n",
    "                                            'Test 2', 'Tutorial 2', 'Test 3',\n",
    "                                            'Tutorial 3', 'Final mark', 'Pass'],\n",
    "\n",
    "                                 # Specify index = row_labels\n",
    "                                 index = row_labels)\n",
    "\n",
    "\n",
    "students_updated ['Test 1'] = [82, 90, 75, 70, 88, 65, 72, 76, 85, 68]\n",
    "students_updated ['Tutorial 1'] = [80, 75, 79, 69, 82, 68, 90, 84, 83, 79]\n",
    "\n",
    "students_updated"
   ]
  },
  {
   "cell_type": "markdown",
   "id": "c9cf4a04",
   "metadata": {},
   "source": [
    "### 2. Mapping a series"
   ]
  },
  {
   "cell_type": "code",
   "execution_count": null,
   "id": "4d73cd76",
   "metadata": {},
   "outputs": [],
   "source": [
    "# Students tutorial 2 mark.\n",
    "students_updated ['Tutorial 2'] = [80, 75, 79, 69, 82, 68, 90, 84, 83, 79]\n",
    "\n",
    "# Map method on tut 2.\n",
    "# Create new series.\n",
    "tut_2 = {80:80, 75:75, 79:76, 69:74, 82:80,\n",
    "         68:75, 90:80, 84:84, 83:81, 79:80}\n",
    "\n",
    "# Add new series to current DataFrame.\n",
    "students_updated['tut_2'] = students_updated ['Tutorial 2'].map(tut_2)\n",
    "\n",
    "# Reorder columns.\n",
    "students_updated = students_updated [['Name', 'Age', 'Qualification', \n",
    "                                     'Country', 'Test 1', 'Tutorial 1',\n",
    "                                     'Test 2', 'Tutorial 2', 'tut_2', \n",
    "                                     'Test 3', 'Tutorial 3', 'Final mark',\n",
    "                                     'Pass']]\n",
    "\n",
    "students_updated"
   ]
  },
  {
   "cell_type": "markdown",
   "id": "92c1206a",
   "metadata": {},
   "source": [
    "### 3. Filter a Series"
   ]
  },
  {
   "cell_type": "code",
   "execution_count": null,
   "id": "ecc3b367",
   "metadata": {},
   "outputs": [],
   "source": [
    "# Create a class list with all the students. \n",
    "class_list = pd.Series(['Thando', 'Divya', 'Simon',\n",
    "                  'Peter', 'Noncedo', 'David',\n",
    "                  'Eugene', 'Amaira', 'Monica', 'Richard'],\n",
    "            index=['2021/0562/3215', '2021/2136/2132',\n",
    "                    '2021/0021/5987', '2021/3165/0468',\n",
    "                  '2021/0132/5496', '2021/3698/1346',\n",
    "                  '2021/0147/9632', '2021/6549/1324',\n",
    "                    '2021/9513/3579', '2021/3491/7916'])\n",
    "\n",
    "# Filter the Series for 'Divya' using the ! operator.\n",
    "class_list [class_list != 'Divya']"
   ]
  },
  {
   "cell_type": "markdown",
   "id": "73f6123d",
   "metadata": {},
   "source": [
    "### 4. Filter a column from a DataFrame"
   ]
  },
  {
   "cell_type": "code",
   "execution_count": null,
   "id": "381ab06f",
   "metadata": {},
   "outputs": [],
   "source": [
    "# Filter columns Tutorial 2 and tut_2.\n",
    "tuts_2 = students_updated [['Tutorial 2', 'tut_2']]\n",
    "\n",
    "tuts_2"
   ]
  },
  {
   "cell_type": "markdown",
   "id": "f40dd963",
   "metadata": {},
   "source": [
    "### 5. Filter rows from a DataFrame"
   ]
  },
  {
   "cell_type": "code",
   "execution_count": null,
   "id": "805620a0",
   "metadata": {},
   "outputs": [],
   "source": [
    "# Filter rows tut_2.\n",
    "marks_adjusted = students_updated[students_updated['tut_2'] <80]\n",
    "\n",
    "marks_adjusted"
   ]
  },
  {
   "cell_type": "markdown",
   "id": "135823b8",
   "metadata": {},
   "source": [
    "### 6. Sorting a Series with index"
   ]
  },
  {
   "cell_type": "code",
   "execution_count": null,
   "id": "ea4e1731",
   "metadata": {},
   "outputs": [],
   "source": [
    "# Sort index.\n",
    "# Ascending order is default.\n",
    "class_list.sort_index()"
   ]
  },
  {
   "cell_type": "code",
   "execution_count": null,
   "id": "609b8a0f",
   "metadata": {},
   "outputs": [],
   "source": [
    "# Sort index in descending order.\n",
    "class_list.sort_index(ascending=False)"
   ]
  },
  {
   "cell_type": "markdown",
   "id": "6dc18596",
   "metadata": {},
   "source": [
    "### 7. Sorting a single column"
   ]
  },
  {
   "cell_type": "code",
   "execution_count": null,
   "id": "f439bac5",
   "metadata": {},
   "outputs": [],
   "source": [
    "# Sorting the Name column using the sort_values() method. \n",
    "# Ascending order, or A to Z, is default.\n",
    "students_updated.sort_values(by=['Name'], inplace=True)\n",
    "\n",
    "students_updated"
   ]
  },
  {
   "cell_type": "markdown",
   "id": "14ee45ee",
   "metadata": {},
   "source": [
    "### 8. Sorting by multiple columns"
   ]
  },
  {
   "cell_type": "code",
   "execution_count": null,
   "id": "167ca43d",
   "metadata": {},
   "outputs": [],
   "source": [
    "# Sorting the Test 1 and Tutorial 1 columns using the sort_values() method. \n",
    "students_updated.sort_values(by=['Test 1', 'Tutorial 1'], inplace=True)\n",
    "\n",
    "students_updated"
   ]
  }
 ],
 "metadata": {
  "kernelspec": {
   "display_name": "Python 3 (ipykernel)",
   "language": "python",
   "name": "python3"
  },
  "language_info": {
   "codemirror_mode": {
    "name": "ipython",
    "version": 3
   },
   "file_extension": ".py",
   "mimetype": "text/x-python",
   "name": "python",
   "nbconvert_exporter": "python",
   "pygments_lexer": "ipython3",
   "version": "3.9.7"
  }
 },
 "nbformat": 4,
 "nbformat_minor": 5
}
