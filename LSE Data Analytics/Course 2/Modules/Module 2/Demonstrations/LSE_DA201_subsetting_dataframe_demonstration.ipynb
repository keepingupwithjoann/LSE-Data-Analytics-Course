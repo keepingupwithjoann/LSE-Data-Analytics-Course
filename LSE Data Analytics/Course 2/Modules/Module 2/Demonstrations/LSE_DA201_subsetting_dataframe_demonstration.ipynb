{
 "cells": [
  {
   "cell_type": "markdown",
   "id": "db0752a3",
   "metadata": {},
   "source": [
    "### LSE Data Analytics Online Career Accelerator \n",
    "\n",
    "# DA201:  Data Analytics with Python"
   ]
  },
  {
   "cell_type": "markdown",
   "id": "028cc168",
   "metadata": {},
   "source": [
    "## Subsetting a data set with Pandas (tutorial video)"
   ]
  },
  {
   "cell_type": "markdown",
   "id": "80013542",
   "metadata": {},
   "source": [
    "This file contains the code snippets that are introduced in the Subsetting a data set with Pandas video. Follow along with the demonstration to:\n",
    "- try the five different options for subsetting a large data set\n",
    "- understand the advantages of subsetting a large data set.\n",
    "\n",
    "Play and pause the video to follow along with the demonstration."
   ]
  },
  {
   "cell_type": "markdown",
   "id": "3495e702",
   "metadata": {},
   "source": [
    "### 1. Import Pandas and the data"
   ]
  },
  {
   "cell_type": "markdown",
   "id": "ef61c88b",
   "metadata": {},
   "source": [
    "**Hint**: Upload the data file first if it is not yet in the same directory."
   ]
  },
  {
   "cell_type": "code",
   "execution_count": null,
   "id": "d23b35dc",
   "metadata": {},
   "outputs": [],
   "source": [
    "# Import libraries with standard conventions\n",
    "import pandas as pd\n",
    "\n",
    "# Subset the data set with the header() function\n",
    "# Read the FAO_raw.csv file\n",
    "food = pd.read_csv('FAO_raw.csv')\n",
    "\n",
    "# View the DataFrame\n",
    "food.head()"
   ]
  },
  {
   "cell_type": "code",
   "execution_count": null,
   "id": "cb7990b6",
   "metadata": {},
   "outputs": [],
   "source": [
    "# Dimensions of data set\n",
    "food.shape"
   ]
  },
  {
   "cell_type": "code",
   "execution_count": null,
   "id": "48be8b26",
   "metadata": {},
   "outputs": [],
   "source": [
    "# Determine the column names\n",
    "col_names = list(food)\n",
    "\n",
    "# View the DataFrame\n",
    "col_names"
   ]
  },
  {
   "cell_type": "markdown",
   "id": "3f7d65c6",
   "metadata": {},
   "source": [
    "## 2. Filter/subset data by columns"
   ]
  },
  {
   "cell_type": "code",
   "execution_count": null,
   "id": "f530f3d6",
   "metadata": {},
   "outputs": [],
   "source": [
    "# Column names with the read function\n",
    "# Read the FAO_raw.csv file\n",
    "food_usecols = pd.read_csv('FAO_raw.csv', \n",
    "                   usecols=['Area', 'Item', 'Element',\n",
    "                            'Unit', 'latitude', 'longitude',])\n",
    "\n",
    "# View the DataFrame\n",
    "food_usecols.head()"
   ]
  },
  {
   "cell_type": "markdown",
   "id": "c7723d6e",
   "metadata": {},
   "source": [
    "## 3. Filter/subset data by rows"
   ]
  },
  {
   "cell_type": "code",
   "execution_count": null,
   "id": "4febc767",
   "metadata": {},
   "outputs": [],
   "source": [
    "# Number of rows with read function\n",
    "# Read the FAO_raw.csv file\n",
    "food_nrows = pd.read_csv('FAO_raw.csv', nrows=10)\n",
    "\n",
    "# View the DataFrame\n",
    "food_nrows"
   ]
  },
  {
   "cell_type": "markdown",
   "id": "b98fc686",
   "metadata": {},
   "source": [
    "## 4. Filter/subset data with skiprows"
   ]
  },
  {
   "cell_type": "code",
   "execution_count": null,
   "id": "41a7197b",
   "metadata": {},
   "outputs": [],
   "source": [
    "# Skiprows with read function\n",
    "# Read the FAO_raw.csv file\n",
    "food_skiprows = pd.read_csv('FAO_raw.csv', skiprows=3)\n",
    "\n",
    "# View the DataFrame\n",
    "food_skiprows.head()"
   ]
  },
  {
   "cell_type": "markdown",
   "id": "9b05f2fb",
   "metadata": {},
   "source": [
    "## 5. Filter/subset data with skipfooter"
   ]
  },
  {
   "cell_type": "code",
   "execution_count": null,
   "id": "a3506d11",
   "metadata": {},
   "outputs": [],
   "source": [
    "# Determine if we have rows at the bottom of DataFrame.\n",
    "food.tail()"
   ]
  },
  {
   "cell_type": "code",
   "execution_count": null,
   "id": "0b43565a",
   "metadata": {},
   "outputs": [],
   "source": [
    "# Skipfooter with read function\n",
    "# Read the FAO_raw.csv file\n",
    "food_skipfooter = pd.read_csv('FAO_raw.csv', skipfooter=1)\n",
    "\n",
    "# View the DataFrame\n",
    "food_skipfooter.tail()"
   ]
  },
  {
   "cell_type": "code",
   "execution_count": null,
   "id": "0faec4f6",
   "metadata": {},
   "outputs": [],
   "source": []
  }
 ],
 "metadata": {
  "kernelspec": {
   "display_name": "Python 3 (ipykernel)",
   "language": "python",
   "name": "python3"
  },
  "language_info": {
   "codemirror_mode": {
    "name": "ipython",
    "version": 3
   },
   "file_extension": ".py",
   "mimetype": "text/x-python",
   "name": "python",
   "nbconvert_exporter": "python",
   "pygments_lexer": "ipython3",
   "version": "3.9.12"
  }
 },
 "nbformat": 4,
 "nbformat_minor": 5
}
