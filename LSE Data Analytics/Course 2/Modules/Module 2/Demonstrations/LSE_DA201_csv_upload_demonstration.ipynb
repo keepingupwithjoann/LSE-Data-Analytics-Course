{
 "cells": [
  {
   "cell_type": "markdown",
   "id": "b60ed9ac",
   "metadata": {},
   "source": [
    "### LSE Data Analytics Online Career Accelerator\n",
    "\n",
    "# DA201: Data Analytics using Python"
   ]
  },
  {
   "cell_type": "markdown",
   "id": "12e0dd2e",
   "metadata": {},
   "source": [
    "## Import CSV file into Jupyter Notebook (tutorial video)"
   ]
  },
  {
   "cell_type": "markdown",
   "id": "0a9ece0c",
   "metadata": {},
   "source": [
    "It is good practice to store CSV files in the same directory as your Jupyter Notebook. However, this might not always be possible. How do you upload a CSV file stored in a different directory into your Jupyter Notebook? You can either move the file manually to the Jupyter Notebook directory, or you can do it within Jupyter Notebook."
   ]
  },
  {
   "cell_type": "markdown",
   "id": "ffc6d4b4",
   "metadata": {},
   "source": [
    "Let’s explore how to upload the fitness data set, `daily_activity.csv`\n",
    "\n",
    "Play and pause the video to run the code snippets and watch the demonstration."
   ]
  },
  {
   "cell_type": "markdown",
   "id": "0542c68b",
   "metadata": {},
   "source": [
    "## 1. Import NumPy and Pandas"
   ]
  },
  {
   "cell_type": "code",
   "execution_count": null,
   "id": "daede86f",
   "metadata": {},
   "outputs": [],
   "source": [
    "# Import packages with standard conventions\n",
    "import numpy as np\n",
    "import pandas as pd"
   ]
  },
  {
   "cell_type": "markdown",
   "id": "9eca6b39",
   "metadata": {},
   "source": [
    "## 2. Upload the CSV file as shown in the video "
   ]
  },
  {
   "cell_type": "markdown",
   "id": "f153d9f3",
   "metadata": {},
   "source": [
    "Follow the steps in the video to upload the CSV file."
   ]
  },
  {
   "cell_type": "markdown",
   "id": "57b7ecc0",
   "metadata": {},
   "source": [
    "## 3. Read the CSV file with Pandas"
   ]
  },
  {
   "cell_type": "code",
   "execution_count": null,
   "id": "f5bf67e6",
   "metadata": {},
   "outputs": [],
   "source": [
    "# Read the CSV file with Pandas\n",
    "fitness = pd.read_csv('daily_activity.csv')\n",
    "\n",
    "# View the DataFrame\n",
    "fitness"
   ]
  },
  {
   "cell_type": "code",
   "execution_count": null,
   "id": "4822de82",
   "metadata": {},
   "outputs": [],
   "source": []
  }
 ],
 "metadata": {
  "kernelspec": {
   "display_name": "Python 3 (ipykernel)",
   "language": "python",
   "name": "python3"
  },
  "language_info": {
   "codemirror_mode": {
    "name": "ipython",
    "version": 3
   },
   "file_extension": ".py",
   "mimetype": "text/x-python",
   "name": "python",
   "nbconvert_exporter": "python",
   "pygments_lexer": "ipython3",
   "version": "3.9.12"
  }
 },
 "nbformat": 4,
 "nbformat_minor": 5
}
