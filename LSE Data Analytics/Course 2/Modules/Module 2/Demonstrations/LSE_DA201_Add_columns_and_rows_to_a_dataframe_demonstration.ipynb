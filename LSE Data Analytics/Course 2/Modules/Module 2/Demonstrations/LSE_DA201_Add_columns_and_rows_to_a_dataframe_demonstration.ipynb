{
  "metadata": {
    "kernelspec": {
      "name": "python",
      "display_name": "Python (Pyodide)",
      "language": "python"
    },
    "language_info": {
      "codemirror_mode": {
        "name": "python",
        "version": 3
      },
      "file_extension": ".py",
      "mimetype": "text/x-python",
      "name": "python",
      "nbconvert_exporter": "python",
      "pygments_lexer": "ipython3",
      "version": "3.8"
    }
  },
  "nbformat_minor": 5,
  "nbformat": 4,
  "cells": [
    {
      "cell_type": "markdown",
      "source": "### LSE Data Analytics Online Career Accelerator \n\n# DA201:  Data Analytics with Python",
      "metadata": {},
      "id": "b6317286"
    },
    {
      "cell_type": "markdown",
      "source": "## Adding columns and rows to a DataFrame (tutorial video)",
      "metadata": {},
      "id": "d7d61f60"
    },
    {
      "cell_type": "markdown",
      "source": "This file contains the code snippets that are introduced in the Adding columns and rows to a DataFrame video. \nFollow along with the demonstration to:\n- add columns to a Dataframe\n- add rows to a DataFrame.\n\nPlay and pause the video to follow along with the demonstration.",
      "metadata": {},
      "id": "0da98d03"
    },
    {
      "cell_type": "markdown",
      "source": "### 1. Import packages and create a DataFrame",
      "metadata": {},
      "id": "72b69990"
    },
    {
      "cell_type": "code",
      "source": "# Import packages.\nimport pandas as pd",
      "metadata": {},
      "execution_count": null,
      "outputs": [],
      "id": "6682f65f"
    },
    {
      "cell_type": "code",
      "source": "# Create a dictionary to hold the student data.\ndata = {'Name': ['Thando', 'Divya', 'Simon', 'Peter'],\n        'Country': ['South Africa', 'Singapore', 'United Kingdom', 'Australia'],\n        'Qualification': ['Phd', 'Diploma', 'BSc', 'MBA'],\n        'Age': [29, 20, 25, 23]}\n\n# Create a DataFrame from the dictionary.\nstudents = pd.DataFrame(data)\n\n# View the DataFrame\nstudents",
      "metadata": {},
      "execution_count": null,
      "outputs": [],
      "id": "9017fc15"
    },
    {
      "cell_type": "markdown",
      "source": "### 2. Reorder and add a column",
      "metadata": {},
      "id": "3c65b5bf"
    },
    {
      "cell_type": "code",
      "source": "# Re-order the columns.\nstudents = pd.DataFrame(data, columns=['Name', 'Age', 'Qualification', 'Country'])\n\nstudents",
      "metadata": {},
      "execution_count": null,
      "outputs": [],
      "id": "ea130726"
    },
    {
      "cell_type": "code",
      "source": "# Add a column (Final mark).\nstudents = pd.DataFrame(data, columns=['Name', 'Age', 'Qualification', 'Country', 'Final mark'])\n\nstudents",
      "metadata": {},
      "execution_count": null,
      "outputs": [],
      "id": "f23eec94"
    },
    {
      "cell_type": "markdown",
      "source": "### 3. Add new rows",
      "metadata": {},
      "id": "83d9304b"
    },
    {
      "cell_type": "code",
      "source": "# Create a new DataFrame with new data.\n# Create a dictionary to hold the new student information.\nnew_data = {'Name': ['Noncedo', 'David', 'Eugene', 'Amaira', 'Monica', 'Richard'],\n            'Age': [22, 23, 25, 24, 26, 22],\n            'Qualification':['Diploma', 'BCom', 'Diploma', 'MCom', 'Phd', 'BCom'],\n            'Country': ['Lesotho', 'United Kingdom', 'Australia', 'India', 'Poland', 'Germany']}\n\n# Create a DataFrame from the dictionary.\nstudents_2 = pd.DataFrame(new_data)\n\nstudents_2",
      "metadata": {},
      "execution_count": null,
      "outputs": [],
      "id": "f4c5647a"
    },
    {
      "cell_type": "code",
      "source": "# Add rows with the append() function.\nstudents_final = students.append(students_2, ignore_index=True)\n\nstudents_final",
      "metadata": {},
      "execution_count": null,
      "outputs": [],
      "id": "0cb42ae8"
    },
    {
      "cell_type": "code",
      "source": "# Add rows with the concat() function.\nstudents_concat = pd.concat([students, students_2], ignore_index=True)\n\nstudents_concat",
      "metadata": {},
      "execution_count": null,
      "outputs": [],
      "id": "56339ce6"
    }
  ]
}