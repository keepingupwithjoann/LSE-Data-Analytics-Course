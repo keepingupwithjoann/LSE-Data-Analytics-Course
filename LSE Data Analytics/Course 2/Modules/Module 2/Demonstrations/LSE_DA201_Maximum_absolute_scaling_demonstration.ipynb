{
  "metadata": {
    "kernelspec": {
      "name": "python",
      "display_name": "Python (Pyodide)",
      "language": "python"
    },
    "language_info": {
      "codemirror_mode": {
        "name": "python",
        "version": 3
      },
      "file_extension": ".py",
      "mimetype": "text/x-python",
      "name": "python",
      "nbconvert_exporter": "python",
      "pygments_lexer": "ipython3",
      "version": "3.8"
    }
  },
  "nbformat_minor": 5,
  "nbformat": 4,
  "cells": [
    {
      "cell_type": "markdown",
      "source": "### LSE Data Analytics Online Career Accelerator \n\n# DA201:  Data Analytics with Python",
      "metadata": {},
      "id": "d1d293c6"
    },
    {
      "cell_type": "markdown",
      "source": "## Maximum absolute scaling (tutorial video)",
      "metadata": {},
      "id": "1c5a21e7"
    },
    {
      "cell_type": "markdown",
      "source": "This file contains the code snippets that are introduced in the Maximum absolute scaling video. \nFollow along with the demonstration to:\n- use the maximum absolute scaling technique to transform and normalise data.\n\n\nPlay and pause the video to follow along with the demonstration.",
      "metadata": {},
      "id": "e6271071"
    },
    {
      "cell_type": "markdown",
      "source": "### 1. Set up your workstation",
      "metadata": {},
      "id": "c0166274"
    },
    {
      "cell_type": "code",
      "source": "# Import the Pandas package.\nimport pandas as pd\n\n# Read the CSV file from the current working directory.\nfitness = pd.read_csv('daily_activity.csv')\n\n# View the DataFrame shape.\nfitness.shape",
      "metadata": {},
      "execution_count": null,
      "outputs": [],
      "id": "4a7e09ff"
    },
    {
      "cell_type": "markdown",
      "source": "### 2. View the values before normalisation",
      "metadata": {},
      "id": "934467e5"
    },
    {
      "cell_type": "code",
      "source": "# Values of total distance before scaling.\nfitness['TotalDistance']",
      "metadata": {},
      "execution_count": null,
      "outputs": [],
      "id": "2a68845e"
    },
    {
      "cell_type": "markdown",
      "source": "### 3. Normalise the data",
      "metadata": {},
      "id": "c70a4cf2"
    },
    {
      "cell_type": "code",
      "source": "# Apply the maximum absolute scaling in Pandas using the .abs() and .max() methods.\ndef max_abs_scaling(df):\n    # Copy the DataFrame.\n    df_scaled = df.copy()\n    if isinstance(df_scaled, pd.DataFrame):\n        # Apply maximum absolute scaling.\n        for column in df_scaled.columns:\n            df_scaled[column] = df_scaled[column] / df_scaled[column].abs(\n            ).max()\n    else:\n        df_scaled = df_scaled / df_scaled.abs().max()\n        \n    return df_scaled",
      "metadata": {},
      "execution_count": null,
      "outputs": [],
      "id": "c117b847"
    },
    {
      "cell_type": "code",
      "source": "# Call the maximum_absolute_scaling function.\nfitness['TotalDistance'] = max_abs_scaling(fitness['TotalDistance'])",
      "metadata": {},
      "execution_count": null,
      "outputs": [],
      "id": "5fae8a9e"
    },
    {
      "cell_type": "code",
      "source": "# Call the new values of the total distance column.\nfitness['TotalDistance']",
      "metadata": {},
      "execution_count": null,
      "outputs": [],
      "id": "40e86f1d"
    }
  ]
}