{
  "metadata": {
    "kernelspec": {
      "name": "python",
      "display_name": "Python (Pyodide)",
      "language": "python"
    },
    "language_info": {
      "codemirror_mode": {
        "name": "python",
        "version": 3
      },
      "file_extension": ".py",
      "mimetype": "text/x-python",
      "name": "python",
      "nbconvert_exporter": "python",
      "pygments_lexer": "ipython3",
      "version": "3.8"
    }
  },
  "nbformat_minor": 5,
  "nbformat": 4,
  "cells": [
    {
      "cell_type": "markdown",
      "source": "### LSE Data Analytics Online Career Accelerator \n\n# DA201:  Data Analytics with Python",
      "metadata": {},
      "id": "d229f2d1"
    },
    {
      "cell_type": "markdown",
      "source": "## Min-max feature scaling (tutorial video)",
      "metadata": {},
      "id": "94257013"
    },
    {
      "cell_type": "markdown",
      "source": "This file contains the code snippets that are introduced in the Min-max feature scaling video. \nFollow along with the demonstration to:\n- normalise data using the min-max feature scaling technique.\n\nPlay and pause the video to follow along with the demonstration.",
      "metadata": {},
      "id": "cbf0316e"
    },
    {
      "cell_type": "markdown",
      "source": "### 1. Prepare your workstation",
      "metadata": {},
      "id": "9cc92cf8"
    },
    {
      "cell_type": "code",
      "source": "# Import the Pandas package.\nimport pandas as pd\n\n# Read the CSV file from the current working directory.\nfitness = pd.read_csv('daily_activity.csv')\n\n# View the DataFrame shape.\nfitness.shape",
      "metadata": {},
      "execution_count": null,
      "outputs": [],
      "id": "555735f4"
    },
    {
      "cell_type": "markdown",
      "source": "### 2. View the values before normalisation",
      "metadata": {},
      "id": "b1f1ee8a"
    },
    {
      "cell_type": "code",
      "source": "# Values of sedentary minutes before scaling.\nfitness['SedentaryMinutes']",
      "metadata": {},
      "execution_count": null,
      "outputs": [],
      "id": "cf4dfa00"
    },
    {
      "cell_type": "markdown",
      "source": "### 3. Normalise the data",
      "metadata": {},
      "id": "53acbf80"
    },
    {
      "cell_type": "code",
      "source": "# Apply the min-max scaling in Pandas using the .min() and .max() methods.\ndef min_max_scaling(df):\n    # Copy the DataFrame.\n    df_scaled = df.copy()\n    # Apply min-max scaling.\n    if isinstance(df_scaled, pd.DataFrame):\n        for column in df_scaled.columns:\n            # The for parameter will create a new column indicating the new value.\n            df_scaled[column] = (df_scaled[column] - df_scaled[column].min()\n                                ) / (df_scaled[column].max(\n            ) - df_scaled[column].min())\n    else:\n        df_scaled = (df_scaled - df_scaled.min()) / (df_scaled.max(\n        ) - df_scaled.min())\n  \n    return df_scaled",
      "metadata": {},
      "execution_count": null,
      "outputs": [],
      "id": "86f4235e"
    },
    {
      "cell_type": "code",
      "source": "# Call the min_max_scaling function.\nfitness['SedentaryMinutes_new'] = min_max_scaling(fitness['SedentaryMinutes'])",
      "metadata": {},
      "execution_count": null,
      "outputs": [],
      "id": "470f6c54"
    },
    {
      "cell_type": "code",
      "source": "# Call the new values of the sedentary minutes column.\nfitness['SedentaryMinutes_new']",
      "metadata": {},
      "execution_count": null,
      "outputs": [],
      "id": "05d95f71"
    }
  ]
}