{
 "cells": [
  {
   "cell_type": "markdown",
   "id": "8fb8e222",
   "metadata": {},
   "source": [
    "### LSE Data Analytics Online Career Accelerator\n",
    "\n",
    "# DA201: Data Analytics Using Python"
   ]
  },
  {
   "cell_type": "markdown",
   "id": "17b97011",
   "metadata": {},
   "source": [
    "## Practical activity: Reshaping a DataFrame"
   ]
  },
  {
   "cell_type": "markdown",
   "id": "66d33b26",
   "metadata": {},
   "source": [
    "**This is the solution to the activity.**\n",
    "\n",
    "Mandisa Nkosi is working with with a political party that needs to decide how best to invest its available advertising budget. Mandisa believes she can gain some insights into potential advertising avenues by analysing films that are available on streaming platforms. \n",
    "\n",
    "This analysis uses the `movies_merge.xlsx` and `ott_merge.csv` data sets. Using the pivot() function, you will organise the DataFrame by:\n",
    "\n",
    "- the film release date and content rating\n",
    "- the title of movies, the directors, and genres by content rating\n",
    "- the title of movies, the released year, and language by content rating\n",
    "- Netflix-screened movies based on language, runtime, and country\n",
    "- the title of movies, specified language, potential runtime, and genres by content rating.\n",
    "\n",
    "The insights gained from the analysis will inform the campaign, promotional materials, slogans, and language the political party will use to reach potential voters."
   ]
  },
  {
   "cell_type": "markdown",
   "id": "8ff14b16",
   "metadata": {},
   "source": [
    "## Prepare your workstation"
   ]
  },
  {
   "cell_type": "code",
   "execution_count": null,
   "id": "ca873134",
   "metadata": {},
   "outputs": [],
   "source": [
    "# Import Pandas.\n",
    "import pandas as pd\n",
    "\n",
    "# Load the Excel data using pd.read_excel.\n",
    "movies = pd.read_excel('movies_merge.xlsx')\n",
    "\n",
    "# Load the csv data using pd.read_csv.\n",
    "ott = pd.read_csv('ott_merge.csv')\n",
    "\n",
    "# Data imported correctly?\n",
    "print(movies.columns)\n",
    "print(movies.shape)\n",
    "print(ott.columns)\n",
    "print(ott.shape)\n",
    "\n",
    "# Merge the two DataFrames.\n",
    "mov_ott = pd.merge(movies, ott, how='left', on = 'ID')\n",
    "\n",
    "# DataFrames merged correctly?\n",
    "print(mov_ott.columns)\n",
    "print(mov_ott.shape)"
   ]
  },
  {
   "cell_type": "code",
   "execution_count": null,
   "id": "6ecc0e8e",
   "metadata": {
    "scrolled": true
   },
   "outputs": [],
   "source": [
    "# View the DataFrame.\n",
    "mov_ott"
   ]
  },
  {
   "cell_type": "markdown",
   "id": "fbecd332",
   "metadata": {},
   "source": [
    "## 1: The film release date and content rating"
   ]
  },
  {
   "cell_type": "code",
   "execution_count": null,
   "id": "0589a964",
   "metadata": {},
   "outputs": [],
   "source": [
    "# Determine movies per year and age group.\n",
    "movies.pivot(index='Title', columns='Age', \n",
    "             values='Year')"
   ]
  },
  {
   "cell_type": "markdown",
   "id": "a8d83907",
   "metadata": {},
   "source": [
    "## 2: The title of movies, the directors, and genres by content rating"
   ]
  },
  {
   "cell_type": "code",
   "execution_count": null,
   "id": "3953e2b4",
   "metadata": {},
   "outputs": [],
   "source": [
    "# Determine movies, directors, and genres per age group.\n",
    "movies.pivot(index='Title', columns='Age', \n",
    "             values=['Directors', 'Genres'])"
   ]
  },
  {
   "cell_type": "markdown",
   "id": "c6bdbf22",
   "metadata": {},
   "source": [
    "## 3: The title of movies, the released year, and language by content rating"
   ]
  },
  {
   "cell_type": "code",
   "execution_count": null,
   "id": "54675ff5",
   "metadata": {},
   "outputs": [],
   "source": [
    "# Determine movies, year, and language per age group.\n",
    "movies.pivot(index='Title', columns='Age', \n",
    "             values=['Year', 'Language'])"
   ]
  },
  {
   "cell_type": "markdown",
   "id": "0a48a678",
   "metadata": {},
   "source": [
    "## 4: Netflix-screened movies based on language, runtime, and country"
   ]
  },
  {
   "cell_type": "code",
   "execution_count": null,
   "id": "9b918edb",
   "metadata": {},
   "outputs": [],
   "source": [
    "# Determine the language, runtime, and country of movies screened by Netflix.\n",
    "mov_ott.pivot(index='Title', columns='Netflix', \n",
    "              values=['Language', 'Runtime', 'Country'])"
   ]
  },
  {
   "cell_type": "markdown",
   "id": "6e51239d",
   "metadata": {},
   "source": [
    "## 5: The title of movies, specified language, potential runtime, and genres by content rating"
   ]
  },
  {
   "cell_type": "code",
   "execution_count": null,
   "id": "b13435ee",
   "metadata": {},
   "outputs": [],
   "source": [
    "# Determine the movies, language, runtime, and genres per age group.\n",
    "mov_ott.pivot(index='Title', columns='Age', \n",
    "              values=['Language', 'Runtime','Genres'])"
   ]
  },
  {
   "cell_type": "code",
   "execution_count": null,
   "id": "4012d4f7",
   "metadata": {},
   "outputs": [],
   "source": []
  }
 ],
 "metadata": {
  "kernelspec": {
   "display_name": "Python 3 (ipykernel)",
   "language": "python",
   "name": "python3"
  },
  "language_info": {
   "codemirror_mode": {
    "name": "ipython",
    "version": 3
   },
   "file_extension": ".py",
   "mimetype": "text/x-python",
   "name": "python",
   "nbconvert_exporter": "python",
   "pygments_lexer": "ipython3",
   "version": "3.9.12"
  }
 },
 "nbformat": 4,
 "nbformat_minor": 5
}
