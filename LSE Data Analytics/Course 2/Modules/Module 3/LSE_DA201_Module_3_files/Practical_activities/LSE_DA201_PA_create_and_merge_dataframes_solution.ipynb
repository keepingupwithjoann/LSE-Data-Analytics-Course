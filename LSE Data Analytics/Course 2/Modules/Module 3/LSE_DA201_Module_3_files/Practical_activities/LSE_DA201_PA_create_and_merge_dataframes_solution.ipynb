{
 "cells": [
  {
   "cell_type": "markdown",
   "id": "d0a7d301",
   "metadata": {},
   "source": [
    "### LSE Data Analytics Online Career Accelerator\n",
    "\n",
    "# DA201: Data Analytics Using Python"
   ]
  },
  {
   "cell_type": "markdown",
   "id": "2f417964",
   "metadata": {},
   "source": [
    "## Practical activity: Create and merge the DataFrames"
   ]
  },
  {
   "cell_type": "markdown",
   "id": "bf5a72f6",
   "metadata": {},
   "source": [
    "**This is the solution to the activity.**\n",
    "\n",
    "Mandisa Nkosi is working with with a political party that needs to decide how best to invest its available advertising budget. Mandisa believes she can gain some insights into potential advertising avenues by analysing films that are available on streaming platforms. \n",
    "\n",
    "This analysis uses the `movies_merge.xlsx` and `ott_merge.csv` data sets. Your objectives at this stage are to prepare for analysis by:\n",
    "\n",
    "- importing the CSV files into DataFrames\n",
    "- viewing the DataFrames\n",
    "- describing the DataFrames to understand the structures and data types\n",
    "- merging the two DataFrames into a single DataFrame.\n",
    "\n",
    "The insights gained from the analysis will inform the campaign, promotional materials, slogans, and language the political party will use to reach potential voters."
   ]
  },
  {
   "cell_type": "markdown",
   "id": "46575e3b",
   "metadata": {},
   "source": [
    "## 1. Import Pandas"
   ]
  },
  {
   "cell_type": "code",
   "execution_count": null,
   "id": "efc33631",
   "metadata": {},
   "outputs": [],
   "source": [
    "# Import necessary package.\n",
    "import pandas as pd"
   ]
  },
  {
   "cell_type": "markdown",
   "id": "20cf0796",
   "metadata": {},
   "source": [
    "## 2. Import Excel file"
   ]
  },
  {
   "cell_type": "code",
   "execution_count": null,
   "id": "add3a512",
   "metadata": {},
   "outputs": [],
   "source": [
    "# Load the Excel data using pd.read_excel.\n",
    "movies = pd.read_excel('movies_merge.xlsx')\n",
    "\n",
    "# View the column names.\n",
    "print(movies.columns)"
   ]
  },
  {
   "cell_type": "markdown",
   "id": "165b653b",
   "metadata": {},
   "source": [
    "## 3. Import CSV file"
   ]
  },
  {
   "cell_type": "code",
   "execution_count": null,
   "id": "7f9dc576",
   "metadata": {},
   "outputs": [],
   "source": [
    "# Load the csv data using pd.read_csv.\n",
    "ott = pd.read_csv('ott_merge.csv')\n",
    "\n",
    "# View the column names.\n",
    "print(ott.columns)"
   ]
  },
  {
   "cell_type": "markdown",
   "id": "c1b0dfa1",
   "metadata": {},
   "source": [
    "## 4. Validate the DataFrames"
   ]
  },
  {
   "cell_type": "code",
   "execution_count": null,
   "id": "2bf5bfee",
   "metadata": {},
   "outputs": [],
   "source": [
    "# Data imported correctly?\n",
    "print(movies.shape)\n",
    "movies.head()"
   ]
  },
  {
   "cell_type": "code",
   "execution_count": null,
   "id": "c502c9ea",
   "metadata": {},
   "outputs": [],
   "source": [
    "# Data imported correctly?\n",
    "print(ott.shape)\n",
    "ott.head()"
   ]
  },
  {
   "cell_type": "markdown",
   "id": "e0d235d3",
   "metadata": {},
   "source": [
    "## 5. Describe the data types"
   ]
  },
  {
   "cell_type": "code",
   "execution_count": null,
   "id": "dd3f0948",
   "metadata": {},
   "outputs": [],
   "source": [
    "# Determine the data types.\n",
    "print(ott.dtypes)\n",
    "print(movies.dtypes)"
   ]
  },
  {
   "cell_type": "markdown",
   "id": "f6824f0b",
   "metadata": {},
   "source": [
    "## 6. Combine the two DataFrames\n",
    "### a) merge()"
   ]
  },
  {
   "cell_type": "code",
   "execution_count": null,
   "id": "741c97b3",
   "metadata": {},
   "outputs": [],
   "source": [
    "# Merge the two DataFrames.\n",
    "df_mov_ott = pd.merge(movies, ott, how='left', on = 'ID')\n",
    "\n",
    "# View the new DataFrame.\n",
    "print(df_mov_ott.shape)\n",
    "df_mov_ott.head()"
   ]
  },
  {
   "cell_type": "markdown",
   "id": "a7baa985",
   "metadata": {},
   "source": [
    "### b) concat()"
   ]
  },
  {
   "cell_type": "code",
   "execution_count": null,
   "id": "959894d9",
   "metadata": {},
   "outputs": [],
   "source": [
    "# Concatenate the two DataFrames.\n",
    "mov_ott_concat = pd.concat([movies, ott], axis=0)\n",
    "\n",
    "# View the new DataFrame.\n",
    "print(mov_ott_concat.shape)\n",
    "mov_ott_concat.head()"
   ]
  },
  {
   "cell_type": "code",
   "execution_count": null,
   "id": "17248e1f",
   "metadata": {},
   "outputs": [],
   "source": []
  }
 ],
 "metadata": {
  "kernelspec": {
   "display_name": "Python 3 (ipykernel)",
   "language": "python",
   "name": "python3"
  },
  "language_info": {
   "codemirror_mode": {
    "name": "ipython",
    "version": 3
   },
   "file_extension": ".py",
   "mimetype": "text/x-python",
   "name": "python",
   "nbconvert_exporter": "python",
   "pygments_lexer": "ipython3",
   "version": "3.9.12"
  }
 },
 "nbformat": 4,
 "nbformat_minor": 5
}
