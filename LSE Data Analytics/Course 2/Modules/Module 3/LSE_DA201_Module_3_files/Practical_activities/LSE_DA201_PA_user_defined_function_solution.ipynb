{
 "cells": [
  {
   "cell_type": "markdown",
   "metadata": {},
   "source": [
    "### LSE Data Analytics Online Career Accelerator\n",
    "\n",
    "# DA201: Data Analytics Using Python"
   ]
  },
  {
   "cell_type": "markdown",
   "metadata": {},
   "source": [
    "## Practical activity: Write and apply user-defined functions"
   ]
  },
  {
   "cell_type": "markdown",
   "metadata": {},
   "source": [
    "**This is the solution to the activity.**\n",
    "\n",
    "Mandisa Nkosi is working with with a political party that needs to decide how best to invest its available advertising budget. Mandisa believes she can gain some insights into potential advertising avenues by analysing films that are available on streaming platforms. \n",
    "\n",
    "This analysis uses the `movies_merge.xlsx` and `ott_merge.csv` data sets. To help the political party make the decision about advertisements, Mandisa comes up with a few questions she feels will be possible to explore from the available data and useful for the political party:\n",
    "\n",
    "- What is the average rating per movie?\n",
    "- How many movies were released per content rating (age)?\n",
    "- How many movies were released per year?\n",
    "\n",
    "The insights gained from the analysis will inform the campaign, promotional materials, slogans, and language the political party will use to reach potential voters."
   ]
  },
  {
   "cell_type": "markdown",
   "metadata": {},
   "source": [
    "### Prepare your workstation"
   ]
  },
  {
   "cell_type": "code",
   "execution_count": null,
   "metadata": {},
   "outputs": [],
   "source": [
    "# Import Pandas.\n",
    "import pandas as pd\n",
    "import numpy as np\n",
    "\n",
    "# Load the Excel data using pd.read_excel.\n",
    "movies = pd.read_excel('movies_merge.xlsx')\n",
    "\n",
    "# Load the csv data using pd.read_csv.\n",
    "ott = pd.read_csv('ott_merge.csv')\n",
    "\n",
    "# Data imported correctly?\n",
    "print(movies.columns)\n",
    "print(movies.shape)\n",
    "print(ott.columns)\n",
    "print(ott.shape)\n",
    "\n",
    "# Merge the two DataFrames.\n",
    "mov_ott = pd.merge(movies, ott, how='left', on = 'ID')\n",
    "\n",
    "# DataFrames merged correctly?\n",
    "print(mov_ott.columns)\n",
    "print(mov_ott.shape)"
   ]
  },
  {
   "cell_type": "markdown",
   "metadata": {},
   "source": [
    "# "
   ]
  },
  {
   "cell_type": "markdown",
   "metadata": {},
   "source": [
    "## Question 1: What is the average rating per movie?"
   ]
  },
  {
   "cell_type": "code",
   "execution_count": null,
   "metadata": {},
   "outputs": [],
   "source": [
    "# View IMDb and Rotten Tomatoes columns.\n",
    "mov_ott_ratings = mov_ott[['ID', 'IMDb', 'Rotten Tomatoes']]\n",
    "\n",
    "# View the DataFrame.\n",
    "mov_ott_ratings"
   ]
  },
  {
   "cell_type": "code",
   "execution_count": null,
   "metadata": {},
   "outputs": [],
   "source": [
    "# Replace missing values with 0.\n",
    "mov_ott_ratings_final = mov_ott_ratings.fillna(0)\n",
    "\n",
    "# View the DataFrame.\n",
    "mov_ott_ratings_final"
   ]
  },
  {
   "cell_type": "code",
   "execution_count": null,
   "metadata": {},
   "outputs": [],
   "source": [
    "# Add a new column to the DataFrame indicating average rating.\n",
    "# Average rating is ((IMDb/10) + Rotten Tomaties)/n.\n",
    "# Write a user defined function.\n",
    "def av_col2(df1,df2):\n",
    "    df = (df1/10 + df2)/2\n",
    "    return df\n",
    "\n",
    "mov_ott_ratings_final['Rating'] = av_col2(mov_ott_ratings_final['IMDb'],\n",
    "                                          mov_ott_ratings_final['Rotten Tomatoes'])\n",
    "\n",
    "# View the DataFrame.\n",
    "mov_ott_ratings_final                    "
   ]
  },
  {
   "cell_type": "markdown",
   "metadata": {},
   "source": [
    "# "
   ]
  },
  {
   "cell_type": "markdown",
   "metadata": {},
   "source": [
    "## Question 2: How many movies were released per content rating (age)?"
   ]
  },
  {
   "cell_type": "code",
   "execution_count": null,
   "metadata": {},
   "outputs": [],
   "source": [
    "# Categorical count. \n",
    "def cat_cnt(df1):\n",
    "    print(df1.value_counts())\n",
    "\n",
    "# Number of movies released per 'Age'.\n",
    "df = mov_ott['Age'].astype('category')\n",
    "\n",
    "# View the output.\n",
    "cat_cnt(df)"
   ]
  },
  {
   "cell_type": "markdown",
   "metadata": {},
   "source": [
    "# "
   ]
  },
  {
   "cell_type": "markdown",
   "metadata": {},
   "source": [
    "## Question 3: How many movies were released per year?"
   ]
  },
  {
   "cell_type": "code",
   "execution_count": null,
   "metadata": {},
   "outputs": [],
   "source": [
    "# Categorical count. \n",
    "def cat_cnt(df1):\n",
    "    print(df1.value_counts())\n",
    "\n",
    "# Number of movies released per 'Year'.\n",
    "df = mov_ott['Year'].astype('category')\n",
    "\n",
    "# View the output.\n",
    "cat_cnt(df)"
   ]
  },
  {
   "cell_type": "code",
   "execution_count": null,
   "metadata": {},
   "outputs": [],
   "source": []
  }
 ],
 "metadata": {
  "kernelspec": {
   "display_name": "Python 3 (ipykernel)",
   "language": "python",
   "name": "python3"
  },
  "language_info": {
   "codemirror_mode": {
    "name": "ipython",
    "version": 3
   },
   "file_extension": ".py",
   "mimetype": "text/x-python",
   "name": "python",
   "nbconvert_exporter": "python",
   "pygments_lexer": "ipython3",
   "version": "3.9.12"
  }
 },
 "nbformat": 4,
 "nbformat_minor": 4
}
