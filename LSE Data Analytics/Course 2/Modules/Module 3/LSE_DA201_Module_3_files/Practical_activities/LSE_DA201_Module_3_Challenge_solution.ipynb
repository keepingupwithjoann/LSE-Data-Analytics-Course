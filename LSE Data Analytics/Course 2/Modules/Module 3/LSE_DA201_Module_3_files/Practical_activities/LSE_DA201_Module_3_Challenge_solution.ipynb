{
 "cells": [
  {
   "cell_type": "markdown",
   "metadata": {},
   "source": [
    "### LSE Data Analytics Online Career Accelerator\n",
    "\n",
    "# DA201: Data Analytics Using Python"
   ]
  },
  {
   "cell_type": "markdown",
   "metadata": {},
   "source": [
    "## Module 3 (Optional) Challenge activity: Wrangle your data using Pandas"
   ]
  },
  {
   "cell_type": "markdown",
   "metadata": {},
   "source": [
    "#### This is the solution to the optional challenge activity.\n",
    "You are employed by Investgenics, an investment firm that specialises in financial data analytics for businesses. The firm provides potential investors with investment advice and planning. As a data consultant, you will need to perform an in-depth analysis of the data to formulate investment strategies for clients, helping them fulfil their needs and reach their financial goals.\n",
    "\n",
    "As a rule of investing, an investor shouldn’t invest everything in a single place; instead, they should be able to distribute the risks by investing in diverse resources to maximise returns while minimising risk. Although stocks are the leading investment vehicles, historically, investing in commodities such as gold and oil often ensures great returns as well.\n",
    "\n",
    "Investgenics has a solid reputation for accurately forecasting stocks and commodity-based investments leveraging descriptive and diagnostic analytics. The firm has a robust Python architecture that will let you perform analysis with increased efficiency and productive application across various sources of data that would provide a well-rounded answer to the business objectives. \n",
    "\n",
    "In the previous challenge, you calculated the stocks with the highest and lowest level. However, for this week, you will apply your Pandas knowledge to understand your data better and solve some specific problems for Investgenics. The following business questions were posed:\n",
    "\n",
    "- What is the daily average price of gold and oil in British pounds (GBP)?\n",
    "- How does the daily average price (GBP) of gold and oil compare?"
   ]
  },
  {
   "cell_type": "markdown",
   "metadata": {},
   "source": [
    "## 1.0 Prepare your workstation"
   ]
  },
  {
   "cell_type": "code",
   "execution_count": null,
   "metadata": {},
   "outputs": [],
   "source": [
    "# Import Pandas.\n",
    "import pandas as pd\n",
    "\n",
    "# Import the CSV files.\n",
    "oil = pd.read_csv('oil_price.csv')\n",
    "gold = pd.read_csv('gold_stocks_price.csv')\n",
    "\n",
    "# View the DataFrames.\n",
    "print(oil.shape)\n",
    "print(oil.dtypes)\n",
    "\n",
    "# View the gold DataFrame.\n",
    "print(gold.shape)\n",
    "print(gold.dtypes)"
   ]
  },
  {
   "cell_type": "markdown",
   "metadata": {},
   "source": [
    "# "
   ]
  },
  {
   "cell_type": "markdown",
   "metadata": {},
   "source": [
    "## 2.1 Create a subset DataFrame based on `gold_stocks_price.csv`"
   ]
  },
  {
   "cell_type": "code",
   "execution_count": null,
   "metadata": {},
   "outputs": [],
   "source": [
    "# Subset the gold DataFrame.\n",
    "gold_subset = gold[['Date', 'Open', 'High', 'Low']]\n",
    "\n",
    "# Slice the gold_subset to 500 rows.\n",
    "gold_subset = gold_subset.iloc[:500]\n",
    "\n",
    "# View gold_subset.\n",
    "print(gold_subset.shape)\n",
    "print(gold.dtypes)"
   ]
  },
  {
   "cell_type": "code",
   "execution_count": null,
   "metadata": {},
   "outputs": [],
   "source": [
    "# Determine the missing values.\n",
    "gold_subset.isna().sum()"
   ]
  },
  {
   "cell_type": "code",
   "execution_count": null,
   "metadata": {},
   "outputs": [],
   "source": [
    "# Calculate min and max value for column\\ for subsetted gold dataframe. \n",
    "print(gold_subset['Open'].min())\n",
    "print(gold_subset['Open'].max())"
   ]
  },
  {
   "cell_type": "code",
   "execution_count": null,
   "metadata": {},
   "outputs": [],
   "source": [
    "print(gold_subset['High'].min())\n",
    "print(gold_subset['High'].max())"
   ]
  },
  {
   "cell_type": "code",
   "execution_count": null,
   "metadata": {},
   "outputs": [],
   "source": [
    "print(gold_subset['Low'].min())\n",
    "print(gold_subset['Low'].max())"
   ]
  },
  {
   "cell_type": "markdown",
   "metadata": {
    "hidden": true,
    "id": "OM7t_eNrzReG"
   },
   "source": [
    "### Alternate way using print statement : "
   ]
  },
  {
   "cell_type": "code",
   "execution_count": null,
   "metadata": {
    "colab": {
     "base_uri": "https://localhost:8080/"
    },
    "executionInfo": {
     "elapsed": 35,
     "status": "ok",
     "timestamp": 1646906026305,
     "user": {
      "displayName": "Jeevak Ghosh",
      "photoUrl": "https://lh3.googleusercontent.com/a/default-user=s64",
      "userId": "10153434038967682924"
     },
     "user_tz": -330
    },
    "hidden": true,
    "id": "3Q1yGMYLzReG",
    "outputId": "d5ba0e0f-2a5c-4756-bb4c-496235e7542f"
   },
   "outputs": [],
   "source": [
    "print(f\"The maximum value for open is the subsetted gold dataframe is {gold_subset['Open'].max()}\")\n",
    "print(f\"The minimum value for open is the subsetted gold dataframe is {gold_subset['Open'].min()}\")\n",
    "\n",
    "print(f\"The maximum value for high is the subsetted gold dataframe is {gold_subset['High'].max()}\")\n",
    "print(f\"The minimum value for high is the subsetted gold dataframe is {gold_subset['High'].min()}\")\n",
    "\n",
    "print(f\"The maximum value for low is the subsetted gold dataframe is {gold_subset['Low'].max()}\")\n",
    "print(f\"The minimum value for low is the subsetted gold dataframe is {gold_subset['Low'].min()}\")"
   ]
  },
  {
   "cell_type": "markdown",
   "metadata": {},
   "source": [
    "# "
   ]
  },
  {
   "cell_type": "markdown",
   "metadata": {},
   "source": [
    "## 2.2 Create a subset DataFrame based on `oil_price.csv`"
   ]
  },
  {
   "cell_type": "code",
   "execution_count": null,
   "metadata": {},
   "outputs": [],
   "source": [
    "# Subset the oil DataFrame.\n",
    "oil_subset = oil[['Date', 'Open', 'High', 'Low']]\n",
    "\n",
    "# Slice the oil_subset to 500 rows.\n",
    "oil_subset = oil_subset.iloc[:500]\n",
    "\n",
    "# View the oil_subset.\n",
    "print(oil_subset.shape)\n",
    "print(oil.dtypes)"
   ]
  },
  {
   "cell_type": "code",
   "execution_count": null,
   "metadata": {},
   "outputs": [],
   "source": [
    "# Determine the missing values.\n",
    "oil_subset.isna().sum()"
   ]
  },
  {
   "cell_type": "code",
   "execution_count": null,
   "metadata": {},
   "outputs": [],
   "source": [
    "# Calculate the min and max value for column\\ for subsetted gold dataframe. \n",
    "print(oil_subset['Open'].min())\n",
    "print(oil_subset['Open'].max())"
   ]
  },
  {
   "cell_type": "code",
   "execution_count": null,
   "metadata": {},
   "outputs": [],
   "source": [
    "print(oil_subset['High'].min())\n",
    "print(oil_subset['High'].max())"
   ]
  },
  {
   "cell_type": "code",
   "execution_count": null,
   "metadata": {},
   "outputs": [],
   "source": [
    "print(oil_subset['Low'].min())\n",
    "print(oil_subset['Low'].max())"
   ]
  },
  {
   "cell_type": "markdown",
   "metadata": {
    "hidden": true,
    "id": "OM7t_eNrzReG"
   },
   "source": [
    "### Alternate way using print statement : "
   ]
  },
  {
   "cell_type": "code",
   "execution_count": null,
   "metadata": {
    "colab": {
     "base_uri": "https://localhost:8080/"
    },
    "executionInfo": {
     "elapsed": 35,
     "status": "ok",
     "timestamp": 1646906026305,
     "user": {
      "displayName": "Jeevak Ghosh",
      "photoUrl": "https://lh3.googleusercontent.com/a/default-user=s64",
      "userId": "10153434038967682924"
     },
     "user_tz": -330
    },
    "hidden": true,
    "id": "3Q1yGMYLzReG",
    "outputId": "d5ba0e0f-2a5c-4756-bb4c-496235e7542f"
   },
   "outputs": [],
   "source": [
    "print(f\"The maximum value for open is the subsetted oil dataframe is {oil_subset['Open'].max()}\")\n",
    "print(f\"The minimum value for open is the subsetted oil dataframe is {oil_subset['Open'].min()}\")\n",
    "\n",
    "print(f\"The maximum value for high is the subsetted oil dataframe is {oil_subset['High'].max()}\")\n",
    "print(f\"The minimum value for high is the subsetted oil dataframe is {oil_subset['High'].min()}\")\n",
    "\n",
    "print(f\"The maximum value for low is the subsetted oil dataframe is {oil_subset['Low'].max()}\")\n",
    "print(f\"The minimum value for low is the subsetted oil dataframe is {oil_subset['Low'].min()}\")"
   ]
  },
  {
   "cell_type": "markdown",
   "metadata": {},
   "source": [
    "# "
   ]
  },
  {
   "cell_type": "markdown",
   "metadata": {},
   "source": [
    "## 2.3 Statistical analysis"
   ]
  },
  {
   "cell_type": "code",
   "execution_count": null,
   "metadata": {},
   "outputs": [],
   "source": [
    "# Use the describe() function.\n",
    "print(gold_subset.describe())\n",
    "print(oil_subset.describe())"
   ]
  },
  {
   "cell_type": "markdown",
   "metadata": {},
   "source": [
    "# "
   ]
  },
  {
   "cell_type": "markdown",
   "metadata": {},
   "source": [
    "## 3.1 Determine the daily average price of gold and oil."
   ]
  },
  {
   "cell_type": "code",
   "execution_count": null,
   "metadata": {},
   "outputs": [],
   "source": [
    "# View gold_subset.\n",
    "print(gold_subset.head())\n",
    "\n",
    "# Determine the average of gold per day.\n",
    "# Write a user-defined function.\n",
    "def avg_col3(x, y, z):\n",
    "    a = (x + y + z)/3\n",
    "    return a\n",
    "\n",
    "# Insert avg into a new column.\n",
    "gold_subset['average_gold'] = avg_col3(gold_subset['Open'], gold_subset['High'], gold_subset['Low'])\n",
    "\n",
    "# View the DataFrame.\n",
    "gold_subset"
   ]
  },
  {
   "cell_type": "code",
   "execution_count": null,
   "metadata": {},
   "outputs": [],
   "source": [
    "# View the oil_subset.\n",
    "print(gold_subset.head())\n",
    "\n",
    "# Calculate the average of oil prices per day.\n",
    "# Write a user-defined function.\n",
    "def avg_col3(x, y, z):\n",
    "    a = (x + y + z)/3\n",
    "    return a\n",
    "\n",
    "oil_subset['average_oil'] = avg_col3(oil_subset['Open'], oil_subset['High'], oil_subset['Low'])\n",
    "\n",
    "# View the DataFrame.\n",
    "oil_subset"
   ]
  },
  {
   "cell_type": "markdown",
   "metadata": {},
   "source": [
    "# "
   ]
  },
  {
   "cell_type": "markdown",
   "metadata": {},
   "source": [
    "## 3.2 Convert the daily average price of gold and oil from US dollars to British Pound"
   ]
  },
  {
   "cell_type": "code",
   "execution_count": null,
   "metadata": {},
   "outputs": [],
   "source": [
    "# Employ lambda function to convert US dollars to British pounds.\n",
    "# Where 1 US$ = 0.8 GBP.\n",
    "gold_subset['avg_gold_GBP'] = gold_subset['average_gold'].apply(lambda x: x*0.8)\n",
    "\n",
    "# View the DataFrame.\n",
    "gold_subset"
   ]
  },
  {
   "cell_type": "code",
   "execution_count": null,
   "metadata": {},
   "outputs": [],
   "source": [
    "# Employ lambda function to convert US dollars to British pounds.\n",
    "# Where 1 US$ = 0.8 GBP.\n",
    "oil_subset['avg_oil_GBP'] = oil_subset['average_oil'].apply(lambda x: x*0.8)\n",
    "\n",
    "# View the DataFrame.\n",
    "oil_subset"
   ]
  },
  {
   "cell_type": "markdown",
   "metadata": {},
   "source": [
    "# "
   ]
  },
  {
   "cell_type": "markdown",
   "metadata": {},
   "source": [
    "## 3.3 Compare the average gold and oil price in GBP"
   ]
  },
  {
   "cell_type": "code",
   "execution_count": null,
   "metadata": {},
   "outputs": [],
   "source": [
    "# Use the merge function and Date as ID.\n",
    "gold = gold_subset[['Date', 'avg_gold_GBP']]\n",
    "\n",
    "gold"
   ]
  },
  {
   "cell_type": "code",
   "execution_count": null,
   "metadata": {},
   "outputs": [],
   "source": [
    "# Use the merge function and Date as ID.\n",
    "oil = oil_subset[['Date', 'avg_oil_GBP']]\n",
    "\n",
    "oil"
   ]
  },
  {
   "cell_type": "code",
   "execution_count": null,
   "metadata": {},
   "outputs": [],
   "source": [
    "# Merge the two DataFrames.\n",
    "gold_oil = pd.merge(gold, oil, on='Date', how='left')\n",
    "\n",
    "gold_oil"
   ]
  },
  {
   "cell_type": "code",
   "execution_count": null,
   "metadata": {},
   "outputs": [],
   "source": []
  }
 ],
 "metadata": {
  "colab": {
   "collapsed_sections": [
    "PBAPYdEhzReC",
    "tdWfO9PCzReE",
    "OM7t_eNrzReG",
    "cfMzjT6pzReH",
    "CZTyPHzDzReI",
    "s2iD065TzReJ",
    "SnNshKt5zReJ",
    "V7xUeiKrzReK",
    "zOXKimZ4zReL",
    "SvZTnBmyzReQ",
    "Y2YLj6FrzReR",
    "ECePc8y8zReS",
    "Fh4M8-k0zReT",
    "5JAcRKy6zReT",
    "UT5_bQnrzReU",
    "RF9QNsh4zReU",
    "usVV5r2gzReU",
    "J07Z9Ea0zReV",
    "DN4NKUMazReV",
    "pBLwItT3zReW"
   ],
   "name": "Activities for Week 4(continued from week 2 and 3 activity).ipynb",
   "provenance": []
  },
  "kernelspec": {
   "display_name": "Python 3 (ipykernel)",
   "language": "python",
   "name": "python3"
  },
  "language_info": {
   "codemirror_mode": {
    "name": "ipython",
    "version": 3
   },
   "file_extension": ".py",
   "mimetype": "text/x-python",
   "name": "python",
   "nbconvert_exporter": "python",
   "pygments_lexer": "ipython3",
   "version": "3.9.7"
  },
  "toc": {
   "base_numbering": 1,
   "nav_menu": {},
   "number_sections": false,
   "sideBar": true,
   "skip_h1_title": false,
   "title_cell": "Table of Contents",
   "title_sidebar": "Contents",
   "toc_cell": false,
   "toc_position": {},
   "toc_section_display": true,
   "toc_window_display": false
  }
 },
 "nbformat": 4,
 "nbformat_minor": 4
}
