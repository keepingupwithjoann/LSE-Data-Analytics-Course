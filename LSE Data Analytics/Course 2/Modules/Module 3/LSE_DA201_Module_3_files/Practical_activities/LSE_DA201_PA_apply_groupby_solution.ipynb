{
 "cells": [
  {
   "cell_type": "markdown",
   "id": "e98ab754",
   "metadata": {},
   "source": [
    "### LSE Data Analytics Online Career Accelerator\n",
    "\n",
    "# DA201: Data Analytics Using Python"
   ]
  },
  {
   "cell_type": "markdown",
   "id": "2eb04372",
   "metadata": {},
   "source": [
    "## Practical activity: Use groupby() and aggregate() functions"
   ]
  },
  {
   "cell_type": "markdown",
   "id": "03c3d41e",
   "metadata": {},
   "source": [
    "**This is the solution to the activity.**\n",
    "\n",
    "Mandisa Nkosi is working with with a political party that needs to decide how best to invest its available advertising budget. Mandisa believes she can gain some insights into potential advertising avenues by analysing films that are available on streaming platforms. \n",
    "\n",
    "This analysis uses the `movies_merge.xlsx` and `ott_merge.csv` data sets. At this stage, you will answer the questions:\n",
    "\n",
    "- How many films from each year (released from 2012 to the present) were watched on Netflix?\n",
    "- What is the average runtime of movies released each year?\n",
    "- What are the best and worst reviews that movies released each year received on Rotten Tomatoes?\n",
    "\n",
    "The insights gained from the analysis will inform the campaign, promotional materials, slogans, and language the political party will use to reach potential voters."
   ]
  },
  {
   "cell_type": "markdown",
   "id": "e1dfdb8e",
   "metadata": {},
   "source": [
    "## Prepare your workstation"
   ]
  },
  {
   "cell_type": "code",
   "execution_count": null,
   "id": "a5a33728",
   "metadata": {},
   "outputs": [],
   "source": [
    "# Import Pandas.\n",
    "import pandas as pd\n",
    "\n",
    "# Load the Excel data using pd.read_excel.\n",
    "movies = pd.read_excel('movies_merge.xlsx')\n",
    "\n",
    "# Load the csv data using pd.read_csv.\n",
    "ott = pd.read_csv('ott_merge.csv')\n",
    "\n",
    "# Data imported correctly?\n",
    "print(movies.columns)\n",
    "print(movies.shape)\n",
    "print(ott.columns)\n",
    "print(ott.shape)\n",
    "\n",
    "# Merge the two DataFrames.\n",
    "mov_ott = pd.merge(movies, ott, how='left', on = 'ID')\n",
    "\n",
    "# DataFrames merged correctly?\n",
    "print(mov_ott.columns)\n",
    "print(mov_ott.shape)"
   ]
  },
  {
   "cell_type": "markdown",
   "id": "47f4c19a",
   "metadata": {},
   "source": [
    "## Question 1: How many films from each year (released from 2012 to the present) were watched on Netflix?"
   ]
  },
  {
   "cell_type": "code",
   "execution_count": null,
   "id": "053c773d",
   "metadata": {},
   "outputs": [],
   "source": [
    "# Determine the number of movies watched on Netflix since 2012.\n",
    "mo_gpby = mov_ott.groupby(['Year'])['Netflix'].agg('sum').reset_index()\n",
    "mo_gpby[mo_gpby['Year'] >= 2012]"
   ]
  },
  {
   "cell_type": "markdown",
   "id": "1988a448",
   "metadata": {},
   "source": [
    "## Question 2: What is the average runtime of movies released each year?"
   ]
  },
  {
   "cell_type": "code",
   "execution_count": null,
   "id": "a4e39fc3",
   "metadata": {},
   "outputs": [],
   "source": [
    "# Determine the average runtime of movies released since 2012.\n",
    "mo_gpby1 = mov_ott.groupby(['Year'])['Runtime'].agg('mean').reset_index()\n",
    "mo_gpby1[mo_gpby1['Year'] >= 2012]"
   ]
  },
  {
   "cell_type": "markdown",
   "id": "27967f5b",
   "metadata": {},
   "source": [
    "## Question 3: What are the best and worst reviews that movies released each year received on Rotten Tomatoes?"
   ]
  },
  {
   "cell_type": "code",
   "execution_count": null,
   "id": "2b9e4b2a",
   "metadata": {},
   "outputs": [],
   "source": [
    "# Determine what was the maximum and minimum review received by Rotten Tomatoes for any movie per year since 2012?\n",
    "mo_gpby2 = mov_ott.groupby(['Year'])['Rotten Tomatoes'].agg(['min','max']).reset_index()\n",
    "mo_gpby2[mo_gpby2['Year'] >= 2012]"
   ]
  },
  {
   "cell_type": "code",
   "execution_count": null,
   "id": "d42430d5",
   "metadata": {},
   "outputs": [],
   "source": []
  }
 ],
 "metadata": {
  "kernelspec": {
   "display_name": "Python 3 (ipykernel)",
   "language": "python",
   "name": "python3"
  },
  "language_info": {
   "codemirror_mode": {
    "name": "ipython",
    "version": 3
   },
   "file_extension": ".py",
   "mimetype": "text/x-python",
   "name": "python",
   "nbconvert_exporter": "python",
   "pygments_lexer": "ipython3",
   "version": "3.9.12"
  }
 },
 "nbformat": 4,
 "nbformat_minor": 5
}
