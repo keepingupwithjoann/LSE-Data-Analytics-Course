{
 "cells": [
  {
   "cell_type": "markdown",
   "metadata": {},
   "source": [
    "### LSE Data Analytics Online Career Accelerator\n",
    "\n",
    "# DA201: Data Analytics Using Python"
   ]
  },
  {
   "cell_type": "markdown",
   "metadata": {},
   "source": [
    "## Writing a lambda function"
   ]
  },
  {
   "cell_type": "markdown",
   "metadata": {},
   "source": [
    "This Notebook accompanies the 'Writing a lambda function' demonstration video. In the video you will be introduced to the basics of writing lambda functions in Python.\n",
    "\n",
    "Follow along with the demonstration to learn:\n",
    "- how to write a simple lambda function\n",
    "- how to employ the lambda function as part of a user-defined function\n",
    "- how to employ multiple arguments within a lambda function."
   ]
  },
  {
   "cell_type": "markdown",
   "metadata": {},
   "source": [
    "### 1. Prepare your workstation"
   ]
  },
  {
   "cell_type": "code",
   "execution_count": null,
   "metadata": {},
   "outputs": [],
   "source": [
    "# Import the libraries.\n",
    "import pandas as pd\n",
    "import numpy as np\n",
    "\n",
    "# Import the CSV file.\n",
    "products = pd.read_csv('products.csv')\n",
    "\n",
    "# View the DataFrame.\n",
    "products"
   ]
  },
  {
   "cell_type": "markdown",
   "metadata": {},
   "source": [
    "### 2. User-defined functions"
   ]
  },
  {
   "cell_type": "code",
   "execution_count": null,
   "metadata": {},
   "outputs": [],
   "source": [
    "# How many products have the word 'glass' in their description?\n",
    "# Use the keyword def.\n",
    "# function_name = contains_glass\n",
    "# argument = x\n",
    "\n",
    "# User-defined function to determine the word glass in product descriptions.\n",
    "def contains_glass(x):\n",
    "    # docstring\n",
    "    \"\"\"does the product contain glass?\"\"\"\n",
    "    y = x.lower()\n",
    "    # execute the function\n",
    "    return \"glass\" in y\n",
    "\n",
    "# Apply the function.\n",
    "fc = products['Description'].apply(contains_glass)\n",
    "\n",
    "# Filter product for glass.\n",
    "products[fc]"
   ]
  },
  {
   "cell_type": "markdown",
   "metadata": {},
   "source": [
    "### 3. Lambda functions"
   ]
  },
  {
   "cell_type": "code",
   "execution_count": null,
   "metadata": {},
   "outputs": [],
   "source": [
    "# Lambda function\n",
    "# lambda argument : expression"
   ]
  },
  {
   "cell_type": "code",
   "execution_count": null,
   "metadata": {},
   "outputs": [],
   "source": [
    "# Write a lambda function to get the same result as with the user-defined function.\n",
    "products[products['Description'].apply(lambda x:\n",
    "                                     'glass' in x.lower())]"
   ]
  },
  {
   "cell_type": "code",
   "execution_count": null,
   "metadata": {},
   "outputs": [],
   "source": [
    "# Investigate with only a Series.\n",
    "products['Description'].apply(lambda x: 'glass' in x.lower())"
   ]
  }
 ],
 "metadata": {
  "kernelspec": {
   "display_name": "Python 3 (ipykernel)",
   "language": "python",
   "name": "python3"
  },
  "language_info": {
   "codemirror_mode": {
    "name": "ipython",
    "version": 3
   },
   "file_extension": ".py",
   "mimetype": "text/x-python",
   "name": "python",
   "nbconvert_exporter": "python",
   "pygments_lexer": "ipython3",
   "version": "3.9.7"
  }
 },
 "nbformat": 4,
 "nbformat_minor": 4
}
