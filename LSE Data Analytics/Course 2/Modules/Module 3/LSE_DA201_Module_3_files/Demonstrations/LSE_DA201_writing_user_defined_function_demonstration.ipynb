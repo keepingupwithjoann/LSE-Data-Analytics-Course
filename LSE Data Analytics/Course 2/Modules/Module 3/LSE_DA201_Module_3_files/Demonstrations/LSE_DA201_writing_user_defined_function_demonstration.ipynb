{
 "cells": [
  {
   "cell_type": "markdown",
   "metadata": {},
   "source": [
    "### LSE Data Analytics Online Career Accelerator\n",
    "\n",
    "# DA201: Data Analytics Using Python"
   ]
  },
  {
   "cell_type": "markdown",
   "metadata": {},
   "source": [
    "## Writing a user-defined function"
   ]
  },
  {
   "cell_type": "markdown",
   "metadata": {},
   "source": [
    "This Notebook accompanies the 'Writing a user-defined function' demonstration video. In the video you will be introduced to the basics of how to write user-defined functions in Python.\n",
    "\n",
    "Follow along with the demonstration to explore the following questions:\n",
    "- What is a user-defined function?\n",
    "- Why do you need to write a user-defined function?\n",
    "- What are the best practices for writing a user-defined function?"
   ]
  },
  {
   "cell_type": "markdown",
   "metadata": {},
   "source": [
    "### Example of a Python function"
   ]
  },
  {
   "cell_type": "code",
   "execution_count": null,
   "metadata": {},
   "outputs": [],
   "source": [
    "# Python has basic building blocks.\n",
    "import pandas as pd\n",
    "\n",
    "# Create a DataFrame.\n",
    "data = [['John', 'Smith', '39'],\n",
    "       ['Mary', 'Jane', '25'],\n",
    "       ['Jennifer', 'Doe', '28']]\n",
    "\n",
    "table = pd.DataFrame(data, columns = ['First Name', 'Last Name', 'Age'])\n",
    "\n",
    "# View the DataFrame.\n",
    "table"
   ]
  },
  {
   "cell_type": "markdown",
   "metadata": {},
   "source": [
    "### User-defined function"
   ]
  },
  {
   "cell_type": "code",
   "execution_count": null,
   "metadata": {},
   "outputs": [],
   "source": [
    "# Example of a user-defined function.\n",
    "# def function_name (parameters):\n",
    "#     \"function_docstring\"\n",
    "#     function_suite\n",
    "#     return[expression]"
   ]
  },
  {
   "cell_type": "code",
   "execution_count": null,
   "metadata": {},
   "outputs": [],
   "source": [
    "# Write your first user-defined function.\n",
    "\n",
    "def calculator(a, b):\n",
    "    print('Addition', a+b)\n",
    "    print('Subtract', a-b)\n",
    "    print('Multiplication', a*b)\n",
    "    print('Division', a/b)\n",
    "    return;\n",
    "\n",
    "calculator(25, 5)"
   ]
  }
 ],
 "metadata": {
  "kernelspec": {
   "display_name": "Python 3 (ipykernel)",
   "language": "python",
   "name": "python3"
  },
  "language_info": {
   "codemirror_mode": {
    "name": "ipython",
    "version": 3
   },
   "file_extension": ".py",
   "mimetype": "text/x-python",
   "name": "python",
   "nbconvert_exporter": "python",
   "pygments_lexer": "ipython3",
   "version": "3.9.7"
  }
 },
 "nbformat": 4,
 "nbformat_minor": 4
}
