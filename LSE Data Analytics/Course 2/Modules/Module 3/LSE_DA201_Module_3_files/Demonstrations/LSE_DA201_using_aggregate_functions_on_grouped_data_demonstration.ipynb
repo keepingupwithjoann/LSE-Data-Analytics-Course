{
 "cells": [
  {
   "cell_type": "markdown",
   "id": "e138f636",
   "metadata": {},
   "source": [
    "### LSE Data Analytics Online Career Accelerator \n",
    "\n",
    "# DA201:  Data Analytics with Python"
   ]
  },
  {
   "cell_type": "markdown",
   "id": "d02062af",
   "metadata": {},
   "source": [
    "## Using aggregate functions on grouped data (tutorial video)"
   ]
  },
  {
   "cell_type": "markdown",
   "id": "db0112b6",
   "metadata": {},
   "source": [
    "This file contains the code snippets that are introduced in the Using aggregate functions on grouped data video. \n",
    "Follow along with the demonstration to:\n",
    "- use the aggregate method as an operation on grouped data.\n",
    "\n",
    "Play and pause the video to follow along with the demonstration.\n",
    "\n",
    "Note: Steps 1 to 3 you completed in the demonstration video in '3.1.6 Introduction to groupby()'. These steps need to be run to complete this demonstration. The new code begins in Step 4."
   ]
  },
  {
   "cell_type": "markdown",
   "id": "76a79b09",
   "metadata": {},
   "source": [
    "### 1. Import pandas and create a DataFrame"
   ]
  },
  {
   "cell_type": "code",
   "execution_count": null,
   "id": "8890e75c",
   "metadata": {},
   "outputs": [],
   "source": [
    "# Import Pandas.\n",
    "import pandas as pd\n",
    "\n",
    "# Read CSV files from the current working directory\n",
    "classlist_a = pd.read_csv('classlist_a.csv')\n",
    "classlist_b = pd.read_csv('classlist_b.csv')\n",
    "classlist_c = pd.read_csv('classlist_c.csv')\n",
    "classlist_d = pd.read_csv('classlist_d.csv')\n",
    "\n",
    "# Print the shape of each DataFrame.\n",
    "print(classlist_a.shape)\n",
    "print(classlist_b.shape)\n",
    "print(classlist_c.shape)\n",
    "print(classlist_d.shape)\n",
    "\n",
    "# Merge four DataFrames into one DataFrame.\n",
    "classlist_final = pd.concat([classlist_a, classlist_b,\n",
    "                             classlist_c, classlist_d]) \n",
    "\n",
    "# View the DataFrame.\n",
    "classlist_final.shape"
   ]
  },
  {
   "cell_type": "markdown",
   "id": "10f1677d",
   "metadata": {},
   "source": [
    "### 2. Split data to create groups"
   ]
  },
  {
   "cell_type": "code",
   "execution_count": null,
   "id": "52abdd11",
   "metadata": {},
   "outputs": [],
   "source": [
    "# Create group 1.\n",
    "group_surname = classlist_final.groupby('Surname')\n",
    "\n",
    "# View the DataFrame.\n",
    "group_surname"
   ]
  },
  {
   "cell_type": "code",
   "execution_count": null,
   "id": "77df1916",
   "metadata": {},
   "outputs": [],
   "source": [
    "# Create group 2.\n",
    "group_marks = classlist_final.groupby('Final mark')\n",
    "\n",
    "# View the DataFrame.\n",
    "group_marks"
   ]
  },
  {
   "cell_type": "code",
   "execution_count": null,
   "id": "f0b69dc6",
   "metadata": {},
   "outputs": [],
   "source": [
    "# Create group 3.\n",
    "group_surname_marks = classlist_final.groupby(['Surname', 'Final mark'])\n",
    "\n",
    "# View the DataFrame.\n",
    "group_surname_marks"
   ]
  },
  {
   "cell_type": "markdown",
   "id": "d970fcd9",
   "metadata": {},
   "source": [
    "### 3. Create a criteria"
   ]
  },
  {
   "cell_type": "code",
   "execution_count": null,
   "id": "a049598e",
   "metadata": {},
   "outputs": [],
   "source": [
    "# Create splitting within groups.\n",
    "group_surname_marks.sum()"
   ]
  },
  {
   "cell_type": "markdown",
   "id": "d38140b9",
   "metadata": {},
   "source": [
    "### 4. Determine the group sizes (option 1)"
   ]
  },
  {
   "cell_type": "code",
   "execution_count": null,
   "id": "97e8db09",
   "metadata": {},
   "outputs": [],
   "source": [
    "# Use the size() function on the marks column.\n",
    "group_surname_marks.size()"
   ]
  },
  {
   "cell_type": "code",
   "execution_count": null,
   "id": "c00b5f96",
   "metadata": {},
   "outputs": [],
   "source": [
    "# Use the size() function on the surname column.\n",
    "group_surname.size()"
   ]
  },
  {
   "cell_type": "markdown",
   "id": "2e1843a5",
   "metadata": {},
   "source": [
    "### 5. Determine group sizes (option 2)"
   ]
  },
  {
   "cell_type": "code",
   "execution_count": null,
   "id": "366a38a7",
   "metadata": {},
   "outputs": [],
   "source": [
    "# Create a group based on initials.\n",
    "group_initials = classlist_final.groupby('Initials')\n",
    "\n",
    "# Create group_surname_initials based on the surname and intials columns.\n",
    "group_surname_initials = classlist_final.groupby(['Surname', 'Initials'])\n",
    "\n",
    "# Find group size based on the initials and surname columns\n",
    "group_surname_initials.size()"
   ]
  },
  {
   "cell_type": "markdown",
   "id": "b876ff40",
   "metadata": {},
   "source": [
    "### 6. Determine group size using the count() function"
   ]
  },
  {
   "cell_type": "code",
   "execution_count": null,
   "id": "0cee646f",
   "metadata": {},
   "outputs": [],
   "source": [
    "# Use the count() function.\n",
    "group_surname_initials.count()"
   ]
  }
 ],
 "metadata": {
  "kernelspec": {
   "display_name": "Python 3 (ipykernel)",
   "language": "python",
   "name": "python3"
  },
  "language_info": {
   "codemirror_mode": {
    "name": "ipython",
    "version": 3
   },
   "file_extension": ".py",
   "mimetype": "text/x-python",
   "name": "python",
   "nbconvert_exporter": "python",
   "pygments_lexer": "ipython3",
   "version": "3.9.7"
  }
 },
 "nbformat": 4,
 "nbformat_minor": 5
}
