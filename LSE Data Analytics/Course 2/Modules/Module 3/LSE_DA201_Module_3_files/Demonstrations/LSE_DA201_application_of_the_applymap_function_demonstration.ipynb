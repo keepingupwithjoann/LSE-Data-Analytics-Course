{
  "metadata": {
    "kernelspec": {
      "display_name": "Python 3 (ipykernel)",
      "language": "python",
      "name": "python3"
    },
    "language_info": {
      "codemirror_mode": {
        "name": "ipython",
        "version": 3
      },
      "file_extension": ".py",
      "mimetype": "text/x-python",
      "name": "python",
      "nbconvert_exporter": "python",
      "pygments_lexer": "ipython3",
      "version": "3.9.7"
    }
  },
  "nbformat_minor": 5,
  "nbformat": 4,
  "cells": [
    {
      "cell_type": "markdown",
      "source": "### LSE Data Analytics Online Career Accelerator \n\n# DA201:  Data Analytics with Python",
      "metadata": {},
      "id": "98969171"
    },
    {
      "cell_type": "markdown",
      "source": "## Application of the applymap function (tutorial video)",
      "metadata": {},
      "id": "5b6f9d5d"
    },
    {
      "cell_type": "markdown",
      "source": "This file contains the code snippets that are introduced in the 'Application of the applymap function' video. \nFollow along with the demonstration to use the applymap function to: \n- apply a function to every element within a DataFrame\n\nPlay and pause the video to follow along with the demonstration.",
      "metadata": {},
      "id": "3b5224bd"
    },
    {
      "cell_type": "markdown",
      "source": "### 1. Import pandas and create a DataFrame",
      "metadata": {},
      "id": "b0af3d0f"
    },
    {
      "cell_type": "code",
      "source": "# Import Pandas.\nimport pandas as pd\n\n# Import a CSV data set with a URL from a website.\ndrinks = pd.read_csv('http://bit.ly/drinksbycountry')\n\n# View the DataFrame.\nprint(drinks.shape)\nprint(drinks.dtypes)",
      "metadata": {},
      "execution_count": null,
      "outputs": [],
      "id": "bbb2d17b"
    },
    {
      "cell_type": "markdown",
      "source": "### 2. Change integer values to floats using applymap()",
      "metadata": {},
      "id": "87707c41"
    },
    {
      "cell_type": "code",
      "source": "# Employ the applymap function to specified columns.\ndrinks_new = drinks.loc[:, 'beer_servings':'wine_servings'].applymap(float)\n\n# View the DataFrame.\ndrinks_new.head()",
      "metadata": {},
      "execution_count": null,
      "outputs": [],
      "id": "3d46828b"
    }
  ]
}