{
 "cells": [
  {
   "cell_type": "markdown",
   "id": "45f75480",
   "metadata": {},
   "source": [
    "### LSE Data Analytics Online Career Accelerator \n",
    "\n",
    "# DA201:  Data Analytics with Python"
   ]
  },
  {
   "cell_type": "markdown",
   "id": "5f45f325",
   "metadata": {},
   "source": [
    "## Application of the apply() function (tutorial video)"
   ]
  },
  {
   "cell_type": "markdown",
   "id": "540a624b",
   "metadata": {},
   "source": [
    "This file contains the code snippets that are introduced in the 'Application of the apply() function' video. \n",
    "Follow along with the demonstration to use the apply function to: \n",
    "- calculate the length of a string in a DataFrame\n",
    "- calculate the sum of values in a DataFrame\n",
    "- calculate the maximum value in a DataFrame.\n",
    "\n",
    "Play and pause the video to follow along with the demonstration."
   ]
  },
  {
   "cell_type": "markdown",
   "id": "fc9a7fbb",
   "metadata": {},
   "source": [
    "### 1. Import Pandas and create a DataFrame"
   ]
  },
  {
   "cell_type": "code",
   "execution_count": null,
   "id": "95bfd2d8",
   "metadata": {},
   "outputs": [],
   "source": [
    "# Import Pandas.\n",
    "import pandas as pd\n",
    "\n",
    "# Import the CSV files.\n",
    "classlist_a = pd.read_csv('classlist_a.csv')\n",
    "classlist_b = pd.read_csv('classlist_b.csv')\n",
    "classlist_c = pd.read_csv('classlist_c.csv')\n",
    "classlist_d = pd.read_csv('classlist_d.csv')\n",
    "\n",
    "# Concatenate the four class lists.\n",
    "classlist= pd.concat([classlist_a, classlist_b, classlist_c, classlist_d])\n",
    "\n",
    "# View the DataFrame.\n",
    "classlist.head()"
   ]
  },
  {
   "cell_type": "markdown",
   "id": "e2523881",
   "metadata": {},
   "source": [
    "### 2. Calculate the length of each string in the Surname column."
   ]
  },
  {
   "cell_type": "code",
   "execution_count": null,
   "id": "2ba81662",
   "metadata": {},
   "outputs": [],
   "source": [
    "# Use the apply() function to apply a function (len()) to each element within a Series (the Surname column).\n",
    "# Find the length of each surname in the DataFrame.\n",
    "classlist['Surname_length'] = classlist.Surname.apply(len)\n",
    "\n",
    "# View the DataFrame.\n",
    "classlist.head()"
   ]
  },
  {
   "cell_type": "markdown",
   "id": "e48fc24e",
   "metadata": {},
   "source": [
    "### 3. Import a CSV from a website and create a DataFrame"
   ]
  },
  {
   "cell_type": "code",
   "execution_count": null,
   "id": "168099c4",
   "metadata": {},
   "outputs": [],
   "source": [
    "# Import a CSV data set with a URL from a website.\n",
    "drinks = pd.read_csv('http://bit.ly/drinksbycountry')\n",
    "\n",
    "# View the DataFrame.\n",
    "print(drinks.shape)\n",
    "print(drinks.dtypes)\n",
    "drinks.head()"
   ]
  },
  {
   "cell_type": "markdown",
   "id": "fa115579",
   "metadata": {},
   "source": [
    "### 4. What is the total beverage serving per country?"
   ]
  },
  {
   "cell_type": "code",
   "execution_count": null,
   "id": "aaf07056",
   "metadata": {},
   "outputs": [],
   "source": [
    "# Create a new DataFrame.\n",
    "# Use subset, all rows, and certain columns.\n",
    "drinks_country = drinks.loc[:, 'country':'wine_servings']\n",
    "\n",
    "# View the DataFrame.\n",
    "drinks_country.head()"
   ]
  },
  {
   "cell_type": "code",
   "execution_count": null,
   "id": "aabe818b",
   "metadata": {},
   "outputs": [],
   "source": [
    "# Find the total beverage serving per country.\n",
    "drinks_country['country_total'] = drinks_country['beer_servings'] + drinks_country['spirit_servings'] + drinks_country['wine_servings']\n",
    "\n",
    "# View the DataFrame.\n",
    "drinks_country.head()"
   ]
  },
  {
   "cell_type": "markdown",
   "id": "d9019761",
   "metadata": {},
   "source": [
    "### 5. What is the maximum serving per beverage?"
   ]
  },
  {
   "cell_type": "code",
   "execution_count": null,
   "id": "8e782a70",
   "metadata": {},
   "outputs": [],
   "source": [
    "# Pass the max() function to the selected rows and columns.\n",
    "drinks_country.loc[:, 'beer_servings':'country_total'].apply(max, axis=0)"
   ]
  },
  {
   "cell_type": "code",
   "execution_count": null,
   "id": "2112bb89",
   "metadata": {},
   "outputs": [],
   "source": [
    "# View which country each max value belongs to. \n",
    "print(drinks_country.sort_values('country_total', ascending=False))\n",
    "print(drinks_country.sort_values('beer_servings', ascending=False))\n",
    "print(drinks_country.sort_values('spirit_servings', ascending=False))\n",
    "print(drinks_country.sort_values('wine_servings', ascending=False))"
   ]
  }
 ],
 "metadata": {
  "kernelspec": {
   "display_name": "Python 3 (ipykernel)",
   "language": "python",
   "name": "python3"
  },
  "language_info": {
   "codemirror_mode": {
    "name": "ipython",
    "version": 3
   },
   "file_extension": ".py",
   "mimetype": "text/x-python",
   "name": "python",
   "nbconvert_exporter": "python",
   "pygments_lexer": "ipython3",
   "version": "3.9.12"
  }
 },
 "nbformat": 4,
 "nbformat_minor": 5
}
