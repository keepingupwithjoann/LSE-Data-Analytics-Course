{
  "metadata": {
    "kernelspec": {
      "display_name": "Python 3 (ipykernel)",
      "language": "python",
      "name": "python3"
    },
    "language_info": {
      "codemirror_mode": {
        "name": "ipython",
        "version": 3
      },
      "file_extension": ".py",
      "mimetype": "text/x-python",
      "name": "python",
      "nbconvert_exporter": "python",
      "pygments_lexer": "ipython3",
      "version": "3.9.7"
    }
  },
  "nbformat_minor": 5,
  "nbformat": 4,
  "cells": [
    {
      "cell_type": "markdown",
      "source": "### LSE Data Analytics Online Career Accelerator \n\n# DA201:  Data Analytics with Python",
      "metadata": {},
      "id": "0df56e20"
    },
    {
      "cell_type": "markdown",
      "source": "## Application of the map() function (tutorial video)",
      "metadata": {},
      "id": "87cfe4df"
    },
    {
      "cell_type": "markdown",
      "source": "This file contains the code snippets that are introduced in the 'Application of the map() function' video. \nFollow along with the demonstration to: \n- change data types in a DataFrame\n- change a column heading in a DataFrame.\n\nPlay and pause the video to follow along with the demonstration.",
      "metadata": {},
      "id": "3703c89f"
    },
    {
      "cell_type": "markdown",
      "source": "### 1. Import pandas and create a DataFrame",
      "metadata": {},
      "id": "2571d2ab"
    },
    {
      "cell_type": "code",
      "source": "# Import Pandas.\nimport pandas as pd\n\n# Read the CSV files from the current working directory.\nclasslist_a = pd.read_csv('classlist_a.csv')\nclasslist_b = pd.read_csv('classlist_b.csv')\nclasslist_c = pd.read_csv('classlist_c.csv')\nclasslist_d = pd.read_csv('classlist_d.csv')\n\n# Concatenate the four class lists.\nclasslist = pd.concat([classlist_a, classlist_b, classlist_c, classlist_d])\n\n# View the new DataFrame.b\nprint(classlist.shape)\nprint(classlist.columns)\nprint(classlist.dtypes)",
      "metadata": {},
      "execution_count": null,
      "outputs": [],
      "id": "050ac9bf"
    },
    {
      "cell_type": "markdown",
      "source": "### 2. Change the values from strings to integers",
      "metadata": {},
      "id": "2a0ef24f"
    },
    {
      "cell_type": "code",
      "source": "# Use the map() function only on a Pandas Series i.e. a single column.\n# Change the values from strings to integers.\nclasslist['Class_num'] = classlist.Class.map({'A':0, 'E':1})\n\n# View the DataFrame.\nprint(classlist.shape)\nclasslist.head()",
      "metadata": {},
      "execution_count": null,
      "outputs": [],
      "id": "62ca5449"
    },
    {
      "cell_type": "markdown",
      "source": "### 3. Compare the two class columns",
      "metadata": {},
      "id": "7389de13"
    },
    {
      "cell_type": "code",
      "source": "# Compare the columns Class and Class_num with the loc() function.\nprint(classlist.loc[:, ['Class', 'Class_num']])\n\n# Compare the columns Class and Class_num with the iloc() function.\nclasslist.iloc[:, 4:6]",
      "metadata": {},
      "execution_count": null,
      "outputs": [],
      "id": "734a2c46"
    },
    {
      "cell_type": "markdown",
      "source": "### 4. Change the column heading",
      "metadata": {},
      "id": "731cac0f"
    },
    {
      "cell_type": "code",
      "source": "classlist_final = classlist.rename(columns={'Final mark':'Final_mark'})\n\nclasslist_final.head()",
      "metadata": {},
      "execution_count": null,
      "outputs": [],
      "id": "c969f27c"
    }
  ]
}