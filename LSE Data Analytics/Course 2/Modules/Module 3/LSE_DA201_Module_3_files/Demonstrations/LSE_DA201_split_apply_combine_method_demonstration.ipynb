{
  "metadata": {
    "kernelspec": {
      "display_name": "Python 3 (ipykernel)",
      "language": "python",
      "name": "python3"
    },
    "language_info": {
      "codemirror_mode": {
        "name": "ipython",
        "version": 3
      },
      "file_extension": ".py",
      "mimetype": "text/x-python",
      "name": "python",
      "nbconvert_exporter": "python",
      "pygments_lexer": "ipython3",
      "version": "3.9.7"
    }
  },
  "nbformat_minor": 5,
  "nbformat": 4,
  "cells": [
    {
      "cell_type": "markdown",
      "source": "### LSE Data Analytics Online Career Accelerator \n\n# DA201:  Data Analytics with Python",
      "metadata": {},
      "id": "9f5d4cea"
    },
    {
      "cell_type": "markdown",
      "source": "## The split-apply-combine method (tutorial video)",
      "metadata": {},
      "id": "d08aeec1"
    },
    {
      "cell_type": "markdown",
      "source": "This file contains the code snippets that are introduced in the 'Split-apply-combine method' video. \nFollow along with the demonstration to:\n- split data from a data set\n- apply criteria to values in a data set\n\nPlay and pause the video to follow along with the demonstration.",
      "metadata": {},
      "id": "ece2731c"
    },
    {
      "cell_type": "markdown",
      "source": "### 1. Import Pandas and create a DataFrame",
      "metadata": {},
      "id": "ca2f25d7"
    },
    {
      "cell_type": "code",
      "source": "# Import Pandas.\nimport pandas as pd\n\n# Read CSV files from the current working directory.\nclasslist_a = pd.read_csv('classlist_a.csv')\nclasslist_b = pd.read_csv('classlist_b.csv')\nclasslist_c = pd.read_csv('classlist_c.csv')\nclasslist_d = pd.read_csv('classlist_d.csv')\n\n# Print the shape of each DataFrame.\nprint(classlist_a.shape)\nprint(classlist_b.shape)\nprint(classlist_c.shape)\nprint(classlist_d.shape)\n\n# Merge four DataFrames into one DataFrame.\nclasslist_final = pd.concat([classlist_a, classlist_b,\n                             classlist_c, classlist_d]) \n\n# View the DataFrame.\nclasslist_final.shape",
      "metadata": {},
      "execution_count": null,
      "outputs": [],
      "id": "8890e75c"
    },
    {
      "cell_type": "markdown",
      "source": "### 2. Split data to create groups",
      "metadata": {},
      "id": "c688b313"
    },
    {
      "cell_type": "code",
      "source": "# Create Group 1.\ngroup_surname = classlist_final.groupby('Surname')\n\n# View the DataFrame.\ngroup_surname",
      "metadata": {},
      "execution_count": null,
      "outputs": [],
      "id": "52abdd11"
    },
    {
      "cell_type": "code",
      "source": "# Create Group 2.\ngroup_marks = classlist_final.groupby('Final mark')\n\n# View the DataFrame.\ngroup_marks",
      "metadata": {},
      "execution_count": null,
      "outputs": [],
      "id": "77df1916"
    },
    {
      "cell_type": "code",
      "source": "# Create Group 3.\ngroup_surname_marks = classlist_final.groupby(['Surname', 'Final mark'])\n\n# View the DataFrame.\ngroup_surname_marks",
      "metadata": {},
      "execution_count": null,
      "outputs": [],
      "id": "f0b69dc6"
    },
    {
      "cell_type": "markdown",
      "source": "### 3. Create a criteria",
      "metadata": {},
      "id": "b2ed2ace"
    },
    {
      "cell_type": "code",
      "source": "# Create splitting within groups.\ngroup_surname_marks.sum()",
      "metadata": {},
      "execution_count": null,
      "outputs": [],
      "id": "a049598e"
    }
  ]
}