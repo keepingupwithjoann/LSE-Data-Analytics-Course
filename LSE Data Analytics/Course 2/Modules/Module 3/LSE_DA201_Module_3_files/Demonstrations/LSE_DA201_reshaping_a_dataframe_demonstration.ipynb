{
  "metadata": {
    "kernelspec": {
      "display_name": "Python 3 (ipykernel)",
      "language": "python",
      "name": "python3"
    },
    "language_info": {
      "codemirror_mode": {
        "name": "ipython",
        "version": 3
      },
      "file_extension": ".py",
      "mimetype": "text/x-python",
      "name": "python",
      "nbconvert_exporter": "python",
      "pygments_lexer": "ipython3",
      "version": "3.9.7"
    }
  },
  "nbformat_minor": 5,
  "nbformat": 4,
  "cells": [
    {
      "cell_type": "markdown",
      "source": "### LSE Data Analytics Online Career Accelerator \n\n# DA201:  Data Analytics with Python",
      "metadata": {},
      "id": "db014f8c"
    },
    {
      "cell_type": "markdown",
      "source": "## Reshaping a DataFrame (tutorial video)",
      "metadata": {},
      "id": "26fd30cd"
    },
    {
      "cell_type": "markdown",
      "source": "This file contains the code snippets that are introduced in the 'Reshaping a DataFrame' video. \nFollow along with the demonstration to: \n- stack a DataFrame\n- unstack a DataFrame\n- melt a DataFrame.\n\nPlay and pause the video to follow along with the demonstration.",
      "metadata": {},
      "id": "f0e883ff"
    },
    {
      "cell_type": "markdown",
      "source": "### 1. Import pandas and create DataFrames",
      "metadata": {},
      "id": "7f8eb3b2"
    },
    {
      "cell_type": "code",
      "source": "# Import Pandas.\nimport pandas as pd\n\n# Read the CSV files from the current working directory.\ntransactions = pd.read_csv('transactions_2010.csv')\nproducts = pd.read_csv('products.csv')\n\n# View the DataFrames.\nprint(transactions.shape)\nprint(transactions.columns)\n\nprint(products.shape)\nprint(products.columns)",
      "metadata": {},
      "execution_count": null,
      "outputs": [],
      "id": "47904fa1"
    },
    {
      "cell_type": "markdown",
      "source": "### 2. Combine the DataFrames into a new DataFrame",
      "metadata": {},
      "id": "7aa96e4c"
    },
    {
      "cell_type": "code",
      "source": "# Stack the customers.csv from DataFrame to Series.\ntrans_prod = pd.merge(transactions, products, how='left', on='StockCode')\n\n# View the new DataFrame.\nprint(trans_prod.columns)\nprint(trans_prod.shape)",
      "metadata": {},
      "execution_count": null,
      "outputs": [],
      "id": "c3cbd368"
    },
    {
      "cell_type": "markdown",
      "source": "### 3. Stacking a DataFrame",
      "metadata": {},
      "id": "aa5e225f"
    },
    {
      "cell_type": "code",
      "source": "# Stack the transactions DataFrame from DataFrame to Series.\ntransactions_stack = transactions.stack()\n\n# View the output.\ntransactions_stack",
      "metadata": {},
      "execution_count": null,
      "outputs": [],
      "id": "39a4456f"
    },
    {
      "cell_type": "code",
      "source": "# Compare the transactions_stack output to the original DataFrame.\nprint(transactions)",
      "metadata": {},
      "execution_count": null,
      "outputs": [],
      "id": "6f28cf0a"
    },
    {
      "cell_type": "code",
      "source": "# Confirm the change.\n# View the data type(s).\nprint(type(transactions_stack))\n# View the specified index.\nprint(transactions_stack.index)",
      "metadata": {},
      "execution_count": null,
      "outputs": [],
      "id": "bf3c8ca7"
    },
    {
      "cell_type": "markdown",
      "source": "### 4. Unstacking a DataFrame.",
      "metadata": {},
      "id": "1750d8a0"
    },
    {
      "cell_type": "code",
      "source": "# Unstack the transactions_stack DataFrame.\ntransactions_1 = transactions_stack.unstack()\n\n# View the DataFrame.\ntransactions_1.head()",
      "metadata": {},
      "execution_count": null,
      "outputs": [],
      "id": "06f11917"
    },
    {
      "cell_type": "code",
      "source": "# Compare the transactions_1 output to the original DataFrame.\ntransactions.head",
      "metadata": {},
      "execution_count": null,
      "outputs": [],
      "id": "334ddb07"
    },
    {
      "cell_type": "code",
      "source": "# Confirm the change.\n# View the data type(s).\nprint(type(transactions_1))\n# View the specified index.\nprint(transactions_1.index)",
      "metadata": {},
      "execution_count": null,
      "outputs": [],
      "id": "b34945c8"
    },
    {
      "cell_type": "markdown",
      "source": "### 5. Melting a DataFrame",
      "metadata": {},
      "id": "4bb8413e"
    },
    {
      "cell_type": "code",
      "source": "# Melt the trans_prod DataFrame.\ntrans_prod.melt(id_vars='StockCode', value_vars='Description')",
      "metadata": {},
      "execution_count": null,
      "outputs": [],
      "id": "e7fea86d"
    },
    {
      "cell_type": "code",
      "source": "# Compare the output to the original DataFrame.\nprint(trans_prod)",
      "metadata": {},
      "execution_count": null,
      "outputs": [],
      "id": "471e36aa"
    }
  ]
}