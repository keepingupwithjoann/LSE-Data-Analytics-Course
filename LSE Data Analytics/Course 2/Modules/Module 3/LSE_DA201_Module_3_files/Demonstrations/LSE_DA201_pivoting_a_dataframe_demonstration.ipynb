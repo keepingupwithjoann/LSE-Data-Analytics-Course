{
 "cells": [
  {
   "cell_type": "markdown",
   "id": "39ec3ea4",
   "metadata": {},
   "source": [
    "### LSE Data Analytics Online Career Accelerator \n",
    "\n",
    "# DA201:  Data Analytics with Python"
   ]
  },
  {
   "cell_type": "markdown",
   "id": "f9f456cf",
   "metadata": {},
   "source": [
    "## Pivoting a DataFrame (tutorial video)"
   ]
  },
  {
   "cell_type": "markdown",
   "id": "f40dd66c",
   "metadata": {},
   "source": [
    "This file contains the code snippets that are introduced in the Pivoting a DataFrame video. \n",
    "Follow along with the demonstration to:\n",
    "- create pivot tables using the pivot() function.\n",
    "\n",
    "Play and pause the video to follow along with the demonstration."
   ]
  },
  {
   "cell_type": "markdown",
   "id": "ce846a46",
   "metadata": {},
   "source": [
    "### 1. Import pandas and create a DataFrame"
   ]
  },
  {
   "cell_type": "code",
   "execution_count": null,
   "id": "fa8e84d2",
   "metadata": {
    "scrolled": false
   },
   "outputs": [],
   "source": [
    "import pandas as pd\n",
    "\n",
    "astronauts = pd.read_csv('astronauts.csv')\n",
    "\n",
    "print(astronauts.shape)\n",
    "print(astronauts.columns)"
   ]
  },
  {
   "cell_type": "markdown",
   "id": "ca20a8ae",
   "metadata": {},
   "source": [
    "### 2. What is the status and number of space flights undertaken by each astronaut?"
   ]
  },
  {
   "cell_type": "code",
   "execution_count": null,
   "id": "bf9649b4",
   "metadata": {},
   "outputs": [],
   "source": [
    "astronauts.pivot(index='Name', columns='Status', values='Space Flights')"
   ]
  },
  {
   "cell_type": "markdown",
   "id": "bc59aac3",
   "metadata": {},
   "source": [
    "### 3. What is the status, number of spacewalks, and number of  space flights for each astronaut?"
   ]
  },
  {
   "cell_type": "code",
   "execution_count": null,
   "id": "a02ccab6",
   "metadata": {},
   "outputs": [],
   "source": [
    "astronauts.pivot(index='Name', columns='Status', values=['Space Walks', 'Space Flights'])"
   ]
  }
 ],
 "metadata": {
  "kernelspec": {
   "display_name": "Python 3 (ipykernel)",
   "language": "python",
   "name": "python3"
  },
  "language_info": {
   "codemirror_mode": {
    "name": "ipython",
    "version": 3
   },
   "file_extension": ".py",
   "mimetype": "text/x-python",
   "name": "python",
   "nbconvert_exporter": "python",
   "pygments_lexer": "ipython3",
   "version": "3.9.7"
  }
 },
 "nbformat": 4,
 "nbformat_minor": 5
}
