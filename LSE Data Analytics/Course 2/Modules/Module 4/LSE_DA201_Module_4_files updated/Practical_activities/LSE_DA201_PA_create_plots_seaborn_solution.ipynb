{
 "cells": [
  {
   "cell_type": "markdown",
   "id": "d75a9832",
   "metadata": {},
   "source": [
    "### LSE Data Analytics Online Career Accelerator\n",
    "\n",
    "# DA201: Data Analytics Using Python"
   ]
  },
  {
   "cell_type": "markdown",
   "id": "963426a8",
   "metadata": {},
   "source": [
    "## Practical activity: Create plots with Seaborn"
   ]
  },
  {
   "cell_type": "markdown",
   "id": "8615e7ee",
   "metadata": {},
   "source": [
    "**This is the solution to the activity.**\n",
    "\n",
    "Canopy is a new boutique streaming company that is looking to create an app that provides recommendations based on the last movie you watched. As a part of their process, they want to analyse the data and gather enough information before they start making suggestions and recommendations to their clients. \n",
    "\n",
    "This analysis uses the `movies.csv` and `ott.xlsx` data sets. Based on the available information, in this activity you will:\n",
    "\n",
    "- perform an exploratory analysis on the data to identify underlying patterns within the data, detect outliers or anomalies, and find interesting relations among the variables\n",
    "- understand the narrative by plotting a countplot, a histogram, and a scatterplot."
   ]
  },
  {
   "cell_type": "markdown",
   "id": "eb962e25",
   "metadata": {},
   "source": [
    "## 1. Import the libraries"
   ]
  },
  {
   "cell_type": "code",
   "execution_count": null,
   "id": "fde628ad",
   "metadata": {},
   "outputs": [],
   "source": [
    "# Import Pandas, Seaborn, and Matplotlib.\n",
    "import pandas as pd\n",
    "import seaborn as sns\n",
    "import matplotlib.pyplot as plt"
   ]
  },
  {
   "cell_type": "markdown",
   "id": "c4a538ea",
   "metadata": {},
   "source": [
    "## 2. Import Excel file"
   ]
  },
  {
   "cell_type": "code",
   "execution_count": null,
   "id": "998dcb48",
   "metadata": {},
   "outputs": [],
   "source": [
    "# Load the Excel data using pd.read_excel.\n",
    "ott = pd.read_excel('ott.xlsx')\n",
    "\n",
    "# View the columns.\n",
    "print(ott.columns)"
   ]
  },
  {
   "cell_type": "markdown",
   "id": "53503590",
   "metadata": {},
   "source": [
    "## 3. Import CSV file"
   ]
  },
  {
   "cell_type": "code",
   "execution_count": null,
   "id": "4a2f1dff",
   "metadata": {},
   "outputs": [],
   "source": [
    "# Load the CSV data using pd.read_csv.\n",
    "movies = pd.read_csv('movies.csv')\n",
    "\n",
    "# View the columns.\n",
    "print(movies.columns)"
   ]
  },
  {
   "cell_type": "markdown",
   "id": "2b06d215",
   "metadata": {},
   "source": [
    "## 4. Validate the DataFrames"
   ]
  },
  {
   "cell_type": "code",
   "execution_count": null,
   "id": "a5fbe1e9",
   "metadata": {},
   "outputs": [],
   "source": [
    "# Data imported correctly?\n",
    "print(movies.head())\n",
    "print(movies.shape)\n",
    "print(movies.dtypes)"
   ]
  },
  {
   "cell_type": "code",
   "execution_count": null,
   "id": "d16239df",
   "metadata": {},
   "outputs": [],
   "source": [
    "# Data imported correctly?\n",
    "print(ott.head())\n",
    "print(ott.dtypes)\n",
    "print(ott.shape)"
   ]
  },
  {
   "cell_type": "markdown",
   "id": "d5921ef5",
   "metadata": {},
   "source": [
    "## 5. Combine the two DataFrames"
   ]
  },
  {
   "cell_type": "code",
   "execution_count": null,
   "id": "a99340f2",
   "metadata": {},
   "outputs": [],
   "source": [
    "# Merge the two DataFrames.\n",
    "mov_ott = pd.merge(movies, ott, how='left', on = 'ID')\n",
    "\n",
    "# View the DataFrame.\n",
    "print(mov_ott.shape)\n",
    "mov_ott.head()"
   ]
  },
  {
   "cell_type": "markdown",
   "id": "947b6979",
   "metadata": {},
   "source": [
    "## 6. Create a countplot"
   ]
  },
  {
   "cell_type": "code",
   "execution_count": null,
   "id": "dc243e78",
   "metadata": {},
   "outputs": [],
   "source": [
    "# Create a countplot based on number of movies streamed by Netflix per age group.\n",
    "sns.countplot(x='Age', hue='Netflix', data=mov_ott)"
   ]
  },
  {
   "cell_type": "markdown",
   "id": "22d2b323",
   "metadata": {},
   "source": [
    "## 7. Create a histogram"
   ]
  },
  {
   "cell_type": "code",
   "execution_count": null,
   "id": "a625bf10",
   "metadata": {},
   "outputs": [],
   "source": [
    "# Create a histogram based on IMDb. \n",
    "sns.histplot(data=mov_ott, x='IMDb', binwidth=1)"
   ]
  },
  {
   "cell_type": "markdown",
   "id": "dd7651aa",
   "metadata": {},
   "source": [
    "## 8. Create a scatterplot"
   ]
  },
  {
   "cell_type": "code",
   "execution_count": null,
   "id": "8759845a",
   "metadata": {},
   "outputs": [],
   "source": [
    "# Create a scatterplot with two variables (IMDb and Rotten Tomatoes).\n",
    "sns.scatterplot(x='IMDb', y='Rotten Tomatoes', data=mov_ott)"
   ]
  },
  {
   "cell_type": "code",
   "execution_count": null,
   "id": "68be68c4",
   "metadata": {},
   "outputs": [],
   "source": []
  }
 ],
 "metadata": {
  "kernelspec": {
   "display_name": "Python 3 (ipykernel)",
   "language": "python",
   "name": "python3"
  },
  "language_info": {
   "codemirror_mode": {
    "name": "ipython",
    "version": 3
   },
   "file_extension": ".py",
   "mimetype": "text/x-python",
   "name": "python",
   "nbconvert_exporter": "python",
   "pygments_lexer": "ipython3",
   "version": "3.9.12"
  }
 },
 "nbformat": 4,
 "nbformat_minor": 5
}
