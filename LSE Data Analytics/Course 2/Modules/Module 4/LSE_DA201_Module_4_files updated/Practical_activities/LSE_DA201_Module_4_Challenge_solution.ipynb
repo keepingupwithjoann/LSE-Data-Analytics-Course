{
 "cells": [
  {
   "cell_type": "markdown",
   "metadata": {},
   "source": [
    "## LSE Career Accelerator\n",
    "# LSE Data Analysis Using Python"
   ]
  },
  {
   "cell_type": "markdown",
   "metadata": {},
   "source": [
    "## LSE DA201: Week 4 (optional) challenge activity"
   ]
  },
  {
   "cell_type": "markdown",
   "metadata": {},
   "source": [
    "In the previous challenge, you answered specific business problems related to the data sets, such as, 'What is the daily average price of gold and oil, and how do they compare?' This will assist investors to decide on the most stable entity to invest in. However, for this week, you will apply your Seaborn and Matplotlib knowledge to understand your data better and solve some specific problems for Investgenics. You will answer the following business questions:\n",
    "\n",
    "- What is the distribution of the data?\n",
    "- Which performed better in December 2015, gold or oil?\n",
    "- Are there any outliers in the opening value of both gold and oil?\n",
    "- What happened to gold and oil on the stock market during June 2016?"
   ]
  },
  {
   "cell_type": "markdown",
   "metadata": {},
   "source": [
    "## Prepare your workstation"
   ]
  },
  {
   "cell_type": "code",
   "execution_count": null,
   "metadata": {},
   "outputs": [],
   "source": [
    "# Prepare your workstation.\n",
    "# Import libararies.\n",
    "import pandas as pd\n",
    "import numpy as np\n",
    "import seaborn as sns\n",
    "import matplotlib.pyplot as plt\n",
    "\n",
    "# Import CSV files.\n",
    "oil = pd.read_csv('oil_price.csv')\n",
    "gold = pd.read_csv('gold_stocks_price.csv')\n",
    "\n",
    "# View the DataFrames.\n",
    "print(oil.shape)\n",
    "print(oil.dtypes)\n",
    "print(oil.head())\n",
    "\n",
    "print(gold.shape)\n",
    "print(gold.dtypes)\n",
    "print(gold.head())"
   ]
  },
  {
   "cell_type": "code",
   "execution_count": null,
   "metadata": {},
   "outputs": [],
   "source": [
    "# Subset gold DataFrame.\n",
    "gold_plot = gold[['Date', 'Open', 'High', 'Low']]\n",
    "\n",
    "# View gold_subset.\n",
    "print(gold_plot.shape)\n",
    "print(gold_plot.dtypes)\n",
    "print(gold_plot.head())"
   ]
  },
  {
   "cell_type": "code",
   "execution_count": null,
   "metadata": {},
   "outputs": [],
   "source": [
    "# Select only relevant index to work with.\n",
    "oil_plot = oil[['Date', 'Open', 'High', 'Low']]\n",
    "\n",
    "# View DataFrames.\n",
    "print(oil_plot.columns)\n",
    "print(oil_plot.dtypes)\n",
    "print(oil_plot.head())"
   ]
  },
  {
   "cell_type": "code",
   "execution_count": null,
   "metadata": {},
   "outputs": [],
   "source": [
    "# Import the DateTime module.\n",
    "import datetime\n",
    "\n",
    "# Change the Data column to date type. \n",
    "gold_plot['Date'] = pd.to_datetime(gold_plot['Date'])\n",
    "oil_plot['Date'] = pd.to_datetime(oil_plot['Date'])\n",
    "\n",
    "# Check data types of two DataFrames.\n",
    "print(gold_plot.dtypes)\n",
    "print(gold_plot.head())\n",
    "print(oil_plot.dtypes)\n",
    "print(oil_plot.head())"
   ]
  },
  {
   "cell_type": "markdown",
   "metadata": {},
   "source": [
    "# "
   ]
  },
  {
   "cell_type": "markdown",
   "metadata": {},
   "source": [
    "# Question 1: Q1. Are there any outliers in the Gold and Oil dataframes?"
   ]
  },
  {
   "cell_type": "code",
   "execution_count": null,
   "metadata": {},
   "outputs": [],
   "source": [
    "# Plot pairplot for gold subset with KDE.\n",
    "sns.pairplot(gold_plot, diag_kind='kde', height=2);"
   ]
  },
  {
   "cell_type": "code",
   "execution_count": null,
   "metadata": {},
   "outputs": [],
   "source": [
    "# Plot pairplot for oil subset with KDE.\n",
    "sns.pairplot(oil_plot, diag_kind='kde', height=2);"
   ]
  },
  {
   "cell_type": "markdown",
   "metadata": {},
   "source": [
    "# "
   ]
  },
  {
   "cell_type": "markdown",
   "metadata": {},
   "source": [
    "# Question 2: Which performed better in December 2015, gold or oil?"
   ]
  },
  {
   "cell_type": "code",
   "execution_count": null,
   "metadata": {},
   "outputs": [],
   "source": [
    "# Filter the two data sets between the specified dates, and save them as filtered_gold_df and filtered_oil_df. \n",
    "filtered_gold = gold_plot[(gold_plot['Date'] >'2015-12-01') & (gold_plot['Date'] < '2015-12-31')]\n",
    "filtered_oil = oil_plot[(oil_plot['Date'] >'2015-12-01') & (oil_plot['Date'] < '2015-12-31')]\n",
    "\n",
    "print(filtered_gold.head())\n",
    "print(filtered_oil.head())"
   ]
  },
  {
   "cell_type": "code",
   "execution_count": null,
   "metadata": {},
   "outputs": [],
   "source": [
    "# Plots for gold.\n",
    "# Specify plot size.\n",
    "plt.figure(figsize=(20, 6))\n",
    "\n",
    "# Create barplot.\n",
    "sns.barplot(x='High', y='Date', data=filtered_gold)"
   ]
  },
  {
   "cell_type": "code",
   "execution_count": null,
   "metadata": {},
   "outputs": [],
   "source": [
    "# Plots for oil.\n",
    "# Specify plot size.\n",
    "plt.figure(figsize=(20, 6))\n",
    "\n",
    "# Create barplot.\n",
    "sns.barplot(x='High', y='Date', data=filtered_oil)"
   ]
  },
  {
   "cell_type": "markdown",
   "metadata": {},
   "source": [
    "# "
   ]
  },
  {
   "cell_type": "markdown",
   "metadata": {},
   "source": [
    "# Question 3: Are there any outliers in the opening value of both gold and oil?"
   ]
  },
  {
   "cell_type": "code",
   "execution_count": null,
   "metadata": {},
   "outputs": [],
   "source": [
    "# Plot gold.\n",
    "# Fig size modification. \n",
    "plt.figure(figsize=(8, 6))\n",
    "plt.title(\"Opening Value: Gold\")\n",
    "\n",
    "sns.boxplot(x=gold_plot['Open']);"
   ]
  },
  {
   "cell_type": "code",
   "execution_count": null,
   "metadata": {},
   "outputs": [],
   "source": [
    "# Plot oil.\n",
    "# Fig size modification. \n",
    "plt.figure(figsize=(8, 6))\n",
    "plt.title(\"Opening Value: Oil\")\n",
    "\n",
    "sns.boxplot(x=oil_plot['Open'])"
   ]
  },
  {
   "cell_type": "code",
   "execution_count": null,
   "metadata": {},
   "outputs": [],
   "source": [
    "# Plot gold.\n",
    "# Fig size modification. \n",
    "plt.figure(figsize=(8, 6))\n",
    "plt.title(\"Opening Value: Gold\")\n",
    "\n",
    "sns.histplot(x=gold_plot['Open'], bins=20)"
   ]
  },
  {
   "cell_type": "code",
   "execution_count": null,
   "metadata": {},
   "outputs": [],
   "source": [
    "# Plot oil.\n",
    "# Fig size modification. \n",
    "plt.figure(figsize=(8, 6))\n",
    "plt.title(\"Opening Value: Oil\")\n",
    "\n",
    "sns.histplot(x=oil_plot['Open'], bins=20)"
   ]
  },
  {
   "cell_type": "markdown",
   "metadata": {},
   "source": [
    "# "
   ]
  },
  {
   "cell_type": "markdown",
   "metadata": {},
   "source": [
    "# Question 4: What happened to gold and oil on the stock market during June 2016?"
   ]
  },
  {
   "cell_type": "code",
   "execution_count": null,
   "metadata": {},
   "outputs": [],
   "source": [
    "# Plot a lineplot for High and Low for both the oil and gold subsets for the month of June 2016.\n",
    "plt.figure(figsize = (12, 6))\n",
    "\n",
    "filtered_gold = gold_plot[(gold_plot['Date'] >'2016-06-01') & (gold_plot['Date'] < '2016-06-30')]\n",
    "\n",
    "sns.lineplot(data=filtered_gold, x='High', y='Date');"
   ]
  },
  {
   "cell_type": "code",
   "execution_count": null,
   "metadata": {},
   "outputs": [],
   "source": [
    "plt.figure(figsize = (12,6))\n",
    "filtered_oil = oil_plot[(oil_plot['Date'] >'2016-06-01') & (oil_plot['Date'] < '2016-06-30')]\n",
    "\n",
    "sns.lineplot(data=filtered_oil, x='High', y='Date')"
   ]
  },
  {
   "cell_type": "code",
   "execution_count": null,
   "metadata": {},
   "outputs": [],
   "source": [
    "# Customise plots.\n",
    "filtered_gold = gold_plot[(gold_plot['Date'] >'2016-06-01') & (gold_plot['Date'] < '2016-06-30')]\n",
    "\n",
    "g = sns.relplot(data=filtered_gold, x='High', y='Date')\n",
    "\n",
    "g.set_axis_labels(\"High\", \"Date\")\n",
    "g.fig.suptitle(\"High Value: Gold (June 2016)\", y=1.02, fontsize=16);"
   ]
  },
  {
   "cell_type": "code",
   "execution_count": null,
   "metadata": {},
   "outputs": [],
   "source": [
    "filtered_oil = oil_plot[(oil_plot['Date'] >'2016-06-01') & (oil_plot['Date'] < '2016-06-30')]\n",
    "\n",
    "g = sns.relplot(data=filtered_oil, x='High', y='Date')\n",
    "\n",
    "g.set_axis_labels(\"High\", \"Date\")\n",
    "g.fig.suptitle(\"High Value: Oil (June 2016)\", y=1.02, fontsize=16);"
   ]
  },
  {
   "cell_type": "code",
   "execution_count": null,
   "metadata": {},
   "outputs": [],
   "source": []
  }
 ],
 "metadata": {
  "colab": {
   "collapsed_sections": [
    "PBAPYdEhzReC",
    "tdWfO9PCzReE",
    "OM7t_eNrzReG",
    "cfMzjT6pzReH",
    "CZTyPHzDzReI",
    "s2iD065TzReJ",
    "SnNshKt5zReJ",
    "V7xUeiKrzReK",
    "zOXKimZ4zReL",
    "SvZTnBmyzReQ",
    "Y2YLj6FrzReR",
    "ECePc8y8zReS",
    "Fh4M8-k0zReT",
    "5JAcRKy6zReT",
    "UT5_bQnrzReU",
    "RF9QNsh4zReU",
    "usVV5r2gzReU",
    "J07Z9Ea0zReV",
    "DN4NKUMazReV",
    "pBLwItT3zReW"
   ],
   "name": "Activities for Week 4(continued from week 2 and 3 activity).ipynb",
   "provenance": []
  },
  "kernelspec": {
   "display_name": "Python 3 (ipykernel)",
   "language": "python",
   "name": "python3"
  },
  "language_info": {
   "codemirror_mode": {
    "name": "ipython",
    "version": 3
   },
   "file_extension": ".py",
   "mimetype": "text/x-python",
   "name": "python",
   "nbconvert_exporter": "python",
   "pygments_lexer": "ipython3",
   "version": "3.9.12"
  },
  "toc": {
   "base_numbering": 1,
   "nav_menu": {},
   "number_sections": false,
   "sideBar": true,
   "skip_h1_title": false,
   "title_cell": "Table of Contents",
   "title_sidebar": "Contents",
   "toc_cell": false,
   "toc_position": {},
   "toc_section_display": true,
   "toc_window_display": false
  }
 },
 "nbformat": 4,
 "nbformat_minor": 4
}
