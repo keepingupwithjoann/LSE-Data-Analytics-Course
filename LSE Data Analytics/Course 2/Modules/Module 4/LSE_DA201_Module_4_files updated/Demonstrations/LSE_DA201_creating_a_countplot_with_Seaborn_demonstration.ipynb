{
 "cells": [
  {
   "cell_type": "markdown",
   "id": "df5fddc1",
   "metadata": {},
   "source": [
    "### LSE Data Analytics Online Career Accelerator \n",
    "\n",
    "# DA201:  Data Analytics with Python"
   ]
  },
  {
   "cell_type": "markdown",
   "id": "53651e51",
   "metadata": {},
   "source": [
    "## Creating a countplot with Seaborn (tutorial video)"
   ]
  },
  {
   "cell_type": "markdown",
   "id": "ba373ea0",
   "metadata": {},
   "source": [
    "This file contains the code snippets that are introduced in the Creating a countplot with Seaborn video. \n",
    "Follow along with the demonstration to:\n",
    "- create a countplot\n",
    "- display the plot bars horizontally\n",
    "- add colour as a third variable.\n",
    "\n",
    "Play and pause the video to follow along with the demonstration."
   ]
  },
  {
   "cell_type": "markdown",
   "id": "74637edf",
   "metadata": {},
   "source": [
    "### 1. Import libraries and create a DataFrame"
   ]
  },
  {
   "cell_type": "code",
   "execution_count": null,
   "id": "dfb53f7a",
   "metadata": {},
   "outputs": [],
   "source": [
    "# Import Matplotlib, Seaborn, and Pandas.\n",
    "import matplotlib.pyplot as plt\n",
    "import seaborn as sns\n",
    "import pandas as pd\n",
    "\n",
    "# Import the csv file.\n",
    "penguins = pd.read_csv('penguins.csv')\n",
    "\n",
    "# View the DataFrame.\n",
    "print(penguins.shape)\n",
    "print(penguins.dtypes)\n",
    "print(penguins.columns)\n",
    "penguins.head()"
   ]
  },
  {
   "cell_type": "markdown",
   "id": "a57f723c",
   "metadata": {},
   "source": [
    "### 2. Create a countplot of the number of penguins on each island"
   ]
  },
  {
   "cell_type": "code",
   "execution_count": null,
   "id": "b56aba45",
   "metadata": {},
   "outputs": [],
   "source": [
    "# Create a countplot using 'island' and 'penguins' as parameters. \n",
    "sns.countplot(x='island', data=penguins)"
   ]
  },
  {
   "cell_type": "markdown",
   "id": "d1d8b403",
   "metadata": {},
   "source": [
    "### 3. Display the bars horizontally"
   ]
  },
  {
   "cell_type": "code",
   "execution_count": null,
   "id": "018cb6c4",
   "metadata": {},
   "outputs": [],
   "source": [
    "# Assign 'island' to 'y' to flip the plot bars.\n",
    "sns.countplot(y='island', data=penguins)"
   ]
  },
  {
   "cell_type": "markdown",
   "id": "dba3c753",
   "metadata": {},
   "source": [
    "### 4. Add colour as a third variable"
   ]
  },
  {
   "cell_type": "code",
   "execution_count": null,
   "id": "7b76a2ed",
   "metadata": {},
   "outputs": [],
   "source": [
    "# Add 'species' as a third variable assigned to colour.\n",
    "sns.countplot(x='island', hue='species', data=penguins)"
   ]
  }
 ],
 "metadata": {
  "kernelspec": {
   "display_name": "Python 3 (ipykernel)",
   "language": "python",
   "name": "python3"
  },
  "language_info": {
   "codemirror_mode": {
    "name": "ipython",
    "version": 3
   },
   "file_extension": ".py",
   "mimetype": "text/x-python",
   "name": "python",
   "nbconvert_exporter": "python",
   "pygments_lexer": "ipython3",
   "version": "3.9.7"
  }
 },
 "nbformat": 4,
 "nbformat_minor": 5
}
