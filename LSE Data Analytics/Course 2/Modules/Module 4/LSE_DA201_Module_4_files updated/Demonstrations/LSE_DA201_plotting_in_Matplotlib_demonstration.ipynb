{
 "cells": [
  {
   "cell_type": "markdown",
   "id": "bb7ded08",
   "metadata": {},
   "source": [
    "### LSE Data Analytics Online Career Accelerator \n",
    "\n",
    "# DA201:  Data Analytics with Python"
   ]
  },
  {
   "cell_type": "markdown",
   "id": "4ac6eea5",
   "metadata": {},
   "source": [
    "## Plotting in Matplotlib (tutorial video)"
   ]
  },
  {
   "cell_type": "markdown",
   "id": "391bb4c6",
   "metadata": {},
   "source": [
    "This file contains the code snippets that are introduced in the Plotting in Matplotlib video. \n",
    "Follow along with the demonstration to:\n",
    "- create an plot\n",
    "- add lines to a plot\n",
    "- create multiple plots in one figure\n",
    "- change plot background colours.\n",
    "\n",
    "Play and pause the video to follow along with the demonstration."
   ]
  },
  {
   "cell_type": "markdown",
   "id": "ce1559a7",
   "metadata": {},
   "source": [
    "### 1. Import Matplotlib"
   ]
  },
  {
   "cell_type": "code",
   "execution_count": null,
   "id": "8fb0f47a",
   "metadata": {},
   "outputs": [],
   "source": [
    "# Import Matplotlib as plt.\n",
    "import matplotlib.pyplot as plt"
   ]
  },
  {
   "cell_type": "markdown",
   "id": "f8b0ceae",
   "metadata": {},
   "source": [
    "### 2. Create an empty plot"
   ]
  },
  {
   "cell_type": "code",
   "execution_count": null,
   "id": "0eacbc73",
   "metadata": {},
   "outputs": [],
   "source": [
    "# Creat an empty plot with the subplots() function.\n",
    "fig, ax = plt.subplots()"
   ]
  },
  {
   "cell_type": "markdown",
   "id": "6d87748e",
   "metadata": {},
   "source": [
    "### 3. Add lines to a plot"
   ]
  },
  {
   "cell_type": "code",
   "execution_count": null,
   "id": "d6670fb8",
   "metadata": {},
   "outputs": [],
   "source": [
    "# Draw a line by specifying the axes.\n",
    "ax.plot([1, 2, 3, 4], [8, 6, 4, 2])\n",
    "\n",
    "# View the figure.\n",
    "fig"
   ]
  },
  {
   "cell_type": "code",
   "execution_count": null,
   "id": "efc23b0e",
   "metadata": {},
   "outputs": [],
   "source": [
    "# Draw a line by specifying the axes.\n",
    "ax.plot([8, 6, 4, 2], [1, 2, 3, 4])\n",
    "\n",
    "# View the figure.\n",
    "fig"
   ]
  },
  {
   "cell_type": "markdown",
   "id": "ae70a645",
   "metadata": {},
   "source": [
    "### 4. Create a single figure with multiple plots"
   ]
  },
  {
   "cell_type": "code",
   "execution_count": null,
   "id": "43129bb5",
   "metadata": {},
   "outputs": [],
   "source": [
    "# Create a 2 x 2 figure by specifying the nrows and ncols parameters.\n",
    "fig2, ((top_left, top_right), (bottom_left, bottom_right)) = plt.subplots(2, 2)"
   ]
  },
  {
   "cell_type": "markdown",
   "id": "4e785cda",
   "metadata": {},
   "source": [
    "### 5. Specify plot axes "
   ]
  },
  {
   "cell_type": "code",
   "execution_count": null,
   "id": "e7ca1f0e",
   "metadata": {},
   "outputs": [],
   "source": [
    "# Specify each variable.\n",
    "top_left.plot([1, 2, 3, 4], [1, 1, 1, 1], color='blue')\n",
    "top_right.plot([1, 2, 3, 4], [1, 1, 1, 1], color='red')\n",
    "bottom_left.plot([1, 2, 3, 4], [1, 1, 1, 1], color='black')\n",
    "bottom_right.plot([1, 2, 3, 4], [1, 1, 1, 1], color='orange')\n",
    "\n",
    "# View the figure.\n",
    "\n",
    "fig2"
   ]
  },
  {
   "cell_type": "markdown",
   "id": "7cbfd043",
   "metadata": {},
   "source": [
    "### 6. Change the background colour"
   ]
  },
  {
   "cell_type": "code",
   "execution_count": null,
   "id": "3bdc5639",
   "metadata": {},
   "outputs": [],
   "source": [
    "# Set the background colour of the figure.\n",
    "fig2.set_facecolor('yellow')\n",
    "\n",
    "# View the figure.\n",
    "fig2"
   ]
  }
 ],
 "metadata": {
  "kernelspec": {
   "display_name": "Python 3 (ipykernel)",
   "language": "python",
   "name": "python3"
  },
  "language_info": {
   "codemirror_mode": {
    "name": "ipython",
    "version": 3
   },
   "file_extension": ".py",
   "mimetype": "text/x-python",
   "name": "python",
   "nbconvert_exporter": "python",
   "pygments_lexer": "ipython3",
   "version": "3.9.7"
  }
 },
 "nbformat": 4,
 "nbformat_minor": 5
}
