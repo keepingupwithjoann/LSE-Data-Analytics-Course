{
 "cells": [
  {
   "cell_type": "markdown",
   "id": "e132e079",
   "metadata": {},
   "source": [
    "### LSE Data Analytics Online Career Accelerator\n",
    "\n",
    "# DA201: Data Analytics Using Python"
   ]
  },
  {
   "cell_type": "markdown",
   "id": "31780029",
   "metadata": {},
   "source": [
    "## Demonstration: Flights case study"
   ]
  },
  {
   "cell_type": "markdown",
   "id": "ad3971f0",
   "metadata": {},
   "source": [
    "##### The flights case study is a practice data set of passenger information over a decade of flight data.\n",
    "\n",
    "Let's explore more!\n",
    "\n",
    "This Notebook is used in 4.2.5 Highlighting and adding annotations."
   ]
  },
  {
   "cell_type": "markdown",
   "id": "5ff037b8",
   "metadata": {},
   "source": [
    "### 1. Prepare your workstation"
   ]
  },
  {
   "cell_type": "code",
   "execution_count": null,
   "id": "d34514d9",
   "metadata": {},
   "outputs": [],
   "source": [
    "# Import libraries.\n",
    "import seaborn as sns\n",
    "import pandas as pd\n",
    "import matplotlib.pyplot as plt\n",
    "\n",
    "# Read file.\n",
    "flights = pd.read_csv('flights.csv')\n",
    "\n",
    "# View the DataFrame.\n",
    "flights.shape"
   ]
  },
  {
   "cell_type": "markdown",
   "id": "f70f2d04",
   "metadata": {},
   "source": [
    "### 2. Create a barplot"
   ]
  },
  {
   "cell_type": "code",
   "execution_count": null,
   "id": "be825076",
   "metadata": {},
   "outputs": [],
   "source": [
    "# Create empty plot and set plot size.\n",
    "fig, ax = plt.subplots()\n",
    "fig.set_size_inches(12, 8)\n",
    "\n",
    "# Create variable.\n",
    "august_flights = flights[flights['month'] == 'August']\n",
    "\n",
    "# Create barplot.\n",
    "bars = ax.bar(august_flights['year'], august_flights['passengers'], color='lightgrey')\n",
    "\n",
    "# Annotate a bar.\n",
    "ax.set_xticks(list(range(1949, 1961, 1)))\n",
    "bars[4].set_color('blue')"
   ]
  },
  {
   "cell_type": "markdown",
   "id": "107373b2",
   "metadata": {},
   "source": [
    "### 3. Create a lineplot"
   ]
  },
  {
   "cell_type": "code",
   "execution_count": null,
   "id": "a1ddceb7",
   "metadata": {},
   "outputs": [],
   "source": [
    "# Create empty plot and set plot size.\n",
    "fig, ax = plt.subplots()\n",
    "fig.set_size_inches(12, 8)\n",
    "\n",
    "# Create a lineplot.\n",
    "for year in flights['year'].unique():\n",
    "    flights_for_year = flights[flights['year'] == year]\n",
    "    line_color = '#4472C4' if year == 1955 or year == 1958 else '#EFF3F9'\n",
    "    ax.plot(flights_for_year['month'], flights_for_year['passengers'],\n",
    "            color=line_color)"
   ]
  },
  {
   "cell_type": "markdown",
   "id": "bb732456",
   "metadata": {},
   "source": [
    "### 4. Comparing groups: Barplots"
   ]
  },
  {
   "cell_type": "code",
   "execution_count": null,
   "id": "0d71cc5a",
   "metadata": {},
   "outputs": [],
   "source": [
    "# Create empty plot and set plot size.\n",
    "fig, ax = plt.subplots()\n",
    "fig.set_size_inches(12, 8)\n",
    "\n",
    "# Create barplot.\n",
    "bars = ax.bar(august_flights['year'], august_flights['passengers'], color='lightgrey')\n",
    "\n",
    "# Annotate bars.\n",
    "bars[4].set_color('blue')\n",
    "bars[7].set_color('blue')"
   ]
  },
  {
   "cell_type": "markdown",
   "id": "dc96389f",
   "metadata": {},
   "source": [
    "## 5. Placing annotations demonstration"
   ]
  },
  {
   "cell_type": "markdown",
   "id": "845606a3",
   "metadata": {},
   "source": [
    "### Step 1: Create the barplot"
   ]
  },
  {
   "cell_type": "code",
   "execution_count": null,
   "id": "c799c4bd",
   "metadata": {},
   "outputs": [],
   "source": [
    "# Set ticks.\n",
    "ax.set_xticks(list(range(1949, 1961, 1)))\n",
    "\n",
    "# Insert labels.\n",
    "ax.set_title(\"Air Travel for August\")\n",
    "ax.set_xlabel(\"Year\")\n",
    "ax.set_ylabel(\"Passengers\")\n",
    "\n",
    "# Select bars to highlight.\n",
    "for bar_index in [4, 7]:\n",
    "    bars[bar_index].set_color('#4472C4')\n",
    "    row = august_flights.iloc[bar_index]\n",
    "    passenger_count = row['passengers']\n",
    "    year = row['year']\n",
    "    xy = (year, passenger_count)\n",
    "    \n",
    "    # Draw a circle on top of bar.\n",
    "    if bar_index == 7:\n",
    "        bbox = {'boxstyle': 'circle, pad=0.5', 'fill': False}\n",
    "    else:\n",
    "        bbox = None\n",
    "\n",
    "# Create plot.\n",
    "ax.annotate(\"{}\".format(passenger_count),\n",
    "            xy=xy,\n",
    "            verticalalignment='bottom',\n",
    "            horizontalalignment='center',\n",
    "            bbox=bbox)\n",
    "\n",
    "fig  "
   ]
  },
  {
   "cell_type": "markdown",
   "id": "1d37e617",
   "metadata": {},
   "source": [
    "### Step 2: Add a shape to a chart"
   ]
  },
  {
   "cell_type": "code",
   "execution_count": null,
   "id": "b8625484",
   "metadata": {},
   "outputs": [],
   "source": [
    "xy = (year, passenger_count - 10)\n",
    "ax.annotate(\" \",\n",
    "            xy=xy,\n",
    "            verticalalignment='bottom',\n",
    "            horizontalalignment='center',\n",
    "            bbox={'boxstyle': 'circle, pad=3', 'fill': False})\n",
    "\n",
    "fig"
   ]
  }
 ],
 "metadata": {
  "kernelspec": {
   "display_name": "Python 3 (ipykernel)",
   "language": "python",
   "name": "python3"
  },
  "language_info": {
   "codemirror_mode": {
    "name": "ipython",
    "version": 3
   },
   "file_extension": ".py",
   "mimetype": "text/x-python",
   "name": "python",
   "nbconvert_exporter": "python",
   "pygments_lexer": "ipython3",
   "version": "3.9.12"
  }
 },
 "nbformat": 4,
 "nbformat_minor": 5
}
