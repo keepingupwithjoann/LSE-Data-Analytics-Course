{
 "cells": [
  {
   "cell_type": "markdown",
   "id": "b99f006c",
   "metadata": {},
   "source": [
    "### LSE Data Analytics Online Career Accelerator \n",
    "\n",
    "# DA201:  Data Analytics with Python"
   ]
  },
  {
   "cell_type": "markdown",
   "id": "018162cc",
   "metadata": {},
   "source": [
    "## Creating histograms with Seaborn (tutorial video)"
   ]
  },
  {
   "cell_type": "markdown",
   "id": "04c50640",
   "metadata": {},
   "source": [
    "This file contains the code snippets that are introduced in the Creating histograms with Seaborn video. \n",
    "Follow along with the demonstration to:\n",
    "- create a histogram\n",
    "- change histogram bin size.\n",
    "\n",
    "Play and pause the video to follow along with the demonstration."
   ]
  },
  {
   "cell_type": "markdown",
   "id": "046f3b73",
   "metadata": {},
   "source": [
    "### 1. Import libraries and create a DataFrame"
   ]
  },
  {
   "cell_type": "code",
   "execution_count": null,
   "id": "e69bdb71",
   "metadata": {},
   "outputs": [],
   "source": [
    "# Import Matplotlib, Seaborn, and Pandas.\n",
    "import matplotlib.pyplot as plt\n",
    "import seaborn as sns\n",
    "import pandas as pd\n",
    "\n",
    "# Import the csv file.\n",
    "fitness = pd.read_csv('daily_activity.csv')\n",
    "\n",
    "# View the DataFrame.\n",
    "print(fitness.shape)\n",
    "print(fitness.dtypes)\n",
    "print(fitness.columns)\n",
    "fitness.head()"
   ]
  },
  {
   "cell_type": "markdown",
   "id": "cae48726",
   "metadata": {},
   "source": [
    "### 2. Create a histogram"
   ]
  },
  {
   "cell_type": "code",
   "execution_count": null,
   "id": "4868fa1d",
   "metadata": {},
   "outputs": [],
   "source": [
    "# Create a single_day variable.\n",
    "# Specify a chosen day within the ActivityDate column and fitness DataFrame.\n",
    "single_day = fitness[fitness['ActivityDate'] == '4/12/2016']\n",
    "\n",
    "# View the output.\n",
    "print(single_day.shape)\n",
    "\n",
    "# Create a histogram with the histplot() function.\n",
    "sns.histplot(data=single_day, x='TotalDistance')"
   ]
  },
  {
   "cell_type": "markdown",
   "id": "5a2c1164",
   "metadata": {},
   "source": [
    "### 3. Change the bin size"
   ]
  },
  {
   "cell_type": "code",
   "execution_count": null,
   "id": "5b15f18b",
   "metadata": {},
   "outputs": [],
   "source": [
    "# Change the bin size to 1.\n",
    "# Create the histogram and set binwidth=1.\n",
    "sns.histplot(data=single_day, x='TotalDistance', binwidth=1)"
   ]
  },
  {
   "cell_type": "code",
   "execution_count": null,
   "id": "c31ce8c9",
   "metadata": {},
   "outputs": [],
   "source": [
    "# Change the bin size to 2.\n",
    "# Create the histogram and set binwidth=2.\n",
    "sns.histplot(data=single_day, x='TotalDistance', binwidth=2)"
   ]
  }
 ],
 "metadata": {
  "kernelspec": {
   "display_name": "Python 3 (ipykernel)",
   "language": "python",
   "name": "python3"
  },
  "language_info": {
   "codemirror_mode": {
    "name": "ipython",
    "version": 3
   },
   "file_extension": ".py",
   "mimetype": "text/x-python",
   "name": "python",
   "nbconvert_exporter": "python",
   "pygments_lexer": "ipython3",
   "version": "3.9.7"
  }
 },
 "nbformat": 4,
 "nbformat_minor": 5
}
