{
 "cells": [
  {
   "cell_type": "markdown",
   "id": "f525721a",
   "metadata": {},
   "source": [
    "### LSE Data Analytics Online Career Accelerator \n",
    "\n",
    "# DA201:  Data Analytics with Python"
   ]
  },
  {
   "cell_type": "markdown",
   "id": "08df140b",
   "metadata": {},
   "source": [
    "## Creating scatterplots with Seaborn (tutorial video)"
   ]
  },
  {
   "cell_type": "markdown",
   "id": "96efdece",
   "metadata": {},
   "source": [
    "This file contains the code snippets that are introduced in the Creating scatterplots with Seaborn video. \n",
    "Follow along with the demonstration to:\n",
    "- create a scatterplot with two variables\n",
    "- create a scatterplot with three variables\n",
    "- create a scatterplot with a regression line.\n",
    "\n",
    "Play and pause the video to follow along with the demonstration."
   ]
  },
  {
   "cell_type": "markdown",
   "id": "0eb53a35",
   "metadata": {},
   "source": [
    "### 1. Import libraries and create a DataFrame"
   ]
  },
  {
   "cell_type": "code",
   "execution_count": null,
   "id": "826c760a",
   "metadata": {},
   "outputs": [],
   "source": [
    "# Import Matplotlib, Seaborn, and Pandas.\n",
    "import matplotlib.pyplot as plt\n",
    "import seaborn as sns\n",
    "import pandas as pd\n",
    "\n",
    "# Import the csv file.\n",
    "fitness = pd.read_csv('daily_activity.csv')\n",
    "\n",
    "# View the DataFrame.\n",
    "print(fitness.shape)\n",
    "print(fitness.dtypes)\n",
    "print(fitness.columns)\n",
    "fitness.head()"
   ]
  },
  {
   "cell_type": "markdown",
   "id": "15641ff8",
   "metadata": {},
   "source": [
    "### 2. Create a scatterplot with two variables"
   ]
  },
  {
   "cell_type": "code",
   "execution_count": null,
   "id": "a955333f",
   "metadata": {},
   "outputs": [],
   "source": [
    "# Create a single_day variable.\n",
    "# Specify a chosen day within the ActivityDate column and fitness DataFrame.\n",
    "single_day = fitness[fitness['ActivityDate'] == '4/12/2016']\n",
    "\n",
    "# View the output.\n",
    "print(single_day.shape)\n",
    "\n",
    "# Create the scatterplot.\n",
    "sns.scatterplot(x='TotalSteps',\n",
    "               y='Calories',\n",
    "               data=single_day)"
   ]
  },
  {
   "cell_type": "markdown",
   "id": "5e23a5e0",
   "metadata": {},
   "source": [
    "### 3. Create a scatterplot with three variables"
   ]
  },
  {
   "cell_type": "code",
   "execution_count": null,
   "id": "fc272a66",
   "metadata": {},
   "outputs": [],
   "source": [
    "# Create a scatterplot with three variables.\n",
    "sns.scatterplot(x='TotalSteps', y='Calories',\n",
    "               marker='o', hue='VeryActiveMinutes',\n",
    "               size='VeryActiveMinutes', legend='full',\n",
    "               data=single_day)\n",
    "\n",
    "# Adjust the legend position on the plot.\n",
    "plt.legend(bbox_to_anchor=(1.05, 1))"
   ]
  },
  {
   "cell_type": "markdown",
   "id": "fc58be43",
   "metadata": {},
   "source": [
    "### 4. Create a scatterplot with a regression line"
   ]
  },
  {
   "cell_type": "code",
   "execution_count": null,
   "id": "0a80579c",
   "metadata": {},
   "outputs": [],
   "source": [
    "# Create the scatterplot with a regression line.\n",
    "sns.regplot(x='TotalSteps', y='Calories', data=single_day)"
   ]
  }
 ],
 "metadata": {
  "kernelspec": {
   "display_name": "Python 3 (ipykernel)",
   "language": "python",
   "name": "python3"
  },
  "language_info": {
   "codemirror_mode": {
    "name": "ipython",
    "version": 3
   },
   "file_extension": ".py",
   "mimetype": "text/x-python",
   "name": "python",
   "nbconvert_exporter": "python",
   "pygments_lexer": "ipython3",
   "version": "3.9.7"
  }
 },
 "nbformat": 4,
 "nbformat_minor": 5
}
