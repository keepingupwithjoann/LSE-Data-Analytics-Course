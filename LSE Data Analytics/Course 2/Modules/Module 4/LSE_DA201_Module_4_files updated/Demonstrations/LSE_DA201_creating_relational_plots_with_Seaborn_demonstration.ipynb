{
 "cells": [
  {
   "cell_type": "markdown",
   "id": "629ebd87",
   "metadata": {},
   "source": [
    "### LSE Data Analytics Online Career Accelerator \n",
    "\n",
    "# DA201:  Data Analytics with Python"
   ]
  },
  {
   "cell_type": "markdown",
   "id": "d8250773",
   "metadata": {},
   "source": [
    "## Creating relational plots with Seaborn (tutorial video)"
   ]
  },
  {
   "cell_type": "markdown",
   "id": "2cab65ec",
   "metadata": {},
   "source": [
    "This file contains the code snippets that are introduced in the Creating relational plots with Seaborn video. \n",
    "Follow along with the demonstration to:\n",
    "- create a relational plot with Seaborn\n",
    "- add an additional variable to a relational plot.\n",
    "\n",
    "Play and pause the video to follow along with the demonstration."
   ]
  },
  {
   "cell_type": "markdown",
   "id": "a45de7ce",
   "metadata": {},
   "source": [
    "### 1. Import libraries and create a DataFrame"
   ]
  },
  {
   "cell_type": "code",
   "execution_count": null,
   "id": "6f0f947e",
   "metadata": {},
   "outputs": [],
   "source": [
    "# Import Matplotlib, Seaborn, and Pandas.\n",
    "import matplotlib.pyplot as plt\n",
    "import seaborn as sns\n",
    "import pandas as pd\n",
    "\n",
    "# Import the csv file.\n",
    "penguins = pd.read_csv('penguins.csv')\n",
    "\n",
    "# View the DataFrame.\n",
    "print(penguins.shape)\n",
    "print(penguins.dtypes)\n",
    "print(penguins.columns)\n",
    "penguins.head()"
   ]
  },
  {
   "cell_type": "markdown",
   "id": "f5da1f78",
   "metadata": {},
   "source": [
    "### 2. Create a relational plot"
   ]
  },
  {
   "cell_type": "code",
   "execution_count": null,
   "id": "cc770324",
   "metadata": {},
   "outputs": [],
   "source": [
    "# Set the size of the plot.\n",
    "sns.set(font_scale = 2)\n",
    "\n",
    "# Create a relational plot.\n",
    "sns.relplot(x='bill_length_mm', y='flipper_length_mm',\n",
    "           hue='sex', data=penguins, col='species')"
   ]
  },
  {
   "cell_type": "markdown",
   "id": "73cc95ab",
   "metadata": {},
   "source": [
    "### 3. Add another variable"
   ]
  },
  {
   "cell_type": "code",
   "execution_count": null,
   "id": "b9234371",
   "metadata": {},
   "outputs": [],
   "source": [
    "sns.set(font_scale = 1.5)\n",
    "\n",
    "sns.relplot(x='bill_length_mm', y='flipper_length_mm',\n",
    "           hue='sex', data=penguins, col='species',\n",
    "           row='island')"
   ]
  }
 ],
 "metadata": {
  "kernelspec": {
   "display_name": "Python 3 (ipykernel)",
   "language": "python",
   "name": "python3"
  },
  "language_info": {
   "codemirror_mode": {
    "name": "ipython",
    "version": 3
   },
   "file_extension": ".py",
   "mimetype": "text/x-python",
   "name": "python",
   "nbconvert_exporter": "python",
   "pygments_lexer": "ipython3",
   "version": "3.9.7"
  }
 },
 "nbformat": 4,
 "nbformat_minor": 5
}
