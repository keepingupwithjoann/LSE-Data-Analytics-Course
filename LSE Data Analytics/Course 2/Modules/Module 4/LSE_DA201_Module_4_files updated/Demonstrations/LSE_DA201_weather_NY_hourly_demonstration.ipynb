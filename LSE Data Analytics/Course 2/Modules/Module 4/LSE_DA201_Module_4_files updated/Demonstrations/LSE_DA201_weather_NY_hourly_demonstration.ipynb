{
 "cells": [
  {
   "cell_type": "markdown",
   "id": "d758dfce",
   "metadata": {},
   "source": [
    "### LSE Data Analytics Online Career Accelerator\n",
    "\n",
    "# DA201: Data Analytics Using Python"
   ]
  },
  {
   "cell_type": "markdown",
   "id": "eb98d4f7",
   "metadata": {},
   "source": [
    "## Time-series plots with Seaborn (Python)"
   ]
  },
  {
   "cell_type": "markdown",
   "id": "2b537f7c",
   "metadata": {},
   "source": [
    "This Notebook accompanies the 'Time-series plots with Seaborn (Python)' demonstration video. In the video Dr Milena Tsvetkova, will illustrate how to create a time-series plot using Seaborn.\n",
    "\n",
    "Follow along with the demonstration to learn how to:\n",
    "\n",
    "- apply time-series in a real-life scenario to identify trends\n",
    "- create a time-series plot in Seaborn\n",
    "- understand/read a time-series plot."
   ]
  },
  {
   "cell_type": "markdown",
   "id": "b5cae898",
   "metadata": {},
   "source": [
    "### 1. Prepare your workstation"
   ]
  },
  {
   "cell_type": "code",
   "execution_count": null,
   "id": "93b485af",
   "metadata": {},
   "outputs": [],
   "source": [
    "# Import Matplotlib, Seaborn, and Pandas.\n",
    "import seaborn as sns\n",
    "import pandas as pd\n",
    "import numpy as np\n",
    "import matplotlib.pyplot as plt\n",
    "from matplotlib.dates import *\n",
    "\n",
    "# Read the CSV file.\n",
    "weather = pd.read_csv('ny_hourly.csv')\n",
    "\n",
    "# View the DataFrame.\n",
    "print(weather.shape)\n",
    "print(weather.dtypes)\n",
    "print(weather.columns)\n",
    "weather.head()"
   ]
  },
  {
   "cell_type": "code",
   "execution_count": null,
   "id": "ece13ee8",
   "metadata": {},
   "outputs": [],
   "source": [
    "# Import data again with parse.\n",
    "weather = pd.read_csv('ny_hourly.csv',\n",
    "                      parse_dates=[['date', 'TimeEST']],\n",
    "                      usecols=['date', 'TimeEST', 'TemperatureF',\n",
    "                               'Dew PointF', 'Humidity'])\n",
    "\n",
    "# View the DataFrame.\n",
    "weather"
   ]
  },
  {
   "cell_type": "code",
   "execution_count": null,
   "id": "50531970",
   "metadata": {},
   "outputs": [],
   "source": [
    "# Use describe function.\n",
    "weather.describe()"
   ]
  },
  {
   "cell_type": "code",
   "execution_count": null,
   "id": "3a255e7d",
   "metadata": {},
   "outputs": [],
   "source": [
    "# Only values bigger than -100.\n",
    "weather = weather[weather['TemperatureF'] >-100]\n",
    "\n",
    "# Sort data.\n",
    "weather = weather.sort_values('date_TimeEST')\n",
    "\n",
    "# View the DataFrame.\n",
    "weather"
   ]
  },
  {
   "cell_type": "code",
   "execution_count": null,
   "id": "c027ef6f",
   "metadata": {},
   "outputs": [],
   "source": [
    "# How temperature changes over time.\n",
    "# Seaborn lineplots.\n",
    "sns.lineplot(x='date_TimeEST', y='TemperatureF',\n",
    "            data=weather).set_title(\"Hourly Weather in New York\")"
   ]
  },
  {
   "cell_type": "code",
   "execution_count": null,
   "id": "a21f9cc6",
   "metadata": {},
   "outputs": [],
   "source": [
    "# Dew point.\n",
    "sns.lineplot(x='date_TimeEST', y='Dew PointF',\n",
    "            data=weather).set_title(\"Hourly Weather in New York\")"
   ]
  },
  {
   "cell_type": "code",
   "execution_count": null,
   "id": "ba1949ec",
   "metadata": {},
   "outputs": [],
   "source": [
    "# Humidity.\n",
    "sns.lineplot(x='date_TimeEST', y='Humidity',\n",
    "            data=weather).set_title(\"'Hourly Weather in New York\")"
   ]
  },
  {
   "cell_type": "code",
   "execution_count": null,
   "id": "4b16a0ff",
   "metadata": {},
   "outputs": [],
   "source": [
    "# Format dates.\n",
    "fig, ax = plt.subplots()\n",
    "\n",
    "sns.lineplot(x='date_TimeEST', y='TemperatureF',\n",
    "             data=weather).set_title(\"Hourly Weather in New York\")\n",
    "\n",
    "x_labels = weather['date_TimeEST'].dt.strftime('%Y-%m-%d')\n",
    "\n",
    "ax.set_xticklabels(x_labels, rotation=45)\n",
    "\n",
    "plt.show()"
   ]
  },
  {
   "cell_type": "code",
   "execution_count": null,
   "id": "e993484a",
   "metadata": {},
   "outputs": [],
   "source": [
    "# Plotting different variables.\n",
    "january_data = weather[weather.date_TimeEST < np.datetime64('2016-01-03')]\n",
    "\n",
    "fig, temp_ax = plt.subplots()\n",
    "fig.set_size_inches(14, 8)\n",
    "\n",
    "humidity_ax = temp_ax.twinx()\n",
    "\n",
    "# Add labels.\n",
    "temp_ax.set_title(\"Hourly Temperature in NYC\")\n",
    "temp_ax.set_xlabel(\"Date & Time\")\n",
    "temp_ax.set_ylabel(\"Temperature (ºF)\")\n",
    "\n",
    "humidity_ax.set_ylabel(\"Humidity (%)\")\n",
    "\n",
    "# Change date and time.\n",
    "major_locator = AutoDateLocator()\n",
    "formatter = ConciseDateFormatter(major_locator)\n",
    "humidity_ax.xaxis.set_major_formatter(formatter)\n",
    "temp_ax.xaxis.set_major_formatter(formatter)\n",
    "\n",
    "temp_lines = temp_ax.plot(january_data.date_TimeEST, january_data.TemperatureF, 'r')\n",
    "humidity_lines = humidity_ax.plot(january_data.date_TimeEST, january_data.Humidity, 'c')"
   ]
  },
  {
   "cell_type": "code",
   "execution_count": null,
   "id": "203736c8",
   "metadata": {},
   "outputs": [],
   "source": [
    "# Plot multiple variables with the same x-axis.\n",
    "fig, axes = plt.subplots(nrows=3)\n",
    "nyc_fig = fig\n",
    "fig.set_size_inches(14, 10)\n",
    "\n",
    "temp_lines = axes[0].plot(weather.date_TimeEST, weather.TemperatureF, 'r')\n",
    "humidity_lines = axes[1].plot(weather.date_TimeEST, weather.Humidity, 'c')\n",
    "dew_point_lines = axes[2].plot(weather.date_TimeEST, weather['Dew PointF'], 'g')\n",
    "\n",
    "axes[0].set_xticklabels([])\n",
    "axes[1].set_xticklabels([])\n",
    "\n",
    "major_locator = AutoDateLocator()\n",
    "formatter = ConciseDateFormatter(major_locator)\n",
    "axes[2].xaxis.set_major_formatter(formatter)\n",
    "axes[0].set_ylabel(\"Temperature (ºF)\")\n",
    "axes[1].set_ylabel(\"Humidity (%)\")\n",
    "axes[2].set_ylabel(\"Dew Point (ºF)\")\n",
    "axes[2].set_xlabel(\"Date\")\n",
    "fig.suptitle(\"Weather in New York City\", fontsize=16, y=0.92)\n",
    "axes[2].legend(temp_lines + humidity_lines + dew_point_lines, \n",
    "                ['Temperature', 'Humidity', 'Dew Point'], loc='lower right', ncol=3)"
   ]
  },
  {
   "cell_type": "code",
   "execution_count": null,
   "id": "3a0e62c9",
   "metadata": {},
   "outputs": [],
   "source": [
    "# Alternative methods.\n",
    "fig, ax = plt.subplots(2)\n",
    "fig.set_size_inches(14, 10)\n",
    "\n",
    "# Create lineplots.\n",
    "sns.lineplot(x='date_TimeEST',\n",
    "             y='TemperatureF',\n",
    "             ax=ax[0],\n",
    "             data=weather)\n",
    "\n",
    "sns.lineplot(x='date_TimeEST',\n",
    "             y='Humidity',\n",
    "             ax=ax[1],\n",
    "             data=weather)\n",
    "\n",
    "# View the lineplots.\n",
    "plt.show()"
   ]
  }
 ],
 "metadata": {
  "kernelspec": {
   "display_name": "Python 3 (ipykernel)",
   "language": "python",
   "name": "python3"
  },
  "language_info": {
   "codemirror_mode": {
    "name": "ipython",
    "version": 3
   },
   "file_extension": ".py",
   "mimetype": "text/x-python",
   "name": "python",
   "nbconvert_exporter": "python",
   "pygments_lexer": "ipython3",
   "version": "3.9.7"
  }
 },
 "nbformat": 4,
 "nbformat_minor": 5
}
