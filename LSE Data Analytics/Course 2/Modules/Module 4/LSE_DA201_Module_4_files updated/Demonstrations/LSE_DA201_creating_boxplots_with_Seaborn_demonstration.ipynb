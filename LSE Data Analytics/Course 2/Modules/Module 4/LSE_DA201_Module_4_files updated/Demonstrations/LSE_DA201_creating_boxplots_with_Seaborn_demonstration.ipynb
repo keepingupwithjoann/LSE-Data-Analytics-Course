{
 "cells": [
  {
   "cell_type": "markdown",
   "id": "b050c197",
   "metadata": {},
   "source": [
    "### LSE Data Analytics Online Career Accelerator \n",
    "\n",
    "# DA201:  Data Analytics with Python"
   ]
  },
  {
   "cell_type": "markdown",
   "id": "e08ee267",
   "metadata": {},
   "source": [
    "## Creating boxplots with Seaborn (tutorial video)"
   ]
  },
  {
   "cell_type": "markdown",
   "id": "3ac28bcf",
   "metadata": {},
   "source": [
    "This file contains the code snippets that are introduced in the Creating boxplots with Seaborn video. \n",
    "Follow along with the demonstration to:\n",
    "- create a boxplot using Seaborn\n",
    "- create a boxplot with a third variable\n",
    "- specify the order of variables in a boxplot.\n",
    "\n",
    "Play and pause the video to follow along with the demonstration."
   ]
  },
  {
   "cell_type": "markdown",
   "id": "eebde5b6",
   "metadata": {},
   "source": [
    "### 1. Import libraries and create a DataFrame"
   ]
  },
  {
   "cell_type": "code",
   "execution_count": null,
   "id": "09c0e7ea",
   "metadata": {},
   "outputs": [],
   "source": [
    "# Import Matplotlib, Seaborn, and Pandas.\n",
    "import matplotlib.pyplot as plt\n",
    "import seaborn as sns\n",
    "import pandas as pd\n",
    "\n",
    "# Import the csv file.\n",
    "penguins = pd.read_csv('penguins.csv')\n",
    "\n",
    "# View the DataFrame.\n",
    "print(penguins.shape)\n",
    "print(penguins.dtypes)\n",
    "print(penguins.columns)\n",
    "penguins.head()"
   ]
  },
  {
   "cell_type": "markdown",
   "id": "e50191d3",
   "metadata": {},
   "source": [
    "### 2. Create a boxplot"
   ]
  },
  {
   "cell_type": "code",
   "execution_count": null,
   "id": "f4a58821",
   "metadata": {},
   "outputs": [],
   "source": [
    "# Create a boxplot based on species and body_mass_g.\n",
    "sns.boxplot(data=penguins, x='species', y='body_mass_g')"
   ]
  },
  {
   "cell_type": "markdown",
   "id": "58507feb",
   "metadata": {},
   "source": [
    "### 3. Create a boxplot with a third variable"
   ]
  },
  {
   "cell_type": "code",
   "execution_count": null,
   "id": "9c3ca0f7",
   "metadata": {},
   "outputs": [],
   "source": [
    "# Create a boxplot based on species, body_mass_gm and sex.\n",
    "sns.boxplot(data=penguins, x='species', y='body_mass_g', hue='sex')"
   ]
  },
  {
   "cell_type": "markdown",
   "id": "6f38ede1",
   "metadata": {},
   "source": [
    "### 4. Specify the order of variables"
   ]
  },
  {
   "cell_type": "code",
   "execution_count": null,
   "id": "f91408c7",
   "metadata": {},
   "outputs": [],
   "source": [
    "# Specify the order of variables with the groupby() function.\n",
    "my_order = penguins.groupby(by=['species'])['body_mass_g'].median().iloc[::-1].index\n",
    "\n",
    "# Create a boxplot based on the order of variables.\n",
    "sns.boxplot(x='species', y='body_mass_g', data=penguins, order=my_order)"
   ]
  }
 ],
 "metadata": {
  "kernelspec": {
   "display_name": "Python 3 (ipykernel)",
   "language": "python",
   "name": "python3"
  },
  "language_info": {
   "codemirror_mode": {
    "name": "ipython",
    "version": 3
   },
   "file_extension": ".py",
   "mimetype": "text/x-python",
   "name": "python",
   "nbconvert_exporter": "python",
   "pygments_lexer": "ipython3",
   "version": "3.9.7"
  }
 },
 "nbformat": 4,
 "nbformat_minor": 5
}
