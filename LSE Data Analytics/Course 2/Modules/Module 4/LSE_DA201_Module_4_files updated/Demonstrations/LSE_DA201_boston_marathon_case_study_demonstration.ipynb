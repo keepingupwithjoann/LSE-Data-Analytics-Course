{
 "cells": [
  {
   "cell_type": "markdown",
   "id": "5777c9c6",
   "metadata": {},
   "source": [
    "### LSE Data Analytics Online Career Accelerator\n",
    "\n",
    "# DA201: Data Analytics Using Python"
   ]
  },
  {
   "cell_type": "markdown",
   "id": "7abedd88",
   "metadata": {},
   "source": [
    "## Demonstration: Boston Marathon case study"
   ]
  },
  {
   "cell_type": "markdown",
   "id": "14b0066d",
   "metadata": {},
   "source": [
    "The Boston Marathon organisers want to promote the annual event and engage participants for future events. In 2017, marathon participants agreed to wear tracking devices during the run, and the stats gathered from these devices have been compiled. The organisers want to learn from the data to inform their marketing and promotional campaign. They hope to identify something in the data that the marketing team could use to inform their campaign design. \n",
    "\n",
    "In this demonstration, let's use the marathon data set to create more effective visualisations.\n",
    "\n",
    "This Notebook is used in 4.3.5 [Optional] Readability of visualisations and is a continuation of the LSE_DA201_the_visualisation_workflow.ipynb Notebook used in 4.3.1 The visualisation workflow. The new content begins at Step 7 below."
   ]
  },
  {
   "cell_type": "markdown",
   "id": "52a03ada",
   "metadata": {},
   "source": [
    "### 1. Import libraries and create a DataFrame"
   ]
  },
  {
   "cell_type": "code",
   "execution_count": null,
   "id": "9ea6d052",
   "metadata": {
    "scrolled": true
   },
   "outputs": [],
   "source": [
    "# Import Matplotlib, Seaborn, NumPy, and Pandas.\n",
    "import matplotlib.pyplot as plt\n",
    "import seaborn as sns\n",
    "import numpy as np\n",
    "import pandas as pd\n",
    "import datetime\n",
    "\n",
    "# Read the CSV file.\n",
    "marathon = pd.read_csv(\"marathon_results.csv\")\n",
    "\n",
    "# View the DataFrame.\n",
    "print(marathon.shape)\n",
    "print(marathon.columns)\n",
    "marathon.head()"
   ]
  },
  {
   "cell_type": "markdown",
   "id": "6cae8f48",
   "metadata": {},
   "source": [
    "### 2. Convert time to integers"
   ]
  },
  {
   "cell_type": "code",
   "execution_count": null,
   "id": "699170a4",
   "metadata": {},
   "outputs": [],
   "source": [
    "# Ensure the variables of interest are numeric.\n",
    "marathon['official_time'] = pd.to_timedelta(marathon['Official Time'])\n",
    "\n",
    "# Calculate the number of seconds.\n",
    "marathon['official_time_seconds'] = marathon['official_time'].dt.seconds\n",
    "\n",
    "# Calculate the number of minutes.\n",
    "marathon['official_time_minutes'] = marathon['official_time_seconds']/60\n",
    "\n",
    "# View the DataFrame.\n",
    "marathon.head()"
   ]
  },
  {
   "cell_type": "markdown",
   "id": "89a5278a",
   "metadata": {},
   "source": [
    "### 3. What is the spread of data?"
   ]
  },
  {
   "cell_type": "code",
   "execution_count": null,
   "id": "b5fc9f32",
   "metadata": {},
   "outputs": [],
   "source": [
    "# Create an empty plot and set plot size.\n",
    "fig, ax = plt.subplots()\n",
    "fig.set_size_inches(16, 8)\n",
    "\n",
    "# Create a histogram.\n",
    "ax.hist(marathon['Official Time'], bins=20)"
   ]
  },
  {
   "cell_type": "markdown",
   "id": "b46e8c2a",
   "metadata": {},
   "source": [
    "### 4. What is the spread of male marathon runners?"
   ]
  },
  {
   "cell_type": "code",
   "execution_count": null,
   "id": "1aa02e9c",
   "metadata": {},
   "outputs": [],
   "source": [
    "# Create an empty plot and set plot size.\n",
    "fig, ax = plt.subplots()\n",
    "fig.set_size_inches(16, 8)\n",
    "\n",
    "# Create a variable for the x-values.\n",
    "males = marathon[marathon['M/F'] == 'M']\n",
    "\n",
    "# Create a histogram.\n",
    "ax.hist(males['Official Time'], bins=20)"
   ]
  },
  {
   "cell_type": "markdown",
   "id": "d2e8dd71",
   "metadata": {},
   "source": [
    "### 5. What is the spread of female marathon runners?"
   ]
  },
  {
   "cell_type": "code",
   "execution_count": null,
   "id": "551e1c4b",
   "metadata": {},
   "outputs": [],
   "source": [
    "# Create an empty plot and set plot size.\n",
    "fig, ax = plt.subplots()\n",
    "fig.set_size_inches(16, 8)\n",
    "\n",
    "# Create a variable for the x-values.\n",
    "females = marathon[marathon['M/F'] == 'F']\n",
    "\n",
    "# Create a histogram.\n",
    "ax.hist(females['Official Time'], bins=20)"
   ]
  },
  {
   "cell_type": "markdown",
   "id": "cc405aa3",
   "metadata": {},
   "source": [
    "### 6. What is the relationship between gender and race times?"
   ]
  },
  {
   "cell_type": "code",
   "execution_count": null,
   "id": "466f98aa",
   "metadata": {},
   "outputs": [],
   "source": [
    "# Create a data set for males and females to use in the matplotlib boxplot.\n",
    "males = marathon[marathon['M/F'] == 'M']\n",
    "females = marathon[marathon['M/F'] == 'F']\n",
    "\n",
    "# Create a variable for the boxplot.\n",
    "males = males['official_time_minutes']\n",
    "females = females['official_time_minutes']\n",
    "\n",
    "# Create a boxplot using Matplotlib.\n",
    "plt.boxplot([males,females], labels=['M','F'], patch_artist=True)\n",
    "\n",
    "# View the boxplot.\n",
    "plt.show()"
   ]
  },
  {
   "cell_type": "code",
   "execution_count": null,
   "id": "3ee2d30c",
   "metadata": {},
   "outputs": [],
   "source": [
    "# Create a second boxplot using Seaborn.\n",
    "sns.boxplot(x='M/F', y='official_time_minutes', data=marathon)"
   ]
  },
  {
   "cell_type": "markdown",
   "id": "35b7a99f",
   "metadata": {},
   "source": [
    "### 7. Combine the two histograms (male and female) into one plot"
   ]
  },
  {
   "cell_type": "code",
   "execution_count": null,
   "id": "7ee72572",
   "metadata": {},
   "outputs": [],
   "source": []
  },
  {
   "cell_type": "code",
   "execution_count": null,
   "id": "f248339a",
   "metadata": {},
   "outputs": [],
   "source": []
  },
  {
   "cell_type": "code",
   "execution_count": null,
   "id": "aa9f1234",
   "metadata": {},
   "outputs": [],
   "source": []
  }
 ],
 "metadata": {
  "kernelspec": {
   "display_name": "Python 3 (ipykernel)",
   "language": "python",
   "name": "python3"
  },
  "language_info": {
   "codemirror_mode": {
    "name": "ipython",
    "version": 3
   },
   "file_extension": ".py",
   "mimetype": "text/x-python",
   "name": "python",
   "nbconvert_exporter": "python",
   "pygments_lexer": "ipython3",
   "version": "3.9.7"
  }
 },
 "nbformat": 4,
 "nbformat_minor": 5
}
