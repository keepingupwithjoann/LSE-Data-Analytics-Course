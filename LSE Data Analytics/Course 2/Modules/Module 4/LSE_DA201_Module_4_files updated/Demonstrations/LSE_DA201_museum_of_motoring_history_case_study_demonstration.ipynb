{
 "cells": [
  {
   "cell_type": "markdown",
   "id": "7254e297",
   "metadata": {},
   "source": [
    "### LSE Data Analytics Online Career Accelerator\n",
    "\n",
    "# DA201: Data Analytics Using Python"
   ]
  },
  {
   "cell_type": "markdown",
   "id": "ef5c42ce",
   "metadata": {},
   "source": [
    "## Demonstration: Museum of Motoring History case study"
   ]
  },
  {
   "cell_type": "markdown",
   "id": "a1f55ef8",
   "metadata": {},
   "source": [
    "The Museum of Motoring History is preparing for an exhibition about vehicles from the 1970s. The curator wants to create an interactive exhibit for visitors to learn about the fuel efficiency of many popular cars. They have a data set of car fuel efficiency from 1970 to 1982 in which the fuel efficiency is measured in miles per gallon (MPG). A higher MPG means the car is more efficient. What visualisations could the exhibit include to engage visitors? This is where pointplots can be used as a replacement for bar charts.\n",
    "\n",
    "Let’s help the curator! "
   ]
  },
  {
   "cell_type": "markdown",
   "id": "d909b83f",
   "metadata": {},
   "source": [
    "### 1. Prepare your workstation"
   ]
  },
  {
   "cell_type": "code",
   "execution_count": null,
   "id": "129ac5a8",
   "metadata": {},
   "outputs": [],
   "source": [
    "# Import Matplotlib, Seaborn, and Pandas.\n",
    "import matplotlib.pyplot as plt\n",
    "import seaborn as sns\n",
    "import pandas as pd\n",
    "\n",
    "# Read the CSV file.\n",
    "mpg = pd.read_csv('mpg.csv')\n",
    "\n",
    "# View the DataFrame.\n",
    "print(mpg.shape)\n",
    "print(mpg.dtypes)\n",
    "print(mpg.columns)\n",
    "mpg.head()"
   ]
  },
  {
   "cell_type": "markdown",
   "id": "5bb00dbd",
   "metadata": {},
   "source": [
    "### 2. Create a lineplot"
   ]
  },
  {
   "cell_type": "code",
   "execution_count": null,
   "id": "7a59385c",
   "metadata": {},
   "outputs": [],
   "source": [
    "# Create a lineplot for fuel efficiency.\n",
    "sns.lineplot(x='model_year', y='mpg', data=mpg)"
   ]
  },
  {
   "cell_type": "markdown",
   "id": "1a8fc20e",
   "metadata": {},
   "source": [
    "### 3. Create a barplot"
   ]
  },
  {
   "cell_type": "code",
   "execution_count": null,
   "id": "6f2ef89c",
   "metadata": {},
   "outputs": [],
   "source": [
    "# Create a barplot for fuel efficiency.\n",
    "sns.barplot(x='model_year', y='mpg', data=mpg)"
   ]
  },
  {
   "cell_type": "markdown",
   "id": "9dfe4187",
   "metadata": {},
   "source": [
    "### 4. Create a pointplot"
   ]
  },
  {
   "cell_type": "code",
   "execution_count": null,
   "id": "1f4743b6",
   "metadata": {},
   "outputs": [],
   "source": [
    "# Create a pointplot for fuel efficiency.\n",
    "sns.pointplot(x='model_year', y='mpg', data=mpg)"
   ]
  },
  {
   "cell_type": "code",
   "execution_count": null,
   "id": "ec39ecbe",
   "metadata": {},
   "outputs": [],
   "source": [
    "# Create a pointplot for fuel efficiency by manufacturing country.\n",
    "sns.pointplot(x='model_year', y='mpg', hue='origin', data=mpg)"
   ]
  }
 ],
 "metadata": {
  "kernelspec": {
   "display_name": "Python 3 (ipykernel)",
   "language": "python",
   "name": "python3"
  },
  "language_info": {
   "codemirror_mode": {
    "name": "ipython",
    "version": 3
   },
   "file_extension": ".py",
   "mimetype": "text/x-python",
   "name": "python",
   "nbconvert_exporter": "python",
   "pygments_lexer": "ipython3",
   "version": "3.9.12"
  }
 },
 "nbformat": 4,
 "nbformat_minor": 5
}
