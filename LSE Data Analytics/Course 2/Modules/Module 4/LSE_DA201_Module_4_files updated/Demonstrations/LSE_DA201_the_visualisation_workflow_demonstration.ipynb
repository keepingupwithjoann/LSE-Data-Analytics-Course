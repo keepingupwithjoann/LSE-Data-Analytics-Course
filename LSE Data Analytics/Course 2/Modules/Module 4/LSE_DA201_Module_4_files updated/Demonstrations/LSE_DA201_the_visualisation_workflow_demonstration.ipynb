{
 "cells": [
  {
   "cell_type": "markdown",
   "id": "12469ff0",
   "metadata": {},
   "source": [
    "### LSE Data Analytics Online Career Accelerator \n",
    "\n",
    "# DA201:  Data Analytics with Python"
   ]
  },
  {
   "cell_type": "markdown",
   "id": "4c5c6be5",
   "metadata": {},
   "source": [
    "## The visualisation workflow (tutorial video)"
   ]
  },
  {
   "cell_type": "markdown",
   "id": "5379b0aa",
   "metadata": {},
   "source": [
    "This file contains the code snippets that are introduced in the Visualising the workflow video. \n",
    "Follow along with the demonstration to:\n",
    "- use visualisations to answer data questions.\n",
    "\n",
    "Play and pause the video to follow along with the demonstration."
   ]
  },
  {
   "cell_type": "markdown",
   "id": "af6699ae",
   "metadata": {},
   "source": [
    "### 1. Import libraries and create a DataFrame"
   ]
  },
  {
   "cell_type": "code",
   "execution_count": null,
   "id": "4dbb4723",
   "metadata": {},
   "outputs": [],
   "source": [
    "# Import Matplotlib, Seaborn, Numpy, Pandas, and DateTime.\n",
    "import matplotlib.pyplot as plt\n",
    "import seaborn as sns\n",
    "import numpy as np\n",
    "import pandas as pd\n",
    "import datetime\n",
    "\n",
    "# Import the csv file.\n",
    "marathon = pd.read_csv('marathon_results.csv')\n",
    "\n",
    "# View the DataFrame.\n",
    "print(marathon.shape)\n",
    "print(marathon.columns)\n",
    "marathon.head()"
   ]
  },
  {
   "cell_type": "markdown",
   "id": "3cb08ec1",
   "metadata": {},
   "source": [
    "### 2. Convert time to integers"
   ]
  },
  {
   "cell_type": "code",
   "execution_count": null,
   "id": "6dce87e2",
   "metadata": {},
   "outputs": [],
   "source": [
    "# Ensure the variables of interest are numeric.\n",
    "marathon['official_time'] = pd.to_timedelta(marathon['Official Time'])\n",
    "\n",
    "# Calculate the number of seconds.\n",
    "marathon['official_time_seconds'] = marathon['official_time'].dt.seconds\n",
    "\n",
    "# Calculate the number of minutes.\n",
    "marathon['official_time_minutes'] = marathon['official_time_seconds']/60\n",
    "\n",
    "# View the DataFrame.\n",
    "marathon.head()"
   ]
  },
  {
   "cell_type": "markdown",
   "id": "fb45e86f",
   "metadata": {},
   "source": [
    "### 3. What is the spread of data?"
   ]
  },
  {
   "cell_type": "code",
   "execution_count": null,
   "id": "a31d305c",
   "metadata": {},
   "outputs": [],
   "source": [
    "# Create an empty plot and set plot size.\n",
    "fig, ax = plt.subplots()\n",
    "fig.set_size_inches(16, 8)\n",
    "\n",
    "# Create a histogram.\n",
    "ax.hist(marathon['Official Time'], bins=20)"
   ]
  },
  {
   "cell_type": "markdown",
   "id": "5f26420e",
   "metadata": {},
   "source": [
    "### 4. What is the spread of male marathon runners?"
   ]
  },
  {
   "cell_type": "code",
   "execution_count": null,
   "id": "24162aa4",
   "metadata": {},
   "outputs": [],
   "source": [
    "# Create an empty plot and set plot size.\n",
    "fig, ax = plt.subplots()\n",
    "fig.set_size_inches(16, 8)\n",
    "\n",
    "# Create a variable for the x-values.\n",
    "males = marathon[marathon['M/F'] == 'M']\n",
    "\n",
    "# Create a histogram.\n",
    "ax.hist(males['Official Time'], bins=20)"
   ]
  },
  {
   "cell_type": "markdown",
   "id": "6aacbfea",
   "metadata": {},
   "source": [
    "### 5. What is the spread of female marathon runners?"
   ]
  },
  {
   "cell_type": "code",
   "execution_count": null,
   "id": "26485bbc",
   "metadata": {},
   "outputs": [],
   "source": [
    "# Create an empty plot and set plot size.\n",
    "fig, ax = plt.subplots()\n",
    "fig.set_size_inches(16, 8)\n",
    "\n",
    "# Create a variable for the x-values.\n",
    "females = marathon[marathon['M/F'] == 'F']\n",
    "\n",
    "# Create a histogram.\n",
    "ax.hist(females['Official Time'], bins=20)"
   ]
  },
  {
   "cell_type": "markdown",
   "id": "f8a56d10",
   "metadata": {},
   "source": [
    "### 6. What is the relationship between gender and race times?"
   ]
  },
  {
   "cell_type": "code",
   "execution_count": null,
   "id": "4a95f46d",
   "metadata": {},
   "outputs": [],
   "source": [
    "# Create a data set for males and females to use in the matplotlib boxplot.\n",
    "males = marathon[marathon['M/F'] == 'M']\n",
    "females = marathon[marathon['M/F'] == 'F']\n",
    "\n",
    "# Create a variable for the boxplot.\n",
    "males = males['official_time_minutes']\n",
    "females = females['official_time_minutes']\n",
    "\n",
    "# Create a boxplot using Matplotlib.\n",
    "plt.boxplot([males,females], labels=['M','F'], patch_artist=True)\n",
    "\n",
    "# View the boxplot.\n",
    "plt.show()"
   ]
  },
  {
   "cell_type": "code",
   "execution_count": null,
   "id": "637f93d2",
   "metadata": {},
   "outputs": [],
   "source": [
    "# Create a second boxplot using Seaborn.\n",
    "sns.boxplot(x='M/F', y='official_time_minutes', data=marathon)"
   ]
  }
 ],
 "metadata": {
  "kernelspec": {
   "display_name": "Python 3 (ipykernel)",
   "language": "python",
   "name": "python3"
  },
  "language_info": {
   "codemirror_mode": {
    "name": "ipython",
    "version": 3
   },
   "file_extension": ".py",
   "mimetype": "text/x-python",
   "name": "python",
   "nbconvert_exporter": "python",
   "pygments_lexer": "ipython3",
   "version": "3.9.7"
  }
 },
 "nbformat": 4,
 "nbformat_minor": 5
}
