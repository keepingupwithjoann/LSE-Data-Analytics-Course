{
 "cells": [
  {
   "cell_type": "markdown",
   "id": "bbe62c0a",
   "metadata": {},
   "source": [
    "### LSE Data Analytics Online Career Accelerator\n",
    "\n",
    "# DA201: Data Analytics Using Python"
   ]
  },
  {
   "cell_type": "markdown",
   "id": "f718e3ba",
   "metadata": {},
   "source": [
    "## Demonstration: Penguins case study"
   ]
  },
  {
   "cell_type": "markdown",
   "id": "1832c72b",
   "metadata": {},
   "source": [
    "A wildlife conservation company operates small boat tours to raise funds for their preservation work. The natural habitats for a number of penguin species are the locations for the boat tours, and these are the areas the company is striving to preserve. \n",
    "\n",
    "The boat tours cater to tourists who wish to view penguins in their natural habitat and learn more about the different species. The penguins live on a number of islands, and the company wants to optimise their boat tours so that tourists have the best chance of seeing the penguins. The visualisations will serve to inform the company strategy and also be included on the website, impact reports, and promotional materials such as brochures distributed to tourists.\n",
    "\n",
    "Note: You will use this notebook for 4.1.10 (steps 1-6), 4.2.3 (steps 7-11) and the optional Extended study: One, two, and three dimensions in Matplotlib (steps 12-14)\n",
    "\n",
    "Let’s help save some penguins! "
   ]
  },
  {
   "cell_type": "markdown",
   "id": "105ce500",
   "metadata": {},
   "source": [
    "## 1. Prepare your workstation"
   ]
  },
  {
   "cell_type": "code",
   "execution_count": null,
   "id": "9bec3201",
   "metadata": {},
   "outputs": [],
   "source": [
    "# Import Matplotlib, Seaborn, and Pandas.\n",
    "import matplotlib.pyplot as plt\n",
    "import seaborn as sns\n",
    "import pandas as pd\n",
    "\n",
    "# Read the CSV file.\n",
    "penguins = pd.read_csv('penguins.csv')\n",
    "\n",
    "# View the DataFrame.\n",
    "print(penguins.shape)\n",
    "print(penguins.dtypes)\n",
    "print(penguins.columns)\n",
    "penguins.head()"
   ]
  },
  {
   "cell_type": "markdown",
   "id": "016d2584",
   "metadata": {},
   "source": [
    "# 4.1.10 Outlier analysis: Pairplots"
   ]
  },
  {
   "cell_type": "markdown",
   "id": "e6fc9881",
   "metadata": {},
   "source": [
    "## 2. Create a pairplot"
   ]
  },
  {
   "cell_type": "code",
   "execution_count": null,
   "id": "573bc45b",
   "metadata": {},
   "outputs": [],
   "source": [
    "# Create a simple pairplot.\n",
    "sns.pairplot(penguins)"
   ]
  },
  {
   "cell_type": "markdown",
   "id": "54a39585",
   "metadata": {},
   "source": [
    "## 3. Pairplot: Layered kernel density estimate"
   ]
  },
  {
   "cell_type": "code",
   "execution_count": null,
   "id": "84681c2e",
   "metadata": {},
   "outputs": [],
   "source": [
    "# Create a pairplot with KDE (kernel density estimate).\n",
    "sns.pairplot(penguins, hue='species')"
   ]
  },
  {
   "cell_type": "markdown",
   "id": "dafe1e3b",
   "metadata": {},
   "source": [
    "## 4. Pairplot: Facetgrid method"
   ]
  },
  {
   "cell_type": "code",
   "execution_count": null,
   "id": "63e67cc4",
   "metadata": {},
   "outputs": [],
   "source": [
    "# Create a pairplot with the facetgrid method.\n",
    "sns.pairplot(penguins, hue='species', diag_kind='hist')"
   ]
  },
  {
   "cell_type": "markdown",
   "id": "c1e9cc1a",
   "metadata": {},
   "source": [
    "## 5. Pairplot: Adjusting size"
   ]
  },
  {
   "cell_type": "code",
   "execution_count": null,
   "id": "5009dd27",
   "metadata": {},
   "outputs": [],
   "source": [
    "# Create a pairplot and indicate the height.\n",
    "sns.pairplot(penguins, hue='species', diag_kind='hist', height=2)"
   ]
  },
  {
   "cell_type": "markdown",
   "id": "741d589f",
   "metadata": {},
   "source": [
    "## 6. Remove any redundant plots"
   ]
  },
  {
   "cell_type": "code",
   "execution_count": null,
   "id": "2cd875e7",
   "metadata": {},
   "outputs": [],
   "source": [
    "# Remove any redundant plots.\n",
    "sns.pairplot(penguins,\n",
    "             x_vars=['bill_length_mm', 'bill_depth_mm', 'flipper_length_mm'],\n",
    "             y_vars=['bill_length_mm', 'bill_depth_mm'])"
   ]
  },
  {
   "cell_type": "markdown",
   "id": "b92b387b",
   "metadata": {},
   "source": [
    "# 4.2.3 Customising styles, colours, titles, and labels"
   ]
  },
  {
   "cell_type": "markdown",
   "id": "c08850c7",
   "metadata": {},
   "source": [
    "## 7. Adjust figure size"
   ]
  },
  {
   "cell_type": "code",
   "execution_count": null,
   "id": "ada97614",
   "metadata": {},
   "outputs": [],
   "source": [
    "# Set the figure size.\n",
    "sns.set(rc={'figure.figsize':(5, 5)})\n",
    "\n",
    "# Set the tick style.\n",
    "sns.set_style('ticks')\n",
    "\n",
    "# Set the colour style.\n",
    "sns.set_style('darkgrid')\n",
    "\n",
    "# Plot the scatterplot.\n",
    "sns.scatterplot(data=penguins, x='bill_length_mm', \n",
    "                y='flipper_length_mm', hue='species')"
   ]
  },
  {
   "cell_type": "markdown",
   "id": "587c773d",
   "metadata": {},
   "source": [
    "## 8. Customise individual attributes"
   ]
  },
  {
   "cell_type": "code",
   "execution_count": null,
   "id": "8ed0be6a",
   "metadata": {},
   "outputs": [],
   "source": [
    "#Run this first.\n",
    "sns.axes_style()"
   ]
  },
  {
   "cell_type": "code",
   "execution_count": null,
   "id": "7bb0a731",
   "metadata": {},
   "outputs": [],
   "source": [
    "# Set the style of ticks.\n",
    "sns.set_style('ticks', {'axes.facecolor': '#dddddd',\n",
    "                        'axes.spines.top': False,\n",
    "                        'axes.spines.right': False})\n",
    "\n",
    "# Create the scatterplot.\n",
    "sns.scatterplot(data=penguins, x='bill_length_mm',\n",
    "                y='flipper_length_mm', hue='species')"
   ]
  },
  {
   "cell_type": "markdown",
   "id": "f03b375b",
   "metadata": {},
   "source": [
    "## 9. Change colour of a data series in Seaborn"
   ]
  },
  {
   "cell_type": "code",
   "execution_count": null,
   "id": "8cf8a3ea",
   "metadata": {},
   "outputs": [],
   "source": [
    "# Set the style first.\n",
    "sns.set_style('ticks')\n",
    "\n",
    "# Specify the Pastel palette.\n",
    "sns.scatterplot(data=penguins, x='bill_length_mm',\n",
    "                y='flipper_length_mm', hue='species',\n",
    "                palette='pastel')"
   ]
  },
  {
   "cell_type": "markdown",
   "id": "8b79ea36",
   "metadata": {},
   "source": [
    "## 10. Make it accessible"
   ]
  },
  {
   "cell_type": "code",
   "execution_count": null,
   "id": "e7e9d7fa",
   "metadata": {},
   "outputs": [],
   "source": [
    "# Set the colour as colorblind.\n",
    "sns.scatterplot(data=penguins, x='bill_length_mm',\n",
    "                y='flipper_length_mm', hue='species',\n",
    "                palette='colorblind')"
   ]
  },
  {
   "cell_type": "markdown",
   "id": "89ae2117",
   "metadata": {},
   "source": [
    "## 11. Customise labels"
   ]
  },
  {
   "cell_type": "code",
   "execution_count": null,
   "id": "b8061066",
   "metadata": {},
   "outputs": [],
   "source": [
    "# Plot the scatterplot.\n",
    "ax = sns.scatterplot(data=penguins, x='bill_length_mm',\n",
    "                     y='flipper_length_mm', hue='species',\n",
    "                     palette='colorblind')\n",
    "\n",
    "# Specify the labels.\n",
    "ax.set_xlabel(\"Bill length (mm)\")\n",
    "ax.set_ylabel(\"Flipper length (mm)\")\n",
    "ax.set_title(\"Penguins Bill vs. Flipper Length\")"
   ]
  },
  {
   "cell_type": "markdown",
   "id": "2b50ad12",
   "metadata": {},
   "source": [
    "## (Optional) Extended study: One, two, and three dimensions in Matplotlib"
   ]
  },
  {
   "cell_type": "markdown",
   "id": "b959389f",
   "metadata": {},
   "source": [
    "## 12. Create a two-colour barplot"
   ]
  },
  {
   "cell_type": "code",
   "execution_count": null,
   "id": "6bc55fd2",
   "metadata": {},
   "outputs": [],
   "source": [
    "# Create a variable.\n",
    "penguin_sample_size = 10\n",
    "\n",
    "# Create a second variable.\n",
    "random_penguins = penguins.sample(n=penguin_sample_size)\n",
    "\n",
    "# Create an empty plot.\n",
    "fig, ax = plt.subplots()\n",
    "\n",
    "# Set the figure size.\n",
    "fig.set_size_inches(8, 8)\n",
    "\n",
    "# Create a barplot and specify parameters.\n",
    "plt.bar(list(range(penguin_sample_size)),\n",
    "        random_penguins['body_mass_g'],\n",
    "        color=['green', 'red'])\n",
    "\n",
    "# Specify ticks, labels, and title.\n",
    "ax.set_xticks(list(range(penguin_sample_size)))\n",
    "ax.set_xlabel(\"Penguin Number\")\n",
    "ax.set_ylabel(\"Body Mass (g)\")\n",
    "ax.set_title(\"Penguins Masses\")"
   ]
  },
  {
   "cell_type": "markdown",
   "id": "ffe1230c",
   "metadata": {},
   "source": [
    "## 13. Pastel2 colormap demonstration"
   ]
  },
  {
   "cell_type": "code",
   "execution_count": null,
   "id": "2d688d11",
   "metadata": {},
   "outputs": [],
   "source": [
    "import numpy as np\n",
    "\n",
    "# Create an empty plot.\n",
    "fig, ax = plt.subplots()\n",
    "\n",
    "# Set the plot size.\n",
    "fig.set_size_inches(8, 8)\n",
    "\n",
    "# Create a barplot.\n",
    "ax.bar(list(range(penguin_sample_size)),\n",
    "       random_penguins['body_mass_g'],\n",
    "       color=plt.cm.Pastel2(np.linspace(0, 1, 10)))\n",
    "\n",
    "# Specify ticks, labels, and title.\n",
    "ax.set_xticks(list(range(penguin_sample_size)))\n",
    "ax.set_xlabel(\"Penguin Number\")\n",
    "ax.set_ylabel(\"Body Mass (g)\")\n",
    "ax.set_title(\"Penguins Masses\")"
   ]
  },
  {
   "cell_type": "markdown",
   "id": "d8dd8478",
   "metadata": {},
   "source": [
    "## 14. Cycle the colormap"
   ]
  },
  {
   "cell_type": "code",
   "execution_count": null,
   "id": "72e2540f",
   "metadata": {},
   "outputs": [],
   "source": [
    "# Specify the colormap to use.\n",
    "plt.rcParams['axes.prop_cycle'] = plt.cycler('color',\n",
    "                                             plt.cm.Paired(np.linspace(0, 4, 10)))\n",
    "\n",
    "# Create an empty plot.\n",
    "fig, ax = plt.subplots()\n",
    "\n",
    "# Specify the size of the plot.\n",
    "fig.set_size_inches(8, 8)\n",
    "\n",
    "# Create variables.\n",
    "penguins = penguins.sort_values('bill_length_mm')\n",
    "male_penguins = penguins[penguins['sex'] == 'MALE']\n",
    "adelie = male_penguins[male_penguins['species'] == 'Adelie']\n",
    "gentoo = male_penguins[male_penguins['species'] == 'Gentoo']\n",
    "chinstrap = male_penguins[male_penguins['species'] == 'Chinstrap']\n",
    "\n",
    "# Create the plot.\n",
    "ax.plot(adelie['bill_length_mm'],\n",
    "        adelie['flipper_length_mm'], label='Adelie')\n",
    "ax.plot(gentoo['bill_length_mm'],\n",
    "        gentoo['flipper_length_mm'], label='Gentoo')\n",
    "ax.plot(chinstrap['bill_length_mm'],\n",
    "        chinstrap['flipper_length_mm'], label='Chinstrap')\n",
    "\n",
    "# Add labels, legend, title, etc.\n",
    "ax.legend()\n",
    "ax.set_xlabel(\"Bill Length (mm)\")\n",
    "ax.set_ylabel(\"Flipper Length (mm)\")\n",
    "ax.set_title(\"Penguin Bill vs Flipper Length (Male)\")"
   ]
  }
 ],
 "metadata": {
  "kernelspec": {
   "display_name": "Python 3 (ipykernel)",
   "language": "python",
   "name": "python3"
  },
  "language_info": {
   "codemirror_mode": {
    "name": "ipython",
    "version": 3
   },
   "file_extension": ".py",
   "mimetype": "text/x-python",
   "name": "python",
   "nbconvert_exporter": "python",
   "pygments_lexer": "ipython3",
   "version": "3.9.12"
  }
 },
 "nbformat": 4,
 "nbformat_minor": 5
}
