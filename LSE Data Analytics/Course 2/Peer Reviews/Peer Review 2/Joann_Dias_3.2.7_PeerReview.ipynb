{
 "cells": [
  {
   "cell_type": "code",
   "execution_count": 8,
   "id": "c282d709-1e2c-436d-960a-912207725225",
   "metadata": {},
   "outputs": [],
   "source": [
    "import pandas as pd   # pandas helps us read and work with tables"
   ]
  },
  {
   "cell_type": "code",
   "execution_count": 17,
   "id": "cf3b7d4a-aa52-4128-925f-296b6b46b595",
   "metadata": {},
   "outputs": [
    {
     "data": {
      "text/html": [
       "<div>\n",
       "<style scoped>\n",
       "    .dataframe tbody tr th:only-of-type {\n",
       "        vertical-align: middle;\n",
       "    }\n",
       "\n",
       "    .dataframe tbody tr th {\n",
       "        vertical-align: top;\n",
       "    }\n",
       "\n",
       "    .dataframe thead th {\n",
       "        text-align: right;\n",
       "    }\n",
       "</style>\n",
       "<table border=\"1\" class=\"dataframe\">\n",
       "  <thead>\n",
       "    <tr style=\"text-align: right;\">\n",
       "      <th></th>\n",
       "      <th>StockCode</th>\n",
       "      <th>Description</th>\n",
       "    </tr>\n",
       "  </thead>\n",
       "  <tbody>\n",
       "    <tr>\n",
       "      <th>0</th>\n",
       "      <td>10002</td>\n",
       "      <td>INFLATABLE POLITICAL GLOBE</td>\n",
       "    </tr>\n",
       "    <tr>\n",
       "      <th>1</th>\n",
       "      <td>10080</td>\n",
       "      <td>GROOVY CACTUS INFLATABLE</td>\n",
       "    </tr>\n",
       "    <tr>\n",
       "      <th>2</th>\n",
       "      <td>10120</td>\n",
       "      <td>DOGGY RUBBER</td>\n",
       "    </tr>\n",
       "    <tr>\n",
       "      <th>3</th>\n",
       "      <td>10123C</td>\n",
       "      <td>HEARTS WRAPPING TAPE</td>\n",
       "    </tr>\n",
       "    <tr>\n",
       "      <th>4</th>\n",
       "      <td>10124A</td>\n",
       "      <td>SPOTS ON RED BOOKCOVER TAPE</td>\n",
       "    </tr>\n",
       "  </tbody>\n",
       "</table>\n",
       "</div>"
      ],
      "text/plain": [
       "  StockCode                  Description\n",
       "0     10002   INFLATABLE POLITICAL GLOBE\n",
       "1     10080     GROOVY CACTUS INFLATABLE\n",
       "2     10120                 DOGGY RUBBER\n",
       "3    10123C         HEARTS WRAPPING TAPE\n",
       "4    10124A  SPOTS ON RED BOOKCOVER TAPE"
      ]
     },
     "execution_count": 17,
     "metadata": {},
     "output_type": "execute_result"
    }
   ],
   "source": [
    "df = pd.read_csv(\"products.csv\")   # load the products into a table called df\n",
    "df.head()                          # show the first few lines to check it loaded right"
   ]
  },
  {
   "cell_type": "markdown",
   "id": "8868a6ea-64ba-48c6-b12d-91fa368d38fe",
   "metadata": {},
   "source": [
    "Observations: Data has been loaded correctly!"
   ]
  },
  {
   "cell_type": "code",
   "execution_count": 20,
   "id": "ef48b00e-4b71-4be0-bf1d-d8b4761e7c56",
   "metadata": {},
   "outputs": [],
   "source": [
    "def count_keyword(keyword):\n",
    "    \"\"\"\n",
    "    Count how many product descriptions contain the given keyword.\n",
    "    \"\"\"\n",
    "    return df['Description'].str.contains(keyword, case=False).sum()"
   ]
  },
  {
   "cell_type": "code",
   "execution_count": 21,
   "id": "e1569489-7099-4538-8c6d-d07c8fa41056",
   "metadata": {},
   "outputs": [
    {
     "name": "stdout",
     "output_type": "stream",
     "text": [
      "Products with ‘Fire’: 9\n",
      "Products with ‘candle’: 178\n",
      "Products with ‘matches’: 6\n"
     ]
    }
   ],
   "source": [
    "fire_count    = count_keyword(\"Fire\")\n",
    "candle_count  = count_keyword(\"candle\")\n",
    "matches_count = count_keyword(\"matches\")\n",
    "\n",
    "print(\"Products with ‘Fire’:\", fire_count)\n",
    "print(\"Products with ‘candle’:\", candle_count)\n",
    "print(\"Products with ‘matches’:\", matches_count)"
   ]
  },
  {
   "cell_type": "markdown",
   "id": "4d31b5f2-b859-4922-86b4-d8dd785f4c9a",
   "metadata": {},
   "source": [
    "Observations\n",
    "1. We found 9 items mentioning “Fire.”\n",
    "2. We found 178 items mentioning “candle.”\n",
    "3. We found 6 items mentioning “matches.”"
   ]
  },
  {
   "cell_type": "markdown",
   "id": "316e3a9a-f0b1-4e45-86bc-a1f7cab789f4",
   "metadata": {},
   "source": [
    "Problem Statement: One of your clients, Mr Smith, owns a general merchandise shop, and the company needs to reevaluate its current policy due to a recent surge in fire-related incidents in retail stores. The insurance company wants to understand whether Mr Smith's shop carries any items that could be potentially fire-hazardous to assess the potential risks better."
   ]
  },
  {
   "cell_type": "code",
   "execution_count": 30,
   "id": "71b1cf2a-a5fa-4d97-9e2b-e03f392a910f",
   "metadata": {},
   "outputs": [
    {
     "name": "stdout",
     "output_type": "stream",
     "text": [
      "Total Hazardous items 193\n"
     ]
    }
   ],
   "source": [
    "print(\"Total Hazardous items\", fire_count+candle_count+matches_count)"
   ]
  },
  {
   "cell_type": "markdown",
   "id": "aff5a3fc-8422-417e-b5f1-2e1c151d6c79",
   "metadata": {},
   "source": [
    "Observations: Mr Smith's shop carries 193 items that could be potentially fire-hazardous to assess the potential risks better."
   ]
  }
 ],
 "metadata": {
  "kernelspec": {
   "display_name": "Python 3 (ipykernel)",
   "language": "python",
   "name": "python3"
  },
  "language_info": {
   "codemirror_mode": {
    "name": "ipython",
    "version": 3
   },
   "file_extension": ".py",
   "mimetype": "text/x-python",
   "name": "python",
   "nbconvert_exporter": "python",
   "pygments_lexer": "ipython3",
   "version": "3.12.7"
  }
 },
 "nbformat": 4,
 "nbformat_minor": 5
}
